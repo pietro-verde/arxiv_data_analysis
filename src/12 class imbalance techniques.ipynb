{
 "cells": [
  {
   "cell_type": "code",
   "execution_count": 1,
   "id": "c5355663-dac0-479e-85f4-1825e32f5bfc",
   "metadata": {},
   "outputs": [],
   "source": [
    "import warnings\n",
    "warnings.filterwarnings(\"ignore\")\n",
    "\n",
    "import numpy as np\n",
    "import os\n",
    "import pandas as pd\n",
    "import pickle\n",
    "from sklearn.naive_bayes import MultinomialNB\n",
    "from sklearn.linear_model import LogisticRegression\n",
    "from sklearn.preprocessing import MinMaxScaler\n",
    "from sklearn import metrics\n",
    "\n",
    "from trainevalutils import generate_model_report\n",
    "from trainevalutils import *\n",
    "\n",
    "from imblearn.over_sampling import RandomOverSampler\n",
    "from imblearn.under_sampling import RandomUnderSampler\n",
    "from imblearn.pipeline import Pipeline\n",
    "from imblearn.over_sampling import SMOTE"
   ]
  },
  {
   "cell_type": "code",
   "execution_count": 2,
   "id": "1fce5d6f-89e0-46a9-9e02-bf9dd6d23474",
   "metadata": {},
   "outputs": [],
   "source": [
    "SEED = 3742"
   ]
  },
  {
   "cell_type": "code",
   "execution_count": 3,
   "id": "c3840a73-2d75-4b6a-9510-e938f49e3fe8",
   "metadata": {},
   "outputs": [],
   "source": [
    "OUTPUT_NAME = 'results_rescaling.pkl'\n",
    "\n",
    "OUTPUT_DIR = '../results/'\n",
    "for dir_ in [OUTPUT_DIR]:\n",
    "    if not os.path.exists(dir_):\n",
    "        os.makedirs(dir_)"
   ]
  },
  {
   "cell_type": "code",
   "execution_count": 10,
   "id": "c6b111c3-420d-4339-9f92-40634f4962f4",
   "metadata": {},
   "outputs": [],
   "source": [
    "FILE = \"../data/w2v-vectors_goog_pren.parquet.gzip\"\n",
    "data = pd.read_parquet(FILE)"
   ]
  },
  {
   "cell_type": "code",
   "execution_count": 11,
   "id": "d8f0c8cc-f153-48fd-a994-d3c40e17b725",
   "metadata": {},
   "outputs": [],
   "source": [
    "### load train - val indexes\n",
    "train_idx = pickle.load(open(\"../data/wip/train_idx.pkl\", 'rb'))\n",
    "val_idx = pickle.load(open(\"../data/wip/val_idx.pkl\", 'rb'))\n",
    "\n",
    "### split data by indexes\n",
    "training_data = data.loc[train_idx]\n",
    "validation_data = data.loc[val_idx]"
   ]
  },
  {
   "cell_type": "code",
   "execution_count": 12,
   "id": "2dfda055-e5dc-4ff8-9195-00263909f8c8",
   "metadata": {},
   "outputs": [],
   "source": [
    "del data"
   ]
  },
  {
   "cell_type": "code",
   "execution_count": 13,
   "id": "0880feb6-62b4-4b86-b069-ef606398c9b7",
   "metadata": {},
   "outputs": [],
   "source": [
    "features = 'google-news_w2v_mean_prenorm'\n",
    "target = 'target'\n",
    "\n",
    "X_train_raw = training_data[features]\n",
    "X_val_raw = validation_data[features]\n",
    "\n",
    "y_train = training_data[target]\n",
    "y_val = validation_data[target]"
   ]
  },
  {
   "cell_type": "code",
   "execution_count": 14,
   "id": "d0310c48-4052-40f0-9def-a61a742086f5",
   "metadata": {},
   "outputs": [],
   "source": [
    "# Stack\n",
    "X_train_stacked = np.stack(X_train_raw)\n",
    "X_val_stacked = np.stack(X_val_raw)\n",
    "\n",
    "# handling negative values\n",
    "scaler = MinMaxScaler()\n",
    "X_train = scaler.fit_transform(X_train_stacked)\n",
    "X_val = scaler.transform(X_val_stacked)"
   ]
  },
  {
   "cell_type": "code",
   "execution_count": 15,
   "id": "07254a9c-ee67-454a-8dfe-430517ba37fc",
   "metadata": {},
   "outputs": [],
   "source": [
    "def run_classifier(clf, model_name, X_tr, y_tr):\n",
    "    results = []\n",
    "    clf.fit(X_tr, y_tr)\n",
    "    title = model_name+'_val'\n",
    "    print(\"\\n\"+title+\"\\n\")\n",
    "    result_val = evaluate(title, clf, X_val, y_val)\n",
    "    results.append(result_val)\n",
    "    print(\"=====================================================\\n\")\n",
    "    return results"
   ]
  },
  {
   "cell_type": "markdown",
   "id": "dbc95a99-9874-4655-a24a-77ad9a948219",
   "metadata": {},
   "source": [
    "### Model LRw2vgoogCWbal\n",
    "Logistic Regression with default class weight (balanced)"
   ]
  },
  {
   "cell_type": "code",
   "execution_count": 12,
   "id": "ce13ab6f-c445-4eaa-9fc8-a9d26a225a08",
   "metadata": {},
   "outputs": [
    {
     "name": "stdout",
     "output_type": "stream",
     "text": [
      "\n",
      "Results of Logistic Regression on the validation set\n",
      "\n",
      "\n",
      "LRw2vgoogCWbal_val\n",
      "\n",
      "Accuracy: 0.8384686171793596\n",
      "Precision (macro): 0.7343620130781237\n",
      "Recall (macro): 0.7978306304374582\n",
      "F1-score (macro): 0.7508956111806893\n",
      "\n",
      "Classification report:\n",
      "              precision    recall  f1-score   support\n",
      "\n",
      "     Physics       0.97      0.88      0.92    153261\n",
      " Mathematics       0.79      0.84      0.82     60818\n",
      "Computer Sc.       0.81      0.75      0.78     50476\n",
      "       Other       0.37      0.72      0.49     14722\n",
      "\n",
      "    accuracy                           0.84    279277\n",
      "   macro avg       0.73      0.80      0.75    279277\n",
      "weighted avg       0.87      0.84      0.85    279277\n",
      "\n",
      "=====================================================\n",
      "\n"
     ]
    }
   ],
   "source": [
    "print(\"\\nResults of Logistic Regression on the validation set\\n\")\n",
    "logreg_CWbal = LogisticRegression(class_weight='balanced')\n",
    "results_lr_CWbal = run_classifier(logreg_CWbal, 'LRw2vgoogCWbal', X_train, y_train)\n",
    "\n",
    "with open('tmp/res/LRw2vgoogCWbal.pkl','wb') as f:\n",
    "    pickle.dump(results_lr_CWbal, f)"
   ]
  },
  {
   "cell_type": "markdown",
   "id": "8491723e-fdbf-4cac-b0ce-d0ebc2e1fce3",
   "metadata": {},
   "source": [
    "### Model LRw2vgoogCWgscv\n",
    "Logistic Regression with custom weights calculated using grid search cross validation in the previous Jupyter Notebook"
   ]
  },
  {
   "cell_type": "code",
   "execution_count": 13,
   "id": "9fe87110-d7ce-4818-b904-303fa2add319",
   "metadata": {},
   "outputs": [
    {
     "name": "stdout",
     "output_type": "stream",
     "text": [
      "\n",
      "Results of Logistic Regression on the validation set\n",
      "\n",
      "\n",
      "LRw2vgoogCWgscv_val\n",
      "\n",
      "Accuracy: 0.842181776515789\n",
      "Precision (macro): 0.735224127740908\n",
      "Recall (macro): 0.7934784923253753\n",
      "F1-score (macro): 0.7544930190732568\n",
      "\n",
      "Classification report:\n",
      "              precision    recall  f1-score   support\n",
      "\n",
      "     Physics       0.97      0.88      0.92    153261\n",
      " Mathematics       0.78      0.85      0.81     60818\n",
      "Computer Sc.       0.80      0.78      0.79     50476\n",
      "       Other       0.39      0.67      0.50     14722\n",
      "\n",
      "    accuracy                           0.84    279277\n",
      "   macro avg       0.74      0.79      0.75    279277\n",
      "weighted avg       0.87      0.84      0.85    279277\n",
      "\n",
      "=====================================================\n",
      "\n"
     ]
    }
   ],
   "source": [
    "print(\"\\nResults of Logistic Regression on the validation set\\n\")\n",
    "grid_result = pickle.load(open(\"tmp/grid_result.pkl\", 'rb'))\n",
    "logreg_CWgscv = LogisticRegression(**grid_result.best_params_)\n",
    "results_lr_CWgscv = run_classifier(logreg_CWgscv, 'LRw2vgoogCWgscv', X_train, y_train)\n",
    "\n",
    "with open('tmp/res/LRw2vgoogCWgscv.pkl','wb') as f:\n",
    "    pickle.dump(results_lr_CWgscv, f)"
   ]
  },
  {
   "cell_type": "markdown",
   "id": "46171b09-d8d9-4618-856e-87c90f937d05",
   "metadata": {},
   "source": [
    "### Model LRw2vgoogUnder\n",
    "Logistic Regression with random undersampling"
   ]
  },
  {
   "cell_type": "code",
   "execution_count": 14,
   "id": "bf5ce4a2-3509-4c9c-ae71-8b24376af734",
   "metadata": {},
   "outputs": [],
   "source": [
    "randomUnderSampler = RandomUnderSampler()\n",
    "X_undersampled, y_undersampled = randomUnderSampler.fit_resample(X_train, y_train)"
   ]
  },
  {
   "cell_type": "code",
   "execution_count": 19,
   "id": "9864f510-e87c-489a-ab5d-d6150f4bb016",
   "metadata": {},
   "outputs": [
    {
     "data": {
      "text/plain": [
       "0    83630\n",
       "1    83630\n",
       "2    83630\n",
       "3    83630\n",
       "Name: target, dtype: int64"
      ]
     },
     "execution_count": 19,
     "metadata": {},
     "output_type": "execute_result"
    }
   ],
   "source": [
    "y_undersampled.value_counts()"
   ]
  },
  {
   "cell_type": "code",
   "execution_count": 20,
   "id": "089dfdbb-f6a0-41d5-8958-7c922cff0a42",
   "metadata": {},
   "outputs": [
    {
     "name": "stdout",
     "output_type": "stream",
     "text": [
      "\n",
      "Results of Logistic Regression on the validation set\n",
      "\n",
      "\n",
      "LRw2vgoogUnder_val\n",
      "\n",
      "Accuracy: 0.8335487705754502\n",
      "Precision (macro): 0.7297957568753975\n",
      "Recall (macro): 0.7955150015151787\n",
      "F1-score (macro): 0.7460560133537233\n",
      "\n",
      "Classification report:\n",
      "              precision    recall  f1-score   support\n",
      "\n",
      "     Physics       0.97      0.87      0.92    153261\n",
      " Mathematics       0.78      0.85      0.81     60818\n",
      "Computer Sc.       0.81      0.74      0.77     50476\n",
      "       Other       0.36      0.73      0.48     14722\n",
      "\n",
      "    accuracy                           0.83    279277\n",
      "   macro avg       0.73      0.80      0.75    279277\n",
      "weighted avg       0.87      0.83      0.84    279277\n",
      "\n",
      "=====================================================\n",
      "\n"
     ]
    }
   ],
   "source": [
    "print(\"\\nResults of Logistic Regression on the validation set\\n\")\n",
    "logreg_under= LogisticRegression()\n",
    "results_lr_under = run_classifier(logreg_under, 'LRw2vgoogUnder', X_undersampled, y_undersampled)\n",
    "\n",
    "with open('tmp/res/LRw2vgoogUnder.pkl','wb') as f:\n",
    "    pickle.dump(results_lr_under, f)"
   ]
  },
  {
   "cell_type": "markdown",
   "id": "31bda44e-bc05-4484-b857-f2b0b67ede3e",
   "metadata": {},
   "source": [
    "### Model LRw2vgoogOver\n",
    "Logistic Regression with random random over sampling"
   ]
  },
  {
   "cell_type": "code",
   "execution_count": 21,
   "id": "1ea4f2b1-52a7-4cf2-b2b7-5a6576fff4ab",
   "metadata": {},
   "outputs": [],
   "source": [
    "randomOverSampler = RandomOverSampler()\n",
    "X_oversampled, y_oversampled = randomOverSampler.fit_resample(X_train, y_train)"
   ]
  },
  {
   "cell_type": "code",
   "execution_count": 22,
   "id": "7b8a8e94-852c-483f-96c5-5c630e395bb1",
   "metadata": {},
   "outputs": [
    {
     "data": {
      "text/plain": [
       "2    870462\n",
       "0    870462\n",
       "1    870462\n",
       "3    870462\n",
       "Name: target, dtype: int64"
      ]
     },
     "execution_count": 22,
     "metadata": {},
     "output_type": "execute_result"
    }
   ],
   "source": [
    "y_oversampled.value_counts()"
   ]
  },
  {
   "cell_type": "code",
   "execution_count": 23,
   "id": "bce83be2-62ba-475f-a4ca-28337f86279d",
   "metadata": {},
   "outputs": [
    {
     "name": "stdout",
     "output_type": "stream",
     "text": [
      "\n",
      "Results of Logistic Regression on the validation set\n",
      "\n",
      "\n",
      "LRw2vgoogOver_val\n",
      "\n",
      "Accuracy: 0.8386977803399492\n",
      "Precision (macro): 0.7341777862261765\n",
      "Recall (macro): 0.7972390781084011\n",
      "F1-score (macro): 0.7509814788535876\n",
      "\n",
      "Classification report:\n",
      "              precision    recall  f1-score   support\n",
      "\n",
      "     Physics       0.97      0.88      0.92    153261\n",
      " Mathematics       0.79      0.84      0.82     60818\n",
      "Computer Sc.       0.81      0.75      0.78     50476\n",
      "       Other       0.37      0.72      0.49     14722\n",
      "\n",
      "    accuracy                           0.84    279277\n",
      "   macro avg       0.73      0.80      0.75    279277\n",
      "weighted avg       0.87      0.84      0.85    279277\n",
      "\n",
      "=====================================================\n",
      "\n"
     ]
    }
   ],
   "source": [
    "print(\"\\nResults of Logistic Regression on the validation set\\n\")\n",
    "logreg_over= LogisticRegression()\n",
    "results_lr_over = run_classifier(logreg_over, 'LRw2vgoogOver', X_oversampled, y_oversampled)\n",
    "\n",
    "with open('tmp/res/LRw2vgoogOver.pkl','wb') as f:\n",
    "    pickle.dump(results_lr_over, f)"
   ]
  },
  {
   "cell_type": "markdown",
   "id": "b9bdff88-6d47-455c-99b6-f06d032f0fb1",
   "metadata": {},
   "source": [
    "### Model LRw2vgoogSmote\n",
    "Logistic Regression with SMOTE"
   ]
  },
  {
   "cell_type": "code",
   "execution_count": 18,
   "id": "e5dfb089-73ef-4b44-b0d8-711e5100ed1e",
   "metadata": {},
   "outputs": [],
   "source": [
    "smote = SMOTE(random_state=SEED)\n",
    "X_smote, y_smote = smote.fit_resample(X_train, y_train)"
   ]
  },
  {
   "cell_type": "code",
   "execution_count": 19,
   "id": "a8d77fe3-92ac-4e06-857f-3edbe023bb82",
   "metadata": {},
   "outputs": [],
   "source": [
    "pickle.dump(X_smote, open(\"tmp/X_LRw2vgoogSmote.pkl\", 'wb'))\n",
    "pickle.dump(y_smote, open(\"tmp/y_LRw2vgoogSmote.pkl\", 'wb'))"
   ]
  },
  {
   "cell_type": "code",
   "execution_count": 4,
   "id": "d02b8499-03ca-461d-96c8-5126e7bacfaa",
   "metadata": {},
   "outputs": [],
   "source": [
    "X_smote = pickle.load(open(\"tmp/X_LRw2vgoogSmote.pkl\", 'rb'))"
   ]
  },
  {
   "cell_type": "code",
   "execution_count": 5,
   "id": "c93e15f0-04e5-4561-a8c1-9eb6baf29e07",
   "metadata": {},
   "outputs": [],
   "source": [
    "y_smote = pickle.load(open(\"tmp/y_LRw2vgoogSmote.pkl\", 'rb'))"
   ]
  },
  {
   "cell_type": "code",
   "execution_count": 6,
   "id": "05e2942f-b91d-4aa0-b428-3a94252ffd30",
   "metadata": {},
   "outputs": [
    {
     "data": {
      "text/plain": [
       "2    870462\n",
       "0    870462\n",
       "1    870462\n",
       "3    870462\n",
       "Name: target, dtype: int64"
      ]
     },
     "execution_count": 6,
     "metadata": {},
     "output_type": "execute_result"
    }
   ],
   "source": [
    "y_smote.value_counts()"
   ]
  },
  {
   "cell_type": "code",
   "execution_count": 16,
   "id": "c63bb722-03aa-4721-90dc-a0c6477165ac",
   "metadata": {},
   "outputs": [
    {
     "name": "stdout",
     "output_type": "stream",
     "text": [
      "\n",
      "Results of Logistic Regression on the validation set\n",
      "\n",
      "\n",
      "LRw2vgoogSmote_val\n",
      "\n",
      "Accuracy: 0.8395750455640816\n",
      "Precision (macro): 0.7347512707237002\n",
      "Recall (macro): 0.7938723337245261\n",
      "F1-score (macro): 0.7507743106462288\n",
      "\n",
      "Classification report:\n",
      "              precision    recall  f1-score   support\n",
      "\n",
      "     Physics       0.96      0.88      0.92    153261\n",
      " Mathematics       0.79      0.84      0.81     60818\n",
      "Computer Sc.       0.81      0.75      0.78     50476\n",
      "       Other       0.38      0.70      0.49     14722\n",
      "\n",
      "    accuracy                           0.84    279277\n",
      "   macro avg       0.73      0.79      0.75    279277\n",
      "weighted avg       0.87      0.84      0.85    279277\n",
      "\n",
      "=====================================================\n",
      "\n"
     ]
    }
   ],
   "source": [
    "print(\"\\nResults of Logistic Regression on the validation set\\n\")\n",
    "logreg_smote = LogisticRegression()\n",
    "results_lr_smote = run_classifier(logreg_smote, 'LRw2vgoogSmote', X_smote, y_smote)\n",
    "\n",
    "with open('tmp/res/LRw2vgoogSmote.pkl','wb') as f:\n",
    "    pickle.dump(results_lr_smote, f)"
   ]
  },
  {
   "cell_type": "code",
   "execution_count": 22,
   "id": "9a8566ab-8311-4fdb-91da-77d02cec508f",
   "metadata": {},
   "outputs": [],
   "source": [
    "saved_res = []\n",
    "files = os.listdir('tmp/res')\n",
    "for f in files:\n",
    "    with open('tmp/res/'+f, 'rb') as f:\n",
    "        saved_res.append(pd.DataFrame(pickle.load(f)))"
   ]
  },
  {
   "cell_type": "code",
   "execution_count": 25,
   "id": "f7f2a3bb-f116-433d-9383-c867f3cf3b0e",
   "metadata": {},
   "outputs": [
    {
     "data": {
      "text/html": [
       "<div>\n",
       "<style scoped>\n",
       "    .dataframe tbody tr th:only-of-type {\n",
       "        vertical-align: middle;\n",
       "    }\n",
       "\n",
       "    .dataframe tbody tr th {\n",
       "        vertical-align: top;\n",
       "    }\n",
       "\n",
       "    .dataframe thead th {\n",
       "        text-align: right;\n",
       "    }\n",
       "</style>\n",
       "<table border=\"1\" class=\"dataframe\">\n",
       "  <thead>\n",
       "    <tr style=\"text-align: right;\">\n",
       "      <th></th>\n",
       "      <th>Description</th>\n",
       "      <th>Accuracy</th>\n",
       "      <th>Precision</th>\n",
       "      <th>Recall</th>\n",
       "      <th>F1-score</th>\n",
       "    </tr>\n",
       "  </thead>\n",
       "  <tbody>\n",
       "    <tr>\n",
       "      <th>0</th>\n",
       "      <td>LRw2vgoogCWbal_val</td>\n",
       "      <td>0.838469</td>\n",
       "      <td>0.734362</td>\n",
       "      <td>0.797831</td>\n",
       "      <td>0.750896</td>\n",
       "    </tr>\n",
       "    <tr>\n",
       "      <th>0</th>\n",
       "      <td>LRw2vgoogCWgscv_val</td>\n",
       "      <td>0.842182</td>\n",
       "      <td>0.735224</td>\n",
       "      <td>0.793478</td>\n",
       "      <td>0.754493</td>\n",
       "    </tr>\n",
       "    <tr>\n",
       "      <th>0</th>\n",
       "      <td>LRw2vgoogUnder_val</td>\n",
       "      <td>0.833549</td>\n",
       "      <td>0.729796</td>\n",
       "      <td>0.795515</td>\n",
       "      <td>0.746056</td>\n",
       "    </tr>\n",
       "    <tr>\n",
       "      <th>0</th>\n",
       "      <td>LRw2vgoogOver_val</td>\n",
       "      <td>0.838698</td>\n",
       "      <td>0.734178</td>\n",
       "      <td>0.797239</td>\n",
       "      <td>0.750981</td>\n",
       "    </tr>\n",
       "    <tr>\n",
       "      <th>0</th>\n",
       "      <td>LRw2vgoogSmote_val</td>\n",
       "      <td>0.839575</td>\n",
       "      <td>0.734751</td>\n",
       "      <td>0.793872</td>\n",
       "      <td>0.750774</td>\n",
       "    </tr>\n",
       "  </tbody>\n",
       "</table>\n",
       "</div>"
      ],
      "text/plain": [
       "           Description  Accuracy  Precision    Recall  F1-score\n",
       "0   LRw2vgoogCWbal_val  0.838469   0.734362  0.797831  0.750896\n",
       "0  LRw2vgoogCWgscv_val  0.842182   0.735224  0.793478  0.754493\n",
       "0   LRw2vgoogUnder_val  0.833549   0.729796  0.795515  0.746056\n",
       "0    LRw2vgoogOver_val  0.838698   0.734178  0.797239  0.750981\n",
       "0   LRw2vgoogSmote_val  0.839575   0.734751  0.793872  0.750774"
      ]
     },
     "execution_count": 25,
     "metadata": {},
     "output_type": "execute_result"
    }
   ],
   "source": [
    "df_result = pd.concat(saved_res)\n",
    "df_result"
   ]
  },
  {
   "cell_type": "code",
   "execution_count": 26,
   "id": "d3e3f3aa-474a-422c-babe-01af79a21481",
   "metadata": {},
   "outputs": [],
   "source": [
    "df_result.to_pickle(OUTPUT_DIR+OUTPUT_NAME)"
   ]
  }
 ],
 "metadata": {
  "kernelspec": {
   "display_name": "Python 3 (ipykernel)",
   "language": "python",
   "name": "python3"
  },
  "language_info": {
   "codemirror_mode": {
    "name": "ipython",
    "version": 3
   },
   "file_extension": ".py",
   "mimetype": "text/x-python",
   "name": "python",
   "nbconvert_exporter": "python",
   "pygments_lexer": "ipython3",
   "version": "3.10.12"
  }
 },
 "nbformat": 4,
 "nbformat_minor": 5
}
