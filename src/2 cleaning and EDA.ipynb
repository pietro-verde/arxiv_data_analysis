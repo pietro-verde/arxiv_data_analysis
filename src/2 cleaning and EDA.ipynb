{
 "cells": [
  {
   "cell_type": "markdown",
   "id": "89300a0d-8d34-41c5-af96-c19445b1736f",
   "metadata": {},
   "source": [
    "# Cleaning and EDA\n",
    "\n",
    "The categories are formatted into the final target variables.\n",
    "\n",
    "The final text column is created by concatenating the title and abstract columns<br>"
   ]
  },
  {
   "cell_type": "code",
   "execution_count": 1,
   "id": "795e55eb-63e9-4aad-8d03-e4540f26771f",
   "metadata": {},
   "outputs": [],
   "source": [
    "import warnings\n",
    "warnings.filterwarnings(\"ignore\")\n",
    "\n",
    "import pandas as pd\n",
    "import pickle\n",
    "from plottingutils import *\n",
    "import matplotlib.pyplot as plt\n",
    "\n",
    "import matplotlib.pyplot as plt\n",
    "import seaborn as sns"
   ]
  },
  {
   "cell_type": "code",
   "execution_count": 2,
   "id": "02c2c84a-28d6-4227-a627-10b7ad8c7018",
   "metadata": {},
   "outputs": [],
   "source": [
    "FILE = \"../data/raw.parquet.gzip\"\n",
    "raw_data = pd.read_parquet(FILE)"
   ]
  },
  {
   "cell_type": "code",
   "execution_count": 3,
   "id": "9f1040ef-f714-4bfc-84fb-e22e6c1b9133",
   "metadata": {},
   "outputs": [
    {
     "name": "stdout",
     "output_type": "stream",
     "text": [
      "<class 'pandas.core.frame.DataFrame'>\n",
      "RangeIndex: 2190407 entries, 0 to 2190406\n",
      "Data columns (total 14 columns):\n",
      " #   Column          Dtype \n",
      "---  ------          ----- \n",
      " 0   id              object\n",
      " 1   submitter       object\n",
      " 2   authors         object\n",
      " 3   title           object\n",
      " 4   comments        object\n",
      " 5   journal-ref     object\n",
      " 6   doi             object\n",
      " 7   report-no       object\n",
      " 8   categories      object\n",
      " 9   license         object\n",
      " 10  abstract        object\n",
      " 11  versions        object\n",
      " 12  update_date     object\n",
      " 13  authors_parsed  object\n",
      "dtypes: object(14)\n",
      "memory usage: 234.0+ MB\n"
     ]
    }
   ],
   "source": [
    "raw_data.info()"
   ]
  },
  {
   "cell_type": "markdown",
   "id": "7c8bc1af-0da3-4770-89f4-f0968bf190ee",
   "metadata": {},
   "source": [
    "Exploring the categories column"
   ]
  },
  {
   "cell_type": "code",
   "execution_count": 5,
   "id": "4136843e-a6e5-422e-aec5-733efad190c5",
   "metadata": {},
   "outputs": [
    {
     "data": {
      "text/html": [
       "<div>\n",
       "<style scoped>\n",
       "    .dataframe tbody tr th:only-of-type {\n",
       "        vertical-align: middle;\n",
       "    }\n",
       "\n",
       "    .dataframe tbody tr th {\n",
       "        vertical-align: top;\n",
       "    }\n",
       "\n",
       "    .dataframe thead th {\n",
       "        text-align: right;\n",
       "    }\n",
       "</style>\n",
       "<table border=\"1\" class=\"dataframe\">\n",
       "  <thead>\n",
       "    <tr style=\"text-align: right;\">\n",
       "      <th></th>\n",
       "      <th>categories</th>\n",
       "    </tr>\n",
       "  </thead>\n",
       "  <tbody>\n",
       "    <tr>\n",
       "      <th>560962</th>\n",
       "      <td>math.AP math.DG</td>\n",
       "    </tr>\n",
       "    <tr>\n",
       "      <th>326584</th>\n",
       "      <td>astro-ph.GA</td>\n",
       "    </tr>\n",
       "    <tr>\n",
       "      <th>1832108</th>\n",
       "      <td>astro-ph</td>\n",
       "    </tr>\n",
       "    <tr>\n",
       "      <th>672392</th>\n",
       "      <td>cs.CR cs.HC</td>\n",
       "    </tr>\n",
       "    <tr>\n",
       "      <th>1264521</th>\n",
       "      <td>cs.CV cs.LG stat.ML</td>\n",
       "    </tr>\n",
       "    <tr>\n",
       "      <th>1506520</th>\n",
       "      <td>cond-mat.soft</td>\n",
       "    </tr>\n",
       "    <tr>\n",
       "      <th>528501</th>\n",
       "      <td>astro-ph.GA</td>\n",
       "    </tr>\n",
       "    <tr>\n",
       "      <th>132446</th>\n",
       "      <td>math.AG math.RT</td>\n",
       "    </tr>\n",
       "    <tr>\n",
       "      <th>1106898</th>\n",
       "      <td>math.CO</td>\n",
       "    </tr>\n",
       "    <tr>\n",
       "      <th>291968</th>\n",
       "      <td>math.AP</td>\n",
       "    </tr>\n",
       "  </tbody>\n",
       "</table>\n",
       "</div>"
      ],
      "text/plain": [
       "                  categories\n",
       "560962       math.AP math.DG\n",
       "326584           astro-ph.GA\n",
       "1832108             astro-ph\n",
       "672392           cs.CR cs.HC\n",
       "1264521  cs.CV cs.LG stat.ML\n",
       "1506520        cond-mat.soft\n",
       "528501           astro-ph.GA\n",
       "132446       math.AG math.RT\n",
       "1106898              math.CO\n",
       "291968               math.AP"
      ]
     },
     "execution_count": 5,
     "metadata": {},
     "output_type": "execute_result"
    }
   ],
   "source": [
    "raw_data[['categories']].sample(10)"
   ]
  },
  {
   "cell_type": "code",
   "execution_count": 6,
   "id": "dfb439eb-4607-4bf6-99bf-c7d50c94dc80",
   "metadata": {},
   "outputs": [],
   "source": [
    "## primary category is the first one mentioned\n",
    "raw_data[\"primary_category\"] = raw_data[\"categories\"].str.split(\" \",expand=True)[0]"
   ]
  },
  {
   "cell_type": "code",
   "execution_count": 7,
   "id": "b153d957-6a84-4020-9062-9eca8368a606",
   "metadata": {},
   "outputs": [],
   "source": [
    "# taking out all existing categories in the dataset and creating a dataframe with a single column containing the categories\n",
    "df_categories = pd.DataFrame(raw_data[\"categories\"].str.split(\" \").explode()).reset_index(drop=True)"
   ]
  },
  {
   "cell_type": "code",
   "execution_count": 8,
   "id": "8930df37-b411-48d9-a3e1-e3aae01c244d",
   "metadata": {},
   "outputs": [],
   "source": [
    "# mapping them to their group name, taken from https://arxiv.org/category_taxonomy\n",
    "# each group categories have an archive id, which is a prefix seprated by a \".\"\n",
    "df_categories[\"archive_id\"] = df_categories[\"categories\"].str.split(\".\",expand=True)[0]"
   ]
  },
  {
   "cell_type": "code",
   "execution_count": 9,
   "id": "5d805e75-63f5-493b-a1cb-8845f8c13a16",
   "metadata": {},
   "outputs": [
    {
     "data": {
      "text/html": [
       "<div>\n",
       "<style scoped>\n",
       "    .dataframe tbody tr th:only-of-type {\n",
       "        vertical-align: middle;\n",
       "    }\n",
       "\n",
       "    .dataframe tbody tr th {\n",
       "        vertical-align: top;\n",
       "    }\n",
       "\n",
       "    .dataframe thead th {\n",
       "        text-align: right;\n",
       "    }\n",
       "</style>\n",
       "<table border=\"1\" class=\"dataframe\">\n",
       "  <thead>\n",
       "    <tr style=\"text-align: right;\">\n",
       "      <th></th>\n",
       "      <th>categories</th>\n",
       "      <th>archive_id</th>\n",
       "    </tr>\n",
       "  </thead>\n",
       "  <tbody>\n",
       "    <tr>\n",
       "      <th>0</th>\n",
       "      <td>hep-ph</td>\n",
       "      <td>hep-ph</td>\n",
       "    </tr>\n",
       "    <tr>\n",
       "      <th>1</th>\n",
       "      <td>math.CO</td>\n",
       "      <td>math</td>\n",
       "    </tr>\n",
       "    <tr>\n",
       "      <th>2</th>\n",
       "      <td>cs.CG</td>\n",
       "      <td>cs</td>\n",
       "    </tr>\n",
       "    <tr>\n",
       "      <th>3</th>\n",
       "      <td>physics.gen-ph</td>\n",
       "      <td>physics</td>\n",
       "    </tr>\n",
       "    <tr>\n",
       "      <th>4</th>\n",
       "      <td>math.CO</td>\n",
       "      <td>math</td>\n",
       "    </tr>\n",
       "  </tbody>\n",
       "</table>\n",
       "</div>"
      ],
      "text/plain": [
       "       categories archive_id\n",
       "0          hep-ph     hep-ph\n",
       "1         math.CO       math\n",
       "2           cs.CG         cs\n",
       "3  physics.gen-ph    physics\n",
       "4         math.CO       math"
      ]
     },
     "execution_count": 9,
     "metadata": {},
     "output_type": "execute_result"
    }
   ],
   "source": [
    "df_categories.head()"
   ]
  },
  {
   "cell_type": "code",
   "execution_count": 10,
   "id": "0997322b-9bc8-468c-a0a1-31c5e1003816",
   "metadata": {},
   "outputs": [
    {
     "data": {
      "text/plain": [
       "176"
      ]
     },
     "execution_count": 10,
     "metadata": {},
     "output_type": "execute_result"
    }
   ],
   "source": [
    "df_categories[\"categories\"].nunique()"
   ]
  },
  {
   "cell_type": "code",
   "execution_count": 11,
   "id": "cfb0d49e-2e2a-4f88-96b0-6bc4c02a8691",
   "metadata": {},
   "outputs": [
    {
     "data": {
      "text/plain": [
       "count     3677349\n",
       "unique        176\n",
       "top        hep-ph\n",
       "freq       169469\n",
       "Name: categories, dtype: object"
      ]
     },
     "execution_count": 11,
     "metadata": {},
     "output_type": "execute_result"
    }
   ],
   "source": [
    "df_categories[\"categories\"].describe()"
   ]
  },
  {
   "cell_type": "code",
   "execution_count": 12,
   "id": "b8bf4b42-30b3-48b1-8084-93ebf2d3f5d3",
   "metadata": {},
   "outputs": [
    {
     "data": {
      "text/plain": [
       "38"
      ]
     },
     "execution_count": 12,
     "metadata": {},
     "output_type": "execute_result"
    }
   ],
   "source": [
    "df_categories[\"archive_id\"].nunique()"
   ]
  },
  {
   "cell_type": "code",
   "execution_count": 13,
   "id": "2f602a09-8238-4451-9cc8-f46df5b47b1a",
   "metadata": {},
   "outputs": [],
   "source": [
    "## df_categories is used to create df_cat manually.\n",
    "## dataset of categories labels mapped to their group names created manually \n",
    "## by copy-pasting from https://arxiv.org/category_taxonomy\n",
    "## some did not match any \n",
    "df_cat = pd.read_csv(\"categories.csv\")"
   ]
  },
  {
   "cell_type": "code",
   "execution_count": 14,
   "id": "93888f4c-e438-4fa0-83ac-4d4858aa8c36",
   "metadata": {},
   "outputs": [
    {
     "data": {
      "text/html": [
       "<div>\n",
       "<style scoped>\n",
       "    .dataframe tbody tr th:only-of-type {\n",
       "        vertical-align: middle;\n",
       "    }\n",
       "\n",
       "    .dataframe tbody tr th {\n",
       "        vertical-align: top;\n",
       "    }\n",
       "\n",
       "    .dataframe thead th {\n",
       "        text-align: right;\n",
       "    }\n",
       "</style>\n",
       "<table border=\"1\" class=\"dataframe\">\n",
       "  <thead>\n",
       "    <tr style=\"text-align: right;\">\n",
       "      <th></th>\n",
       "      <th>archive_id</th>\n",
       "      <th>group_name</th>\n",
       "      <th>class_name</th>\n",
       "    </tr>\n",
       "  </thead>\n",
       "  <tbody>\n",
       "    <tr>\n",
       "      <th>0</th>\n",
       "      <td>dg-ga</td>\n",
       "      <td>math</td>\n",
       "      <td>Mathematics</td>\n",
       "    </tr>\n",
       "    <tr>\n",
       "      <th>1</th>\n",
       "      <td>nucl-ex</td>\n",
       "      <td>ph</td>\n",
       "      <td>Physics</td>\n",
       "    </tr>\n",
       "    <tr>\n",
       "      <th>2</th>\n",
       "      <td>q-fin</td>\n",
       "      <td>q-fin</td>\n",
       "      <td>Quantitative Finance</td>\n",
       "    </tr>\n",
       "    <tr>\n",
       "      <th>3</th>\n",
       "      <td>q-alg</td>\n",
       "      <td>math</td>\n",
       "      <td>Mathematics</td>\n",
       "    </tr>\n",
       "    <tr>\n",
       "      <th>4</th>\n",
       "      <td>chem-ph</td>\n",
       "      <td>ph</td>\n",
       "      <td>Physics</td>\n",
       "    </tr>\n",
       "  </tbody>\n",
       "</table>\n",
       "</div>"
      ],
      "text/plain": [
       "  archive_id group_name            class_name\n",
       "0      dg-ga       math           Mathematics\n",
       "1    nucl-ex         ph               Physics\n",
       "2      q-fin      q-fin  Quantitative Finance\n",
       "3      q-alg       math           Mathematics\n",
       "4    chem-ph         ph               Physics"
      ]
     },
     "execution_count": 14,
     "metadata": {},
     "output_type": "execute_result"
    }
   ],
   "source": [
    "df_cat.head()"
   ]
  },
  {
   "cell_type": "code",
   "execution_count": 15,
   "id": "f557a221-8dd3-40cb-9772-bf4358320de2",
   "metadata": {},
   "outputs": [],
   "source": [
    "## create an archive_id column for the primary_category in the data\n",
    "raw_data[\"archive_id\"] = raw_data[\"primary_category\"].str.split(\".\",expand=True)[0]"
   ]
  },
  {
   "cell_type": "code",
   "execution_count": 16,
   "id": "55bf757a-8505-4abd-b068-8de9a5565cb0",
   "metadata": {},
   "outputs": [],
   "source": [
    "raw_data = raw_data.merge(df_cat, how='left', on=\"archive_id\")"
   ]
  },
  {
   "cell_type": "code",
   "execution_count": 80,
   "id": "270428ba-7096-4316-a721-02decee09656",
   "metadata": {},
   "outputs": [],
   "source": [
    "## create data\n",
    "cols_to_keep = ['id','title','abstract','class_name']\n",
    "data = raw_data[cols_to_keep]"
   ]
  },
  {
   "cell_type": "code",
   "execution_count": 81,
   "id": "ee921896-b3d4-43a0-9991-033cfba1a2b0",
   "metadata": {},
   "outputs": [],
   "source": [
    "## Merging text and abstract columns\n",
    "data[\"text\"] = data[\"title\"]+\" \"+data[\"abstract\"]"
   ]
  },
  {
   "cell_type": "code",
   "execution_count": 82,
   "id": "109ce6b3-4cf3-4bae-8434-b1b2a6c96b27",
   "metadata": {},
   "outputs": [],
   "source": [
    "## shortening class_name text for future use in charts\n",
    "\n",
    "new_class_text = {'Economics': 'Economics',\n",
    "                  'Electrical Engineering and Systems Science': 'Elec. Engin. Sys. Sc.',\n",
    "                  'Physics': 'Physics',\n",
    "                  'Quantitative Biology': 'Quant. Biology',\n",
    "                  'Quantitative Finance': 'Quant. Finance',\n",
    "                  'Statistics': 'Statistics',\n",
    "                  'Computer Science': 'Computer Sc.',\n",
    "                  'Mathematics': 'Mathematics'}\n",
    "data[\"class_name\"] = data[\"class_name\"].map(new_class_text)"
   ]
  },
  {
   "cell_type": "code",
   "execution_count": 83,
   "id": "66ab70ed-4f1d-4c8d-a40b-e0838a48c410",
   "metadata": {},
   "outputs": [],
   "source": [
    "map_cats = {'Economics':0,\n",
    "            'Elec. Engin. Sys. Sc.':1,\n",
    "            'Physics':2,\n",
    "            'Quant. Biology':3,\n",
    "            'Quant. Finance':4,\n",
    "            'Statistics':5,\n",
    "            'Computer Sc.':6,\n",
    "            'Mathematics':7}"
   ]
  },
  {
   "cell_type": "code",
   "execution_count": 84,
   "id": "9b72b25a-0cda-4a4d-ae25-d801e4a28f08",
   "metadata": {},
   "outputs": [],
   "source": [
    "data[\"class\"] = data[\"class_name\"].map(map_cats)"
   ]
  },
  {
   "cell_type": "code",
   "execution_count": 85,
   "id": "7daf44d9-6792-4b68-b027-f0f14b5e8501",
   "metadata": {},
   "outputs": [],
   "source": [
    "data.drop(['title','abstract'],axis=1,inplace=True)"
   ]
  },
  {
   "cell_type": "code",
   "execution_count": 86,
   "id": "4396b45d-39df-45ee-971a-75d5e57d83d3",
   "metadata": {},
   "outputs": [
    {
     "data": {
      "text/html": [
       "<div>\n",
       "<style scoped>\n",
       "    .dataframe tbody tr th:only-of-type {\n",
       "        vertical-align: middle;\n",
       "    }\n",
       "\n",
       "    .dataframe tbody tr th {\n",
       "        vertical-align: top;\n",
       "    }\n",
       "\n",
       "    .dataframe thead th {\n",
       "        text-align: right;\n",
       "    }\n",
       "</style>\n",
       "<table border=\"1\" class=\"dataframe\">\n",
       "  <thead>\n",
       "    <tr style=\"text-align: right;\">\n",
       "      <th></th>\n",
       "      <th>id</th>\n",
       "      <th>class_name</th>\n",
       "      <th>text</th>\n",
       "      <th>class</th>\n",
       "    </tr>\n",
       "  </thead>\n",
       "  <tbody>\n",
       "    <tr>\n",
       "      <th>0</th>\n",
       "      <td>0704.0001</td>\n",
       "      <td>Physics</td>\n",
       "      <td>Calculation of prompt diphoton production cros...</td>\n",
       "      <td>2</td>\n",
       "    </tr>\n",
       "    <tr>\n",
       "      <th>1</th>\n",
       "      <td>0704.0002</td>\n",
       "      <td>Mathematics</td>\n",
       "      <td>Sparsity-certifying Graph Decompositions   We ...</td>\n",
       "      <td>7</td>\n",
       "    </tr>\n",
       "    <tr>\n",
       "      <th>2</th>\n",
       "      <td>0704.0003</td>\n",
       "      <td>Physics</td>\n",
       "      <td>The evolution of the Earth-Moon system based o...</td>\n",
       "      <td>2</td>\n",
       "    </tr>\n",
       "    <tr>\n",
       "      <th>3</th>\n",
       "      <td>0704.0004</td>\n",
       "      <td>Mathematics</td>\n",
       "      <td>A determinant of Stirling cycle numbers counts...</td>\n",
       "      <td>7</td>\n",
       "    </tr>\n",
       "    <tr>\n",
       "      <th>4</th>\n",
       "      <td>0704.0005</td>\n",
       "      <td>Mathematics</td>\n",
       "      <td>From dyadic $\\Lambda_{\\alpha}$ to $\\Lambda_{\\a...</td>\n",
       "      <td>7</td>\n",
       "    </tr>\n",
       "  </tbody>\n",
       "</table>\n",
       "</div>"
      ],
      "text/plain": [
       "          id   class_name                                               text  \\\n",
       "0  0704.0001      Physics  Calculation of prompt diphoton production cros...   \n",
       "1  0704.0002  Mathematics  Sparsity-certifying Graph Decompositions   We ...   \n",
       "2  0704.0003      Physics  The evolution of the Earth-Moon system based o...   \n",
       "3  0704.0004  Mathematics  A determinant of Stirling cycle numbers counts...   \n",
       "4  0704.0005  Mathematics  From dyadic $\\Lambda_{\\alpha}$ to $\\Lambda_{\\a...   \n",
       "\n",
       "   class  \n",
       "0      2  \n",
       "1      7  \n",
       "2      2  \n",
       "3      7  \n",
       "4      7  "
      ]
     },
     "execution_count": 86,
     "metadata": {},
     "output_type": "execute_result"
    }
   ],
   "source": [
    "data.head()"
   ]
  },
  {
   "cell_type": "markdown",
   "id": "2b929e19-3433-4f0d-9bd9-c8946d505cd9",
   "metadata": {},
   "source": [
    "## Class analysis"
   ]
  },
  {
   "cell_type": "code",
   "execution_count": 87,
   "id": "14619298-e4cb-466f-b110-5af62425a43f",
   "metadata": {},
   "outputs": [],
   "source": [
    "tab = data.groupby(['class','class_name'])['id'].count()\\\n",
    "    .reset_index()\\\n",
    "    .rename(columns={'id': 'count'})\\\n",
    "    .sort_values('count')"
   ]
  },
  {
   "cell_type": "code",
   "execution_count": 88,
   "id": "9a09db8d-26c1-40ec-a2db-c0b3c5cc375f",
   "metadata": {},
   "outputs": [
    {
     "data": {
      "image/png": "[encoded data removed]",
      "text/plain": [
       "<Figure size 400x200 with 1 Axes>"
      ]
     },
     "metadata": {},
     "output_type": "display_data"
    }
   ],
   "source": [
    "fig, ax = plt.subplots(figsize=(4,2), layout='constrained')\n",
    "\n",
    "title = \"Full data class distribution\"\n",
    "l = tab[\"class_name\"]\n",
    "w = tab[\"count\"]\n",
    "bs = .7\n",
    "fs = 8\n",
    "barplot(ax, labels=l, width=w, title=title,barsize=bs, font_size = fs, invert_y=False)"
   ]
  },
  {
   "cell_type": "markdown",
   "id": "07ba413c-5934-4d6f-a3e4-761e51b8727f",
   "metadata": {},
   "source": [
    "## Remapping classes to final target variable"
   ]
  },
  {
   "cell_type": "code",
   "execution_count": 89,
   "id": "68e5ab82-8796-468f-a7e0-b11f8be769ff",
   "metadata": {},
   "outputs": [],
   "source": [
    "data.rename(columns={'class':'target_extended','class_name':'target_name_extended'}, inplace=True)\n",
    "\n",
    "data['target'] = data['target_extended'].map({2:0,7:1,6:2,5:3,1:3,3:3,4:3,0:3})\n",
    "data['target_name'] = data['target_name_extended']\n",
    "data.loc[data['target']==3, 'target_name'] = 'Other'"
   ]
  },
  {
   "cell_type": "code",
   "execution_count": 90,
   "id": "9fc4238a-ee20-4ef5-be26-ad0325cdcf19",
   "metadata": {},
   "outputs": [],
   "source": [
    "tab = data.groupby(['target','target_name'])['id'].count()\\\n",
    "    .reset_index()\\\n",
    "    .rename(columns={'id': 'count'})\\\n",
    "    .sort_values('count')"
   ]
  },
  {
   "cell_type": "code",
   "execution_count": 91,
   "id": "68ac6b8f-50e7-48a3-ac0f-c5e3c885bbc6",
   "metadata": {},
   "outputs": [
    {
     "data": {
      "image/png": "[encoded data removed]",
      "text/plain": [
       "<Figure size 400x200 with 1 Axes>"
      ]
     },
     "metadata": {},
     "output_type": "display_data"
    }
   ],
   "source": [
    "# import matplotlib.pyplot as plt\n",
    "fig, ax = plt.subplots(figsize=(4,2), layout='constrained')\n",
    "\n",
    "title = \"Class distribution after merging minority classes\"\n",
    "l = tab[\"target_name\"]\n",
    "w = tab[\"count\"]\n",
    "bs = .7\n",
    "fs = 8\n",
    "barplot(ax, labels=l, width=w, title=title,barsize=bs, font_size = fs, invert_y=False)"
   ]
  },
  {
   "cell_type": "code",
   "execution_count": 92,
   "id": "21c6c804-1133-435f-8b0c-a23d0b99f457",
   "metadata": {},
   "outputs": [],
   "source": [
    "## saving a map of class: class_name for future use\n",
    "cat = data[[\"target_name\", \"target\"]].drop_duplicates()\n",
    "class_labels_dic = dict(zip(cat[\"target\"], cat[\"target_name\"]))\n",
    "keys = sorted(class_labels_dic)\n",
    "class_labels_dic = {i: class_labels_dic[i] for i in keys}\n",
    "pickle.dump(class_labels_dic, open(\"../data/class_labels_dic.pkl\", 'wb'))"
   ]
  },
  {
   "cell_type": "markdown",
   "id": "2ce8757f-4c5c-41fe-b000-67e8d389a303",
   "metadata": {},
   "source": [
    "Saving the data with all columns that will be used in future, before proceeding with further analysis"
   ]
  },
  {
   "cell_type": "code",
   "execution_count": 93,
   "id": "3cfbe6fc-ac7f-4abb-84ff-b9a3bd6fc4f5",
   "metadata": {},
   "outputs": [],
   "source": [
    "data.to_parquet(\"../data/data.parquet.gzip\")"
   ]
  },
  {
   "cell_type": "markdown",
   "id": "427a439d-906a-471c-b390-01e42caa3932",
   "metadata": {},
   "source": [
    "## Word counts"
   ]
  },
  {
   "cell_type": "code",
   "execution_count": 95,
   "id": "0e0791ce-1db8-4893-b3b6-0fb53c4a9e58",
   "metadata": {},
   "outputs": [],
   "source": [
    "data['count'] = data['text'].apply(lambda x: len(x.split()))"
   ]
  },
  {
   "cell_type": "code",
   "execution_count": 101,
   "id": "ebc85662-13f6-4877-a580-91d72008ee14",
   "metadata": {},
   "outputs": [],
   "source": [
    "def plot_counts(col, title):\n",
    "    plt.figure(figsize= (8, 8))\n",
    "\n",
    "    sns.displot(data[col])\n",
    "\n",
    "    max_cnt = data[col].max()\n",
    "\n",
    "    plt.xlim(0, max_cnt+10)\n",
    "\n",
    "    plt.xlabel('Num of words ', fontsize = 16)\n",
    "    plt.title(title, fontsize = 18)\n",
    "    plt.show()"
   ]
  },
  {
   "cell_type": "code",
   "execution_count": 104,
   "id": "c9bb2d5c-c8f4-41cb-9c92-94474ebb60bf",
   "metadata": {},
   "outputs": [
    {
     "data": {
      "text/plain": [
       "count    2190407\n",
       "mean         148\n",
       "std           65\n",
       "min            4\n",
       "25%           98\n",
       "50%          141\n",
       "75%          191\n",
       "max          937\n",
       "Name: count, dtype: int64"
      ]
     },
     "execution_count": 104,
     "metadata": {},
     "output_type": "execute_result"
    }
   ],
   "source": [
    "data['count'].describe().apply(round)"
   ]
  },
  {
   "cell_type": "code",
   "execution_count": 103,
   "id": "6ef508d6-ff46-431e-90c9-1736d89b99a4",
   "metadata": {},
   "outputs": [
    {
     "data": {
      "text/plain": [
       "<Figure size 800x800 with 0 Axes>"
      ]
     },
     "metadata": {},
     "output_type": "display_data"
    },
    {
     "data": {
      "image/png": "[encoded data removed]",
      "text/plain": [
       "<Figure size 500x500 with 1 Axes>"
      ]
     },
     "metadata": {},
     "output_type": "display_data"
    }
   ],
   "source": [
    "plot_counts('count', \"Number of words distribution\")"
   ]
  }
 ],
 "metadata": {
  "kernelspec": {
   "display_name": "Python 3 (ipykernel)",
   "language": "python",
   "name": "python3"
  },
  "language_info": {
   "codemirror_mode": {
    "name": "ipython",
    "version": 3
   },
   "file_extension": ".py",
   "mimetype": "text/x-python",
   "name": "python",
   "nbconvert_exporter": "python",
   "pygments_lexer": "ipython3",
   "version": "3.10.12"
  }
 },
 "nbformat": 4,
 "nbformat_minor": 5
}
