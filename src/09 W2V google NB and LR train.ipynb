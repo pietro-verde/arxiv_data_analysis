{
 "cells": [
  {
   "cell_type": "markdown",
   "id": "0f62f7ee-739f-435f-9928-d1be5e10f690",
   "metadata": {},
   "source": [
    "## W2V google NB and LR train\n",
    "\n",
    "Naive Bayes and Logistic Regression models are trained using mean W2V vectors as input. The result of each model is used to obtain preditions from the validation set and analyse the performance of each classifier. "
   ]
  },
  {
   "cell_type": "code",
   "execution_count": 1,
   "id": "bb811e54-40ac-4512-9de3-2966c0e659e4",
   "metadata": {},
   "outputs": [],
   "source": [
    "import warnings\n",
    "warnings.filterwarnings(\"ignore\")\n",
    "\n",
    "import numpy as np\n",
    "import os\n",
    "import pandas as pd\n",
    "import pickle\n",
    "from sklearn.naive_bayes import MultinomialNB\n",
    "from sklearn.linear_model import LogisticRegression\n",
    "from sklearn.preprocessing import MinMaxScaler\n",
    "from sklearn import metrics\n",
    "\n",
    "from trainevalutils import generate_model_report\n",
    "from trainevalutils import *"
   ]
  },
  {
   "cell_type": "code",
   "execution_count": 2,
   "id": "2183af9d-7b96-4a0e-868a-9c2f20905227",
   "metadata": {},
   "outputs": [],
   "source": [
    "OUTPUT_NAME = 'results_w2v-google_NBLR.pkl'\n",
    "\n",
    "OUTPUT_DIR = '../results/'\n",
    "for dir_ in [OUTPUT_DIR]:\n",
    "    if not os.path.exists(dir_):\n",
    "        os.makedirs(dir_)"
   ]
  },
  {
   "cell_type": "code",
   "execution_count": 3,
   "id": "53964201-5937-44c9-b76a-adb005acc17a",
   "metadata": {},
   "outputs": [],
   "source": [
    "FILE = \"../data/w2v-vectors_goog_pren.parquet.gzip\"\n",
    "data = pd.read_parquet(FILE)"
   ]
  },
  {
   "cell_type": "code",
   "execution_count": 4,
   "id": "43ea390a-b530-403c-ad5a-e76e5e9d52cf",
   "metadata": {},
   "outputs": [],
   "source": [
    "### load train - val indexes\n",
    "train_idx = pickle.load(open(\"../data/wip/train_idx.pkl\", 'rb'))\n",
    "val_idx = pickle.load(open(\"../data/wip/val_idx.pkl\", 'rb'))\n",
    "\n",
    "### split data by indexes\n",
    "training_data = data.loc[train_idx]\n",
    "validation_data = data.loc[val_idx]"
   ]
  },
  {
   "cell_type": "code",
   "execution_count": 5,
   "id": "725e656f-4b9c-4cda-a52d-11124fe1ba28",
   "metadata": {},
   "outputs": [],
   "source": [
    "del data"
   ]
  },
  {
   "cell_type": "code",
   "execution_count": 6,
   "id": "28ac4044-75b5-4f95-8c11-40aae438230f",
   "metadata": {},
   "outputs": [],
   "source": [
    "features = 'google-news_w2v_mean_prenorm'\n",
    "target = 'target'\n",
    "\n",
    "X_train_raw = training_data[features]\n",
    "X_val_raw = validation_data[features]\n",
    "\n",
    "y_train = training_data[target]\n",
    "y_val = validation_data[target]"
   ]
  },
  {
   "cell_type": "code",
   "execution_count": 7,
   "id": "85552066-8e38-4311-b7dc-792d6d5eea0f",
   "metadata": {},
   "outputs": [],
   "source": [
    "# Stack\n",
    "X_train_stacked = np.stack(X_train_raw)\n",
    "X_val_stacked = np.stack(X_val_raw)\n",
    "\n",
    "# handling negative values\n",
    "scaler = MinMaxScaler()\n",
    "X_train = scaler.fit_transform(X_train_stacked)\n",
    "X_val = scaler.transform(X_val_stacked)"
   ]
  },
  {
   "cell_type": "code",
   "execution_count": 8,
   "id": "0f5b1757-f5d0-40be-93d2-8dcbf6fb73e5",
   "metadata": {},
   "outputs": [],
   "source": [
    "def run_classifier(clf, model_name):\n",
    "    results = []\n",
    "    clf.fit(X_train, y_train)\n",
    "    title = model_name+'_val'\n",
    "    print(\"\\n\"+title+\"\\n\")\n",
    "    result_val = evaluate(title, clf, X_val, y_val)\n",
    "    results.append(result_val)\n",
    "    print(\"=====================================================\\n\")\n",
    "    return results"
   ]
  },
  {
   "cell_type": "code",
   "execution_count": 9,
   "id": "b141c4c9-1ee9-44b6-99f6-9368344eed53",
   "metadata": {},
   "outputs": [
    {
     "name": "stdout",
     "output_type": "stream",
     "text": [
      "\n",
      "Results of Naive Bayes on the validation set\n",
      "\n",
      "\n",
      "NBw2vgoog_val\n",
      "\n",
      "Accuracy: 0.5487777367989487\n",
      "Precision (macro): 0.13719443419973718\n",
      "Recall (macro): 0.25\n",
      "F1-score (macro): 0.1771647808978633\n",
      "\n",
      "Classification report:\n",
      "              precision    recall  f1-score   support\n",
      "\n",
      "     Physics       0.55      1.00      0.71    153261\n",
      " Mathematics       0.00      0.00      0.00     60818\n",
      "Computer Sc.       0.00      0.00      0.00     50476\n",
      "       Other       0.00      0.00      0.00     14722\n",
      "\n",
      "    accuracy                           0.55    279277\n",
      "   macro avg       0.14      0.25      0.18    279277\n",
      "weighted avg       0.30      0.55      0.39    279277\n",
      "\n",
      "=====================================================\n",
      "\n"
     ]
    }
   ],
   "source": [
    "print(\"\\nResults of Naive Bayes on the validation set\\n\")\n",
    "naivebayes = MultinomialNB()\n",
    "results_nb = run_classifier(naivebayes, 'NBw2vgoog')"
   ]
  },
  {
   "cell_type": "code",
   "execution_count": 10,
   "id": "823819d2-2a8b-41b0-969b-8be79f4511f4",
   "metadata": {},
   "outputs": [
    {
     "name": "stdout",
     "output_type": "stream",
     "text": [
      "\n",
      "Results of Logistic Regression on the validation set\n",
      "\n",
      "\n",
      "LRw2vgoog_val\n",
      "\n",
      "Accuracy: 0.8655707415934717\n",
      "Precision (macro): 0.7802052803963566\n",
      "Recall (macro): 0.7469486442263301\n",
      "F1-score (macro): 0.7582487018677337\n",
      "\n",
      "Classification report:\n",
      "              precision    recall  f1-score   support\n",
      "\n",
      "     Physics       0.93      0.94      0.93    153261\n",
      " Mathematics       0.82      0.82      0.82     60818\n",
      "Computer Sc.       0.78      0.84      0.81     50476\n",
      "       Other       0.59      0.39      0.47     14722\n",
      "\n",
      "    accuracy                           0.87    279277\n",
      "   macro avg       0.78      0.75      0.76    279277\n",
      "weighted avg       0.86      0.87      0.86    279277\n",
      "\n",
      "=====================================================\n",
      "\n"
     ]
    }
   ],
   "source": [
    "print(\"\\nResults of Logistic Regression on the validation set\\n\")\n",
    "logreg = LogisticRegression()\n",
    "results_lr = run_classifier(logreg, 'LRw2vgoog')"
   ]
  },
  {
   "cell_type": "code",
   "execution_count": 11,
   "id": "088fdf8a-d021-45b6-9a08-ace4453e4e03",
   "metadata": {},
   "outputs": [
    {
     "data": {
      "text/html": [
       "<div>\n",
       "<style scoped>\n",
       "    .dataframe tbody tr th:only-of-type {\n",
       "        vertical-align: middle;\n",
       "    }\n",
       "\n",
       "    .dataframe tbody tr th {\n",
       "        vertical-align: top;\n",
       "    }\n",
       "\n",
       "    .dataframe thead th {\n",
       "        text-align: right;\n",
       "    }\n",
       "</style>\n",
       "<table border=\"1\" class=\"dataframe\">\n",
       "  <thead>\n",
       "    <tr style=\"text-align: right;\">\n",
       "      <th></th>\n",
       "      <th>Description</th>\n",
       "      <th>Accuracy</th>\n",
       "      <th>Precision</th>\n",
       "      <th>Recall</th>\n",
       "      <th>F1-score</th>\n",
       "    </tr>\n",
       "  </thead>\n",
       "  <tbody>\n",
       "    <tr>\n",
       "      <th>0</th>\n",
       "      <td>NBw2vgoog_val</td>\n",
       "      <td>0.548778</td>\n",
       "      <td>0.137194</td>\n",
       "      <td>0.250000</td>\n",
       "      <td>0.177165</td>\n",
       "    </tr>\n",
       "    <tr>\n",
       "      <th>0</th>\n",
       "      <td>LRw2vgoog_val</td>\n",
       "      <td>0.865571</td>\n",
       "      <td>0.780205</td>\n",
       "      <td>0.746949</td>\n",
       "      <td>0.758249</td>\n",
       "    </tr>\n",
       "  </tbody>\n",
       "</table>\n",
       "</div>"
      ],
      "text/plain": [
       "     Description  Accuracy  Precision    Recall  F1-score\n",
       "0  NBw2vgoog_val  0.548778   0.137194  0.250000  0.177165\n",
       "0  LRw2vgoog_val  0.865571   0.780205  0.746949  0.758249"
      ]
     },
     "execution_count": 11,
     "metadata": {},
     "output_type": "execute_result"
    }
   ],
   "source": [
    "df_result = pd.concat([pd.DataFrame(results_nb),\n",
    "                       pd.DataFrame(results_lr)])\n",
    "\n",
    "df_result"
   ]
  },
  {
   "cell_type": "code",
   "execution_count": 12,
   "id": "d53b3fae-1184-498b-9033-5e5ffa01fab0",
   "metadata": {},
   "outputs": [],
   "source": [
    "df_result.to_pickle(OUTPUT_DIR+OUTPUT_NAME)"
   ]
  }
 ],
 "metadata": {
  "kernelspec": {
   "display_name": "Python 3 (ipykernel)",
   "language": "python",
   "name": "python3"
  },
  "language_info": {
   "codemirror_mode": {
    "name": "ipython",
    "version": 3
   },
   "file_extension": ".py",
   "mimetype": "text/x-python",
   "name": "python",
   "nbconvert_exporter": "python",
   "pygments_lexer": "ipython3",
   "version": "3.10.12"
  }
 },
 "nbformat": 4,
 "nbformat_minor": 5
}
