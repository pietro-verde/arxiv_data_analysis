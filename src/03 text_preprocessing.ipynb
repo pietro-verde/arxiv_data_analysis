{
 "cells": [
  {
   "cell_type": "markdown",
   "id": "67b70ac0-6d59-48ee-a84b-cd8ac6b1dd5a",
   "metadata": {},
   "source": [
    "# Text preprocessing\n",
    "\n",
    "\n",
    "Cleaning text is an essential step in any NLP procedure, and it can significantly impact the accuracy and performance of machine learning models. Text data usually contains noise, such as punctuation, stopwords, and other information that is often filtered out before creating an input for the model. The level of text preparation at this stage may vary according to the modelling technique used and the type of analysis. In general, a good cleaning procedure can improve the efficiency and effectiveness of NLP models and speed up the training process.\n",
    "\n",
    "The process of separating out a sequence of text into units is called tokenization. Sentences, words, syllables or even letters are possible solutions, depending on the technique. The tokenization method implemented is one the most common ones where words are treated as tokens and are separated by spaces. Characters that are not a word character or whitespace characters, such as punctuation marks or special characters were removed. These correspond to the regular expression pattern [^\\w\\s].\n",
    "\n",
    "Length of words has been considered as well and therefore words shorter than 3 characters were removed.\n",
    "\n",
    "Words that occur frequently in a language but do not carry much meaning are called stopwords in the context of NLP. These are usually filtered out from NLP tasks, because they are considered noise in text analysis.\n",
    "\n",
    "Examples of stopwords in English include words such as \"the\", “and”, \"a\", \"an\", \"in\", \"on\", \"at\", \"of\", \"to\", \"for\", \"with\", \"is\", \"are\", \"am\", \"was\", \"were\", \"be\", \"been\", \"being\". A list of English stopwords made available by the popular package NLTK was used as a filter.\n",
    "\n",
    "The reduction of words to their base or root form can help to simplify the text and reduce the size of the vocabulary. A common technique for this is called stemming. This practice consists of removing the end part of each word by applying some fixed rules. For example, the word adjustable is reduced to its base form adjust, while the word airline is modified to airlin and chasing results in the root word chas.\n",
    "\n",
    "This helps to standardise the text, but clearly, as in the examples just shown, the resulting base form is not always a linguistically correct word. Nevertheless, it is an effective technique and in fact it is commonly adopted in search engines to retrieve relevant documents and in text classification pipelines to reduce the feature space before training a machine learning model.\n",
    "\n",
    "\n",
    "A slightly more sophisticated root extraction method is called lemmatisation, which is a technique that is used to reduce a word to its dictionary form (lemma). Unlike stemming, lemmatisation will always produce a meaningful word belonging to the language in which it is adopted. For example, all conjugated forms of the verb run, like ran, running are converted to run. Lexical databases, like WordNet provide open access lookup tools to lemmatise a sequence of text.\n",
    "Usually only one root extraction technique is applied to a text to use for NLP tasks. For this project, lemmatisation was preferred as it was perceived more capable of condensation. The Spacy Lemmatizer component was utilised for this purpose."
   ]
  },
  {
   "cell_type": "code",
   "execution_count": 1,
   "id": "a7fec725-b286-4824-a095-4e06420db094",
   "metadata": {},
   "outputs": [],
   "source": [
    "import warnings\n",
    "warnings.filterwarnings(\"ignore\")\n",
    "\n",
    "import nltk\n",
    "import pandas as pd\n",
    "import re\n",
    "import spacy\n",
    "import swifter\n",
    "import matplotlib.pyplot as plt\n",
    "import seaborn as sns"
   ]
  },
  {
   "cell_type": "code",
   "execution_count": 4,
   "id": "9816e22a-4400-4dfa-a11a-407d9a5672f7",
   "metadata": {},
   "outputs": [
    {
     "name": "stderr",
     "output_type": "stream",
     "text": [
      "[nltk_data] Downloading package stopwords to /home/ubuntu/nltk_data...\n",
      "[nltk_data]   Package stopwords is already up-to-date!\n"
     ]
    },
    {
     "data": {
      "text/plain": [
       "True"
      ]
     },
     "execution_count": 4,
     "metadata": {},
     "output_type": "execute_result"
    }
   ],
   "source": [
    "nltk.download('stopwords')\n",
    "spacy.cli.download(\"en_core_web_lg\")"
   ]
  },
  {
   "cell_type": "code",
   "execution_count": 5,
   "id": "976d2775-610f-4696-aadb-cf3159cd943c",
   "metadata": {},
   "outputs": [],
   "source": [
    "stemmer = nltk.stem.SnowballStemmer('english')\n",
    "nlp = spacy.load(\"en_core_web_lg\") # for lemmatisation"
   ]
  },
  {
   "cell_type": "markdown",
   "id": "50a9ecf3-3cd7-49dc-9b4c-eae2bcc08330",
   "metadata": {},
   "source": [
    "The prefixes “http\" and \"https” and the top-level domain suffix were removed from URLs. All other level domains have been left, as in same cases these could provide names of organisations or websites that could help to identify a topic."
   ]
  },
  {
   "cell_type": "code",
   "execution_count": null,
   "id": "96f10ea2-c59f-4d3e-83fd-bc3aef162cdd",
   "metadata": {},
   "outputs": [],
   "source": [
    "!wget https://data.iana.org/TLD/tlds-alpha-by-domain.txt"
   ]
  },
  {
   "cell_type": "code",
   "execution_count": 6,
   "id": "08c4aceb-02b9-433c-ba12-3b87cb2b4f5c",
   "metadata": {},
   "outputs": [],
   "source": [
    "### Top Level Domain list\n",
    "### source https://data.iana.org/TLD/tlds-alpha-by-domain.txt\n",
    "### used to clean up URLs\n",
    "tld_set = set()\n",
    "with open(\"tlds-alpha-by-domain.txt\") as f:\n",
    "    for l in f.readlines():\n",
    "        tld_set.add(l.replace(\"\\n\",\"\"))"
   ]
  },
  {
   "cell_type": "code",
   "execution_count": 13,
   "id": "69542a87-85e6-4eae-9b7f-e2d6315b4c2f",
   "metadata": {},
   "outputs": [
    {
     "name": "stdout",
     "output_type": "stream",
     "text": [
      "['.nec', '.toshiba', '.bank', '.sanofi', '.open', '.xn--fiqs8s', '.io', '.cl', '.xn--mgbaakc7dvf', '.prof', '.juniper', '.mv', '.house', '.stada', '.prod', '.now', '.origins', '.locker', '.alibaba', '.gallery', '.gd', '.xn--6frz82g', '.clinic', '.golf', '.mn', '.xn--kpry57d', '.nz', '.ollo', '.pwc', '.xxx', '.aco', '.contact', '.fast', '.nra', '.cash', '.market', '.cafe', '.hangout', '.aaa', '.sc']\n"
     ]
    }
   ],
   "source": [
    "## a portion of the tld_set values\n",
    "\n",
    "print(list(tld_set)[50:90])"
   ]
  },
  {
   "cell_type": "code",
   "execution_count": 14,
   "id": "acf6662c-cfe4-48ca-912e-e614b85ad65a",
   "metadata": {},
   "outputs": [],
   "source": [
    "def preprocess(text, min_len=0, root_extraction=None, stop_words=None):\n",
    "    '''\n",
    "    Prepare a string of text for analysis into words. \n",
    "    parameter\n",
    "        :param text: string - text to process\n",
    "        :param min_len: int - minimum lenght of word to keep\n",
    "        :root_extraction: string - None (default), 'stem','lemmatise'. choice of root/base extraction method. \n",
    "        :param stop_words: list - list of stopwords to remove\n",
    "    return\n",
    "        processed string of text\n",
    "    '''\n",
    "    \n",
    "    text = text.lower()\n",
    "    \n",
    "    for x in tld_set:\n",
    "        if x in text: text = text.replace(x, \"\")\n",
    "        \n",
    "    text = re.sub(r'[^\\w\\s]', '', text)\n",
    "    tokens = text.split()\n",
    "    tokens = [x for x in tokens if not x.isnumeric()]\n",
    "\n",
    "    if min_len > 0:\n",
    "        tokens = filter(lambda x: len(x)>=min_len, tokens)    \n",
    "\n",
    "    if stop_words != None:\n",
    "        tokens = filter(lambda x: x not in stop_words, tokens)\n",
    "\n",
    "    if root_extraction == 'stem':\n",
    "        tokens = map(lambda x: stemmer.stem(x), tokens)\n",
    "        \n",
    "    if root_extraction == 'lemmatise':\n",
    "        doc = nlp(' '.join(tokens))\n",
    "        tokens = map(lambda x: x.lemma_, doc)\n",
    "\n",
    "    return tokens"
   ]
  },
  {
   "cell_type": "code",
   "execution_count": 15,
   "id": "7a4cf88f-fccc-4906-a958-022a8952febc",
   "metadata": {},
   "outputs": [],
   "source": [
    "stop_words = set(nltk.corpus.stopwords.words(\"english\"))\n",
    "stop_words.update({'http', 'https'})"
   ]
  },
  {
   "cell_type": "code",
   "execution_count": 16,
   "id": "7b4124b7-697c-4750-83bf-7d0b36a2ca3f",
   "metadata": {},
   "outputs": [],
   "source": [
    "FILE = \"../data/data.parquet.gzip\"\n",
    "data = pd.read_parquet(FILE)"
   ]
  },
  {
   "cell_type": "code",
   "execution_count": 17,
   "id": "5086a9d1-3845-43ed-a8df-a05271d62506",
   "metadata": {},
   "outputs": [],
   "source": [
    "data[\"processed_docs\"] = data[\"text\"]\\\n",
    "        .swifter.apply(lambda x: ' '.join(preprocess(x,\n",
    "                                    min_len=3,\n",
    "                                    root_extraction='lemmatise',\n",
    "                                    stop_words=stop_words)))"
   ]
  },
  {
   "cell_type": "code",
   "execution_count": 16,
   "id": "790f077e-48c8-459d-830a-06428720bfee",
   "metadata": {},
   "outputs": [
    {
     "data": {
      "text/html": [
       "<div>\n",
       "<style scoped>\n",
       "    .dataframe tbody tr th:only-of-type {\n",
       "        vertical-align: middle;\n",
       "    }\n",
       "\n",
       "    .dataframe tbody tr th {\n",
       "        vertical-align: top;\n",
       "    }\n",
       "\n",
       "    .dataframe thead th {\n",
       "        text-align: right;\n",
       "    }\n",
       "</style>\n",
       "<table border=\"1\" class=\"dataframe\">\n",
       "  <thead>\n",
       "    <tr style=\"text-align: right;\">\n",
       "      <th></th>\n",
       "      <th>text</th>\n",
       "      <th>processed_docs</th>\n",
       "    </tr>\n",
       "  </thead>\n",
       "  <tbody>\n",
       "    <tr>\n",
       "      <th>0</th>\n",
       "      <td>Calculation of prompt diphoton production cros...</td>\n",
       "      <td>calculation prompt diphoton production cross s...</td>\n",
       "    </tr>\n",
       "    <tr>\n",
       "      <th>1</th>\n",
       "      <td>Sparsity-certifying Graph Decompositions   We ...</td>\n",
       "      <td>sparsitycertifye graph decomposition describe ...</td>\n",
       "    </tr>\n",
       "    <tr>\n",
       "      <th>2</th>\n",
       "      <td>The evolution of the Earth-Moon system based o...</td>\n",
       "      <td>evolution earthmoon system base dark matter fi...</td>\n",
       "    </tr>\n",
       "    <tr>\n",
       "      <th>3</th>\n",
       "      <td>A determinant of Stirling cycle numbers counts...</td>\n",
       "      <td>determinant stirling cycle number count unlabe...</td>\n",
       "    </tr>\n",
       "    <tr>\n",
       "      <th>4</th>\n",
       "      <td>From dyadic $\\Lambda_{\\alpha}$ to $\\Lambda_{\\a...</td>\n",
       "      <td>dyadic lambda_alpha lambda_alpha paper show co...</td>\n",
       "    </tr>\n",
       "  </tbody>\n",
       "</table>\n",
       "</div>"
      ],
      "text/plain": [
       "                                                text  \\\n",
       "0  Calculation of prompt diphoton production cros...   \n",
       "1  Sparsity-certifying Graph Decompositions   We ...   \n",
       "2  The evolution of the Earth-Moon system based o...   \n",
       "3  A determinant of Stirling cycle numbers counts...   \n",
       "4  From dyadic $\\Lambda_{\\alpha}$ to $\\Lambda_{\\a...   \n",
       "\n",
       "                                      processed_docs  \n",
       "0  calculation prompt diphoton production cross s...  \n",
       "1  sparsitycertifye graph decomposition describe ...  \n",
       "2  evolution earthmoon system base dark matter fi...  \n",
       "3  determinant stirling cycle number count unlabe...  \n",
       "4  dyadic lambda_alpha lambda_alpha paper show co...  "
      ]
     },
     "execution_count": 16,
     "metadata": {},
     "output_type": "execute_result"
    }
   ],
   "source": [
    "data[[\"text\",\"processed_docs\"]].head()"
   ]
  },
  {
   "cell_type": "code",
   "execution_count": 41,
   "id": "df645d12-693f-40bc-9732-7194bc8dee8d",
   "metadata": {},
   "outputs": [
    {
     "data": {
      "text/plain": [
       "'Modular decomposition numbers of cyclotomic Hecke and diagrammatic\\n  Cherednik algebras: A path theoretic approach   We introduce a path-theoretic framework for understanding the representation\\ntheory of (quantum) symmetric and general linear groups and their higher level\\ngeneralisations over fields of arbitrary characteristic. Our first main result\\nis a \"super-strong linkage principle\" which provides degree-wise upper bounds\\nfor graded decomposition numbers (this is new even in the case of symmetric\\ngroups). Next, we generalise the notion of homomorphisms between Weyl/Specht\\nmodules which are \"generically\" placed (within the associated alcove\\ngeometries) to cyclotomic Hecke and diagrammatic Cherednik algebras. Finally,\\nwe provide evidence for a higher-level analogue of the classical Lusztig\\nconjecture over fields of sufficiently large characteristic.\\n'"
      ]
     },
     "execution_count": 41,
     "metadata": {},
     "output_type": "execute_result"
    }
   ],
   "source": [
    "example = data.sample(1)\n",
    "example[\"text\"].iloc[0]"
   ]
  },
  {
   "cell_type": "code",
   "execution_count": 42,
   "id": "f2a902b0-b758-409f-8e70-be21d3b6f01c",
   "metadata": {},
   "outputs": [
    {
     "data": {
      "text/html": [
       "<div>\n",
       "<style scoped>\n",
       "    .dataframe tbody tr th:only-of-type {\n",
       "        vertical-align: middle;\n",
       "    }\n",
       "\n",
       "    .dataframe tbody tr th {\n",
       "        vertical-align: top;\n",
       "    }\n",
       "\n",
       "    .dataframe thead th {\n",
       "        text-align: right;\n",
       "    }\n",
       "</style>\n",
       "<table border=\"1\" class=\"dataframe\">\n",
       "  <thead>\n",
       "    <tr style=\"text-align: right;\">\n",
       "      <th></th>\n",
       "      <th>id</th>\n",
       "      <th>target_name_extended</th>\n",
       "      <th>text</th>\n",
       "      <th>target_extended</th>\n",
       "      <th>processed_docs</th>\n",
       "      <th>target</th>\n",
       "      <th>target_name</th>\n",
       "    </tr>\n",
       "  </thead>\n",
       "  <tbody>\n",
       "    <tr>\n",
       "      <th>861863</th>\n",
       "      <td>1706.07128</td>\n",
       "      <td>Mathematics</td>\n",
       "      <td>Modular decomposition numbers of cyclotomic He...</td>\n",
       "      <td>7</td>\n",
       "      <td>modular decomposition number cyclotomic hecke ...</td>\n",
       "      <td>1</td>\n",
       "      <td>Mathematics</td>\n",
       "    </tr>\n",
       "  </tbody>\n",
       "</table>\n",
       "</div>"
      ],
      "text/plain": [
       "                id target_name_extended  \\\n",
       "861863  1706.07128          Mathematics   \n",
       "\n",
       "                                                     text  target_extended  \\\n",
       "861863  Modular decomposition numbers of cyclotomic He...                7   \n",
       "\n",
       "                                           processed_docs  target  target_name  \n",
       "861863  modular decomposition number cyclotomic hecke ...       1  Mathematics  "
      ]
     },
     "execution_count": 42,
     "metadata": {},
     "output_type": "execute_result"
    }
   ],
   "source": [
    "example"
   ]
  },
  {
   "cell_type": "code",
   "execution_count": 43,
   "id": "f43907be-4989-4c6c-ad86-8d939d0d558e",
   "metadata": {},
   "outputs": [
    {
     "data": {
      "text/plain": [
       "'modular decomposition number cyclotomic hecke diagrammatic cherednik algebras path theoretic approach introduce paththeoretic framework understand representation theory quantum symmetric general linear group high level generalisation field arbitrary characteristic first main result superstrong linkage principle provide degreewise upper bound grade decomposition number new even case symmetric group next generalise notion homomorphism weylspecht module generically place within associate alcove geometry cyclotomic hecke diagrammatic cherednik algebra finally provide evidence higherlevel analogue classical lusztig conjecture field sufficiently large characteristic'"
      ]
     },
     "execution_count": 43,
     "metadata": {},
     "output_type": "execute_result"
    }
   ],
   "source": [
    "example[\"processed_docs\"].iloc[0]"
   ]
  },
  {
   "cell_type": "markdown",
   "id": "74a4fbdb-35d2-4e28-b36b-1d2c69941631",
   "metadata": {},
   "source": [
    "### Saving before conducting further analysis"
   ]
  },
  {
   "cell_type": "code",
   "execution_count": 6,
   "id": "7e63d936-0a0a-415e-add4-84381e258584",
   "metadata": {},
   "outputs": [],
   "source": [
    "data.to_parquet(\"../data/data.parquet.gzip\")"
   ]
  },
  {
   "cell_type": "markdown",
   "id": "0ba8ceb5-96e8-400c-839d-cb9e811e8789",
   "metadata": {},
   "source": [
    "## Processed Word count analysis"
   ]
  },
  {
   "cell_type": "code",
   "execution_count": 44,
   "id": "8734793e-a3c1-4811-9f50-cc50a41877d8",
   "metadata": {},
   "outputs": [],
   "source": [
    "def plot_counts(col, title):\n",
    "    plt.figure(figsize= (8, 8))\n",
    "\n",
    "    sns.displot(data[col])\n",
    "\n",
    "    max_cnt = data[col].max()\n",
    "\n",
    "    plt.xlim(0, max_cnt+10)\n",
    "\n",
    "    plt.xlabel('Num of words ', fontsize = 16)\n",
    "    plt.title(title, fontsize = 18)\n",
    "    plt.show()"
   ]
  },
  {
   "cell_type": "code",
   "execution_count": 45,
   "id": "d19eb220-47c8-4ca1-a00e-550ef52dfdb3",
   "metadata": {},
   "outputs": [],
   "source": [
    "data['count_processed'] = data['processed_docs'].apply(lambda x: len(x.split()))"
   ]
  },
  {
   "cell_type": "code",
   "execution_count": 46,
   "id": "7ea8c917-3508-4f4f-8a93-94b407653c1a",
   "metadata": {},
   "outputs": [
    {
     "data": {
      "text/plain": [
       "<Figure size 800x800 with 0 Axes>"
      ]
     },
     "metadata": {},
     "output_type": "display_data"
    },
    {
     "data": {
      "image/png": "[encoded data removed]",
      "text/plain": [
       "<Figure size 500x500 with 1 Axes>"
      ]
     },
     "metadata": {},
     "output_type": "display_data"
    }
   ],
   "source": [
    "plot_counts('count_processed', \"Number of words distribution \\nafter pre-processing\")"
   ]
  },
  {
   "cell_type": "code",
   "execution_count": 48,
   "id": "8a024eab-8ef6-4e78-be81-269f7dde026d",
   "metadata": {},
   "outputs": [
    {
     "data": {
      "text/plain": [
       "count    2190407\n",
       "mean          87\n",
       "std           39\n",
       "min            3\n",
       "25%           58\n",
       "50%           83\n",
       "75%          114\n",
       "max          538\n",
       "Name: count_processed, dtype: int64"
      ]
     },
     "execution_count": 48,
     "metadata": {},
     "output_type": "execute_result"
    }
   ],
   "source": [
    "data['count_processed'].describe().apply(round)"
   ]
  },
  {
   "cell_type": "code",
   "execution_count": 51,
   "id": "899cb758-31b1-4c56-920d-696303fc2e50",
   "metadata": {},
   "outputs": [
    {
     "data": {
      "image/png": "[encoded data removed]",
      "text/plain": [
       "<Figure size 640x480 with 1 Axes>"
      ]
     },
     "metadata": {},
     "output_type": "display_data"
    }
   ],
   "source": [
    "ax = data['count_processed'].plot(kind='box', title=\"Number of words distribution \\nafter pre-processing\")"
   ]
  }
 ],
 "metadata": {
  "kernelspec": {
   "display_name": "Python 3 (ipykernel)",
   "language": "python",
   "name": "python3"
  },
  "language_info": {
   "codemirror_mode": {
    "name": "ipython",
    "version": 3
   },
   "file_extension": ".py",
   "mimetype": "text/x-python",
   "name": "python",
   "nbconvert_exporter": "python",
   "pygments_lexer": "ipython3",
   "version": "3.10.12"
  }
 },
 "nbformat": 4,
 "nbformat_minor": 5
}
