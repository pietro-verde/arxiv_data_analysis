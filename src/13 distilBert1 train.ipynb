{
 "cells": [
  {
   "cell_type": "markdown",
   "id": "2cd72e75-5b5a-4f69-b94a-3af941f6dacc",
   "metadata": {},
   "source": [
    "# Model distilBert1 train\n",
    "\n",
    "Training of neural network classifier to fine-tune the DistilBert pretrained transformer model.\n",
    "\n",
    "An embedding layer is defined by a sequence of 256 tokenized inputs and mask values. Then, only a simple pooling layer and a dense layer with 64 units that uses ReLU as activation function are added for the fine-tuning part of the model. An output layer uses a Softmax function to calculate the output probabilities over the classes."
   ]
  },
  {
   "cell_type": "code",
   "execution_count": 1,
   "id": "d416adef-bfe1-4308-9130-26635a1ed87c",
   "metadata": {
    "executionInfo": {
     "elapsed": 14390,
     "status": "ok",
     "timestamp": 1681425493984,
     "user": {
      "displayName": "Pver",
      "userId": "03847062666948887867"
     },
     "user_tz": -60
    },
    "id": "d416adef-bfe1-4308-9130-26635a1ed87c"
   },
   "outputs": [],
   "source": [
    "import warnings\n",
    "warnings.filterwarnings(\"ignore\")\n",
    "from transformers import logging as hf_logging\n",
    "hf_logging.set_verbosity_error() # hide transformers library warning messages\n",
    "\n",
    "import numpy as np\n",
    "import os\n",
    "import pickle\n",
    "import pandas as pd\n",
    "from sklearn import metrics\n",
    "from sklearn.utils.class_weight import compute_class_weight\n",
    "import seaborn as sns\n",
    "import matplotlib.pyplot as plt\n",
    "\n",
    "import transformers\n",
    "from transformers import DistilBertTokenizerFast, TFDistilBertModel, DistilBertConfig\n",
    "import tensorflow as tf\n",
    "from tensorflow.keras.callbacks import ModelCheckpoint, ReduceLROnPlateau, EarlyStopping\n",
    "\n",
    "\n",
    "from trainevalutils import *\n",
    "from tqdm import tqdm"
   ]
  },
  {
   "cell_type": "code",
   "execution_count": 2,
   "id": "c223ea08-528d-4833-b5e5-b6dae16f2327",
   "metadata": {},
   "outputs": [],
   "source": [
    "MAX_LENGTH = 256"
   ]
  },
  {
   "cell_type": "code",
   "execution_count": 3,
   "id": "9911d908-e7da-4c77-a69f-ac0c514bebd2",
   "metadata": {
    "executionInfo": {
     "elapsed": 5,
     "status": "ok",
     "timestamp": 1681426400466,
     "user": {
      "displayName": "Pver",
      "userId": "03847062666948887867"
     },
     "user_tz": -60
    },
    "id": "9911d908-e7da-4c77-a69f-ac0c514bebd2"
   },
   "outputs": [],
   "source": [
    "THIS_MODEL_NAME = 'distilBert'\n",
    "VERSION = '1'\n",
    "\n",
    "\n",
    "RESULT_DIR = '../results/'\n",
    "OUTPUT_DIR = '../models/wip/'+THIS_MODEL_NAME+'/'\n",
    "CHECKPOINTS_DIR = OUTPUT_DIR + 'checkpoints/'\n",
    "MODEL_DIR = OUTPUT_DIR + THIS_MODEL_NAME + VERSION + '/'\n",
    "HISTORY_DIR = OUTPUT_DIR + 'history/'\n",
    "LOGS_DIR = OUTPUT_DIR + 'logs/'\n",
    "\n",
    "for dir_ in [OUTPUT_DIR, CHECKPOINTS_DIR, MODEL_DIR, HISTORY_DIR, LOGS_DIR, RESULT_DIR]:\n",
    "    if not os.path.exists(dir_):\n",
    "        os.makedirs(dir_)"
   ]
  },
  {
   "cell_type": "code",
   "execution_count": 4,
   "id": "adebb08b-404c-420f-994c-6c836d96a95e",
   "metadata": {
    "colab": {
     "base_uri": "https://localhost:8080/"
    },
    "executionInfo": {
     "elapsed": 5276,
     "status": "ok",
     "timestamp": 1681425499255,
     "user": {
      "displayName": "Pver",
      "userId": "03847062666948887867"
     },
     "user_tz": -60
    },
    "id": "adebb08b-404c-420f-994c-6c836d96a95e",
    "outputId": "6d08a4fe-f9af-4b25-d908-0461995c7f12"
   },
   "outputs": [],
   "source": [
    "SEED = 3742\n",
    "tf.random.set_seed(SEED)\n",
    "\n",
    "class_names = pickle.load(open(\"../data/class_labels_dic.pkl\", 'rb'))\n",
    "\n",
    "TRANSFORMER_MODEL_NAME = 'distilbert-base-cased'"
   ]
  },
  {
   "cell_type": "code",
   "execution_count": 5,
   "id": "1b761f98-1562-48a8-8d38-dec9e4ad626f",
   "metadata": {},
   "outputs": [],
   "source": [
    "l = str(MAX_LENGTH)\n",
    "X_train = pickle.load(open(\"../data/wip/dB/X_train_tot_\"+l+\".pkl\", 'rb'))\n",
    "y_train = pickle.load(open(\"../data/wip/dB/y_train_tot_\"+l+\".pkl\", 'rb'))\n",
    "\n",
    "X_val = pickle.load(open(\"../data/wip/dB/X_val_tot_\"+l+\".pkl\", 'rb'))\n",
    "y_val = pickle.load(open(\"../data/wip/dB/y_val_tot_\"+l+\".pkl\", 'rb'))"
   ]
  },
  {
   "cell_type": "code",
   "execution_count": 7,
   "id": "47725d51-641a-4590-9828-f7a862971268",
   "metadata": {
    "executionInfo": {
     "elapsed": 8,
     "status": "ok",
     "timestamp": 1681425520441,
     "user": {
      "displayName": "Pver",
      "userId": "03847062666948887867"
     },
     "user_tz": -60
    },
    "id": "47725d51-641a-4590-9828-f7a862971268"
   },
   "outputs": [],
   "source": [
    "def build_model(NUM_CLASSES):\n",
    "\n",
    "    config = DistilBertConfig.from_pretrained(TRANSFORMER_MODEL_NAME, output_hidden_states=True, output_attentions=True)\n",
    "    DistilBERT = TFDistilBertModel.from_pretrained(TRANSFORMER_MODEL_NAME, config=config)\n",
    "\n",
    "    input_ids_in = tf.keras.layers.Input(shape=(MAX_LENGTH,), name='input_token', dtype='int32')\n",
    "    input_masks_in = tf.keras.layers.Input(shape=(MAX_LENGTH,), name='masked_token', dtype='int32') \n",
    "\n",
    "    embedding_layer = DistilBERT(input_ids = input_ids_in, attention_mask = input_masks_in)[0]\n",
    "\n",
    "    # fine-tuning\n",
    "    X = tf.keras.layers.GlobalMaxPool1D()(embedding_layer)\n",
    "    X = tf.keras.layers.Dense(64, activation='relu')(X)\n",
    "\n",
    "    output = tf.keras.layers.Dense(NUM_CLASSES, activation='softmax')(X)\n",
    "\n",
    "    model = tf.keras.Model(inputs=[input_ids_in, input_masks_in], outputs = output)\n",
    "\n",
    "    # Freezeing DistilBert layer\n",
    "    # https://www.tensorflow.org/guide/keras/transfer_learning\n",
    "    for layer in model.layers[:3]:\n",
    "        layer.trainable = False\n",
    "\n",
    "    return model"
   ]
  },
  {
   "cell_type": "code",
   "execution_count": 8,
   "id": "S7YSBgVEiu1p",
   "metadata": {
    "executionInfo": {
     "elapsed": 15682,
     "status": "ok",
     "timestamp": 1681425536117,
     "user": {
      "displayName": "Pver",
      "userId": "03847062666948887867"
     },
     "user_tz": -60
    },
    "id": "S7YSBgVEiu1p"
   },
   "outputs": [
    {
     "data": {
      "application/vnd.jupyter.widget-view+json": {
       "model_id": "47c67d199929484eb3166f3c9955e00c",
       "version_major": 2,
       "version_minor": 0
      },
      "text/plain": [
       "Downloading config.json:   0%|          | 0.00/411 [00:00<?, ?B/s]"
      ]
     },
     "metadata": {},
     "output_type": "display_data"
    },
    {
     "data": {
      "application/vnd.jupyter.widget-view+json": {
       "model_id": "487111d78be7416b96ad774721a9be08",
       "version_major": 2,
       "version_minor": 0
      },
      "text/plain": [
       "Downloading tf_model.h5:   0%|          | 0.00/338M [00:00<?, ?B/s]"
      ]
     },
     "metadata": {},
     "output_type": "display_data"
    }
   ],
   "source": [
    "NUM_CLASSES = len(class_names)\n",
    "\n",
    "model = build_model(NUM_CLASSES)"
   ]
  },
  {
   "cell_type": "code",
   "execution_count": 16,
   "id": "ec8965ca-1fd7-46ff-841c-1a3acecaaf07",
   "metadata": {},
   "outputs": [
    {
     "name": "stdout",
     "output_type": "stream",
     "text": [
      "Model: \"model\"\n",
      "__________________________________________________________________________________________________\n",
      " Layer (type)                   Output Shape         Param #     Connected to                     \n",
      "==================================================================================================\n",
      " input_token (InputLayer)       [(None, 256)]        0           []                               \n",
      "                                                                                                  \n",
      " masked_token (InputLayer)      [(None, 256)]        0           []                               \n",
      "                                                                                                  \n",
      " tf_distil_bert_model (TFDistil  TFBaseModelOutput(l  65190912   ['input_token[0][0]',            \n",
      " BertModel)                     ast_hidden_state=(N               'masked_token[0][0]']           \n",
      "                                one, 256, 768),                                                   \n",
      "                                 hidden_states=((No                                               \n",
      "                                ne, 256, 768),                                                    \n",
      "                                 (None, 256, 768),                                                \n",
      "                                 (None, 256, 768),                                                \n",
      "                                 (None, 256, 768),                                                \n",
      "                                 (None, 256, 768),                                                \n",
      "                                 (None, 256, 768),                                                \n",
      "                                 (None, 256, 768)),                                               \n",
      "                                 attentions=((None,                                               \n",
      "                                 12, None, 256),                                                  \n",
      "                                 (None, 12, None, 2                                               \n",
      "                                56),                                                              \n",
      "                                 (None, 12, None, 2                                               \n",
      "                                56),                                                              \n",
      "                                 (None, 12, None, 2                                               \n",
      "                                56),                                                              \n",
      "                                 (None, 12, None, 2                                               \n",
      "                                56),                                                              \n",
      "                                 (None, 12, None, 2                                               \n",
      "                                56)))                                                             \n",
      "                                                                                                  \n",
      " global_max_pooling1d (GlobalMa  (None, 768)         0           ['tf_distil_bert_model[0][13]']  \n",
      " xPooling1D)                                                                                      \n",
      "                                                                                                  \n",
      " dense (Dense)                  (None, 64)           49216       ['global_max_pooling1d[0][0]']   \n",
      "                                                                                                  \n",
      " dense_1 (Dense)                (None, 4)            260         ['dense[0][0]']                  \n",
      "                                                                                                  \n",
      "==================================================================================================\n",
      "Total params: 65,240,388\n",
      "Trainable params: 49,476\n",
      "Non-trainable params: 65,190,912\n",
      "__________________________________________________________________________________________________\n"
     ]
    }
   ],
   "source": [
    "model.summary()"
   ]
  },
  {
   "cell_type": "code",
   "execution_count": 9,
   "id": "71fd1eab-5a9d-4ddc-b866-ff550d853da4",
   "metadata": {
    "colab": {
     "base_uri": "https://localhost:8080/"
    },
    "executionInfo": {
     "elapsed": 54,
     "status": "ok",
     "timestamp": 1681425536119,
     "user": {
      "displayName": "Pver",
      "userId": "03847062666948887867"
     },
     "user_tz": -60
    },
    "id": "71fd1eab-5a9d-4ddc-b866-ff550d853da4",
    "outputId": "204857ea-d73b-45e0-ab36-56a963651195"
   },
   "outputs": [
    {
     "name": "stdout",
     "output_type": "stream",
     "text": [
      "Class weights: {0: 0.4545195539839763, 1: 1.1477398655116995, 2: 1.3942740747527858, 3: 4.730862130814301}\n"
     ]
    }
   ],
   "source": [
    "model_checkpoint = tf.keras.callbacks.ModelCheckpoint(\n",
    "    filepath=CHECKPOINTS_DIR+'CHCKPNT-ep{epoch:02d}-vlos{val_loss:.2f}.hdf5',\n",
    "    monitor='val_loss',\n",
    "    mode='min',\n",
    "    save_best_only=True,\n",
    "    save_weights_only=True,\n",
    "    verbose=1\n",
    ")\n",
    "\n",
    "reduce_lr = tf.keras.callbacks.ReduceLROnPlateau(\n",
    "    monitor='val_loss',\n",
    "    mode='min',\n",
    "    factor=0.1,\n",
    "    patience=1,\n",
    "    verbose=1,\n",
    "    min_delta=0.01,\n",
    "    min_lr=0.000001\n",
    ")\n",
    "\n",
    "early_stopping = tf.keras.callbacks.EarlyStopping(\n",
    "    monitor='val_loss',\n",
    "    mode='min',\n",
    "    min_delta=0,\n",
    "    patience=3,\n",
    "    verbose=1,\n",
    "    restore_best_weights=False\n",
    ")\n",
    "\n",
    "csv_logger = tf.keras.callbacks.CSVLogger(\n",
    "    filename = LOGS_DIR + 'training_log.csv',\n",
    "    separator=',',\n",
    "    append=True\n",
    ")\n",
    "\n",
    "# Calculate the class weights\n",
    "class_weights = compute_class_weight('balanced', classes= np.unique(y_train), y=y_train)\n",
    "class_weights = {i : class_weights[i] for i in range(NUM_CLASSES)}\n",
    "\n",
    "print(\"Class weights:\", class_weights)"
   ]
  },
  {
   "cell_type": "markdown",
   "id": "jdhq_sW6cW8X",
   "metadata": {
    "id": "jdhq_sW6cW8X"
   },
   "source": [
    "## TRAIN"
   ]
  },
  {
   "cell_type": "code",
   "execution_count": 10,
   "id": "Bk-H6vehf1sx",
   "metadata": {
    "colab": {
     "base_uri": "https://localhost:8080/",
     "height": 98
    },
    "executionInfo": {
     "elapsed": 179,
     "status": "ok",
     "timestamp": 1681426413171,
     "user": {
      "displayName": "Pver",
      "userId": "03847062666948887867"
     },
     "user_tz": -60
    },
    "id": "Bk-H6vehf1sx",
    "outputId": "a695b6d1-72ac-48fe-eecb-5ba976762f3e"
   },
   "outputs": [
    {
     "data": {
      "text/html": [
       "<div>\n",
       "<style scoped>\n",
       "    .dataframe tbody tr th:only-of-type {\n",
       "        vertical-align: middle;\n",
       "    }\n",
       "\n",
       "    .dataframe tbody tr th {\n",
       "        vertical-align: top;\n",
       "    }\n",
       "\n",
       "    .dataframe thead th {\n",
       "        text-align: right;\n",
       "    }\n",
       "</style>\n",
       "<table border=\"1\" class=\"dataframe\">\n",
       "  <thead>\n",
       "    <tr style=\"text-align: right;\">\n",
       "      <th></th>\n",
       "      <th>epoch</th>\n",
       "      <th>accuracy</th>\n",
       "      <th>loss</th>\n",
       "      <th>lr</th>\n",
       "      <th>precision</th>\n",
       "      <th>recall</th>\n",
       "      <th>val_accuracy</th>\n",
       "      <th>val_loss</th>\n",
       "      <th>val_precision</th>\n",
       "      <th>val_recall</th>\n",
       "    </tr>\n",
       "  </thead>\n",
       "  <tbody>\n",
       "    <tr>\n",
       "      <th>0</th>\n",
       "      <td>0</td>\n",
       "      <td>0.823137</td>\n",
       "      <td>0.556354</td>\n",
       "      <td>0.0010</td>\n",
       "      <td>0.852250</td>\n",
       "      <td>0.796304</td>\n",
       "      <td>0.854456</td>\n",
       "      <td>0.401694</td>\n",
       "      <td>0.879528</td>\n",
       "      <td>0.834591</td>\n",
       "    </tr>\n",
       "    <tr>\n",
       "      <th>1</th>\n",
       "      <td>1</td>\n",
       "      <td>0.836461</td>\n",
       "      <td>0.515955</td>\n",
       "      <td>0.0010</td>\n",
       "      <td>0.860576</td>\n",
       "      <td>0.815553</td>\n",
       "      <td>0.838823</td>\n",
       "      <td>0.427692</td>\n",
       "      <td>0.865289</td>\n",
       "      <td>0.815137</td>\n",
       "    </tr>\n",
       "    <tr>\n",
       "      <th>2</th>\n",
       "      <td>2</td>\n",
       "      <td>0.845797</td>\n",
       "      <td>0.487380</td>\n",
       "      <td>0.0001</td>\n",
       "      <td>0.867941</td>\n",
       "      <td>0.826630</td>\n",
       "      <td>0.848154</td>\n",
       "      <td>0.398483</td>\n",
       "      <td>0.874166</td>\n",
       "      <td>0.825575</td>\n",
       "    </tr>\n",
       "    <tr>\n",
       "      <th>3</th>\n",
       "      <td>3</td>\n",
       "      <td>0.846368</td>\n",
       "      <td>0.484890</td>\n",
       "      <td>0.0001</td>\n",
       "      <td>0.867718</td>\n",
       "      <td>0.827927</td>\n",
       "      <td>0.852612</td>\n",
       "      <td>0.386807</td>\n",
       "      <td>0.874113</td>\n",
       "      <td>0.834276</td>\n",
       "    </tr>\n",
       "    <tr>\n",
       "      <th>4</th>\n",
       "      <td>4</td>\n",
       "      <td>0.846753</td>\n",
       "      <td>0.483552</td>\n",
       "      <td>0.0001</td>\n",
       "      <td>0.868022</td>\n",
       "      <td>0.828567</td>\n",
       "      <td>0.853264</td>\n",
       "      <td>0.381778</td>\n",
       "      <td>0.873918</td>\n",
       "      <td>0.836173</td>\n",
       "    </tr>\n",
       "    <tr>\n",
       "      <th>5</th>\n",
       "      <td>5</td>\n",
       "      <td>0.840056</td>\n",
       "      <td>0.504131</td>\n",
       "      <td>0.0010</td>\n",
       "      <td>0.862796</td>\n",
       "      <td>0.820606</td>\n",
       "      <td>0.858861</td>\n",
       "      <td>0.376452</td>\n",
       "      <td>0.887398</td>\n",
       "      <td>0.835303</td>\n",
       "    </tr>\n",
       "    <tr>\n",
       "      <th>6</th>\n",
       "      <td>6</td>\n",
       "      <td>0.842689</td>\n",
       "      <td>0.497630</td>\n",
       "      <td>0.0010</td>\n",
       "      <td>0.864948</td>\n",
       "      <td>0.823290</td>\n",
       "      <td>0.856508</td>\n",
       "      <td>0.378004</td>\n",
       "      <td>0.880563</td>\n",
       "      <td>0.836267</td>\n",
       "    </tr>\n",
       "    <tr>\n",
       "      <th>7</th>\n",
       "      <td>7</td>\n",
       "      <td>0.842263</td>\n",
       "      <td>0.497477</td>\n",
       "      <td>0.0010</td>\n",
       "      <td>0.864823</td>\n",
       "      <td>0.823079</td>\n",
       "      <td>0.855717</td>\n",
       "      <td>0.383467</td>\n",
       "      <td>0.890456</td>\n",
       "      <td>0.827293</td>\n",
       "    </tr>\n",
       "    <tr>\n",
       "      <th>8</th>\n",
       "      <td>8</td>\n",
       "      <td>0.843935</td>\n",
       "      <td>0.492730</td>\n",
       "      <td>0.0010</td>\n",
       "      <td>0.866529</td>\n",
       "      <td>0.824629</td>\n",
       "      <td>0.850091</td>\n",
       "      <td>0.393785</td>\n",
       "      <td>0.875224</td>\n",
       "      <td>0.828604</td>\n",
       "    </tr>\n",
       "    <tr>\n",
       "      <th>9</th>\n",
       "      <td>9</td>\n",
       "      <td>0.850247</td>\n",
       "      <td>0.471527</td>\n",
       "      <td>0.0001</td>\n",
       "      <td>0.872330</td>\n",
       "      <td>0.831660</td>\n",
       "      <td>0.853916</td>\n",
       "      <td>0.375282</td>\n",
       "      <td>0.876139</td>\n",
       "      <td>0.835267</td>\n",
       "    </tr>\n",
       "  </tbody>\n",
       "</table>\n",
       "</div>"
      ],
      "text/plain": [
       "   epoch  accuracy      loss      lr  precision    recall  val_accuracy  \\\n",
       "0      0  0.823137  0.556354  0.0010   0.852250  0.796304      0.854456   \n",
       "1      1  0.836461  0.515955  0.0010   0.860576  0.815553      0.838823   \n",
       "2      2  0.845797  0.487380  0.0001   0.867941  0.826630      0.848154   \n",
       "3      3  0.846368  0.484890  0.0001   0.867718  0.827927      0.852612   \n",
       "4      4  0.846753  0.483552  0.0001   0.868022  0.828567      0.853264   \n",
       "5      5  0.840056  0.504131  0.0010   0.862796  0.820606      0.858861   \n",
       "6      6  0.842689  0.497630  0.0010   0.864948  0.823290      0.856508   \n",
       "7      7  0.842263  0.497477  0.0010   0.864823  0.823079      0.855717   \n",
       "8      8  0.843935  0.492730  0.0010   0.866529  0.824629      0.850091   \n",
       "9      9  0.850247  0.471527  0.0001   0.872330  0.831660      0.853916   \n",
       "\n",
       "   val_loss  val_precision  val_recall  \n",
       "0  0.401694       0.879528    0.834591  \n",
       "1  0.427692       0.865289    0.815137  \n",
       "2  0.398483       0.874166    0.825575  \n",
       "3  0.386807       0.874113    0.834276  \n",
       "4  0.381778       0.873918    0.836173  \n",
       "5  0.376452       0.887398    0.835303  \n",
       "6  0.378004       0.880563    0.836267  \n",
       "7  0.383467       0.890456    0.827293  \n",
       "8  0.393785       0.875224    0.828604  \n",
       "9  0.375282       0.876139    0.835267  "
      ]
     },
     "execution_count": 10,
     "metadata": {},
     "output_type": "execute_result"
    }
   ],
   "source": [
    "resuming_training = True\n",
    "try:\n",
    "    log = pd.read_csv(LOGS_DIR+'training_log.csv')\n",
    "except FileNotFoundError:\n",
    "    resuming_training = False\n",
    "    log = pd.DataFrame({\"epoch\":[0]})\n",
    "    print(\"Training starts from epoch 0.\")\n",
    "\n",
    "log"
   ]
  },
  {
   "cell_type": "code",
   "execution_count": 11,
   "id": "1oNJ0MeNgVLe",
   "metadata": {
    "executionInfo": {
     "elapsed": 173,
     "status": "ok",
     "timestamp": 1681426418459,
     "user": {
      "displayName": "Pver",
      "userId": "03847062666948887867"
     },
     "user_tz": -60
    },
    "id": "1oNJ0MeNgVLe"
   },
   "outputs": [],
   "source": [
    "## reload weighths if it's a retraining session\n",
    "if resuming_training: \n",
    "    if len((os.listdir(MODEL_DIR))) == 0:\n",
    "        checkpointName = input('Enter checkpoint file name: ')\n",
    "        checkpoint = CHECKPOINTS_DIR + checkpointName\n",
    "    else:\n",
    "        checkpoint = MODEL_DIR\n",
    "    model.load_weights(checkpoint)"
   ]
  },
  {
   "cell_type": "code",
   "execution_count": 12,
   "id": "Peuc29zRgVTl",
   "metadata": {
    "executionInfo": {
     "elapsed": 156,
     "status": "ok",
     "timestamp": 1681426560566,
     "user": {
      "displayName": "Pver",
      "userId": "03847062666948887867"
     },
     "user_tz": -60
    },
    "id": "Peuc29zRgVTl"
   },
   "outputs": [],
   "source": [
    "METRICS = [tf.keras.metrics.Recall(name='recall'),\n",
    "           tf.keras.metrics.Precision(name='precision'),\n",
    "           'accuracy'\n",
    "          ]\n",
    "\n",
    "OPTIMIZER = tf.keras.optimizers.Adam()\n",
    "\n",
    "LOSS='categorical_crossentropy' #'sparse_categorical_crossentropy'\n",
    "\n",
    "model.compile(loss=LOSS, optimizer=OPTIMIZER, metrics=METRICS)"
   ]
  },
  {
   "cell_type": "code",
   "execution_count": 13,
   "id": "9dbd59aa-5313-4a34-87c8-888a61a1d2e0",
   "metadata": {},
   "outputs": [],
   "source": [
    "y_train_1hot = tf.one_hot(y_train, NUM_CLASSES)\n",
    "y_val_1hot = tf.one_hot(y_val, NUM_CLASSES)"
   ]
  },
  {
   "cell_type": "markdown",
   "id": "942cc185-1892-4cd8-a104-6b500305a4a2",
   "metadata": {},
   "source": [
    "### TRAIN"
   ]
  },
  {
   "cell_type": "code",
   "execution_count": 19,
   "id": "c717a4b6-e1f9-42e7-9529-f436afaf2cf9",
   "metadata": {
    "colab": {
     "base_uri": "https://localhost:8080/",
     "height": 415
    },
    "executionInfo": {
     "elapsed": 12871,
     "status": "error",
     "timestamp": 1681426580031,
     "user": {
      "displayName": "Pver",
      "userId": "03847062666948887867"
     },
     "user_tz": -60
    },
    "id": "c717a4b6-e1f9-42e7-9529-f436afaf2cf9",
    "outputId": "4d3de233-c0f0-42cb-e610-7ea655feba0f"
   },
   "outputs": [
    {
     "name": "stdout",
     "output_type": "stream",
     "text": [
      "Epoch 8/10\n",
      "21623/24728 [=========================>....] - ETA: 11:03 - loss: 0.4978 - recall: 0.8229 - precision: 0.8647 - accuracy: 0.8421"
     ]
    },
    {
     "name": "stderr",
     "output_type": "stream",
     "text": [
      "IOPub message rate exceeded.\n",
      "The Jupyter server will temporarily stop sending output\n",
      "to the client in order to avoid crashing it.\n",
      "To change this limit, set the config variable\n",
      "`--ServerApp.iopub_msg_rate_limit`.\n",
      "\n",
      "Current values:\n",
      "ServerApp.iopub_msg_rate_limit=1000.0 (msgs/sec)\n",
      "ServerApp.rate_limit_window=3.0 (secs)\n",
      "\n"
     ]
    },
    {
     "name": "stdout",
     "output_type": "stream",
     "text": [
      "\n",
      "Epoch 8: val_loss improved from inf to 0.38347, saving model to ../models/wip/distilBert/checkpoints/CHCKPNT-ep08-vlos0.38.hdf5\n",
      "24728/24728 [==============================] - 6066s 245ms/step - loss: 0.4975 - recall: 0.8231 - precision: 0.8648 - accuracy: 0.8423 - val_loss: 0.3835 - val_recall: 0.8273 - val_precision: 0.8905 - val_accuracy: 0.8557 - lr: 0.0010\n",
      "Epoch 9/10\n",
      "24728/24728 [==============================] - ETA: 0s - loss: 0.4927 - recall: 0.8246 - precision: 0.8665 - accuracy: 0.8439\n",
      "Epoch 9: val_loss did not improve from 0.38347\n",
      "\n",
      "Epoch 9: ReduceLROnPlateau reducing learning rate to 0.00010000000474974513.\n",
      "24728/24728 [==============================] - 6062s 245ms/step - loss: 0.4927 - recall: 0.8246 - precision: 0.8665 - accuracy: 0.8439 - val_loss: 0.3938 - val_recall: 0.8286 - val_precision: 0.8752 - val_accuracy: 0.8501 - lr: 0.0010\n",
      "Epoch 10/10\n",
      "24728/24728 [==============================] - ETA: 0s - loss: 0.4715 - recall: 0.8317 - precision: 0.8723 - accuracy: 0.8502\n",
      "Epoch 10: val_loss improved from 0.38347 to 0.37528, saving model to ../models/wip/distilBert/checkpoints/CHCKPNT-ep10-vlos0.38.hdf5\n",
      "\n",
      "Epoch 10: ReduceLROnPlateau reducing learning rate to 1.0000000474974514e-05.\n",
      "24728/24728 [==============================] - 6071s 246ms/step - loss: 0.4715 - recall: 0.8317 - precision: 0.8723 - accuracy: 0.8502 - val_loss: 0.3753 - val_recall: 0.8353 - val_precision: 0.8761 - val_accuracy: 0.8539 - lr: 1.0000e-04\n"
     ]
    }
   ],
   "source": [
    "MAX_EPOCHS = 10\n",
    "BATCH_SIZE = 64\n",
    "\n",
    "initial_epoch = log[\"epoch\"].iloc[-1:].values[0]\n",
    "if resuming_training: initial_epoch += 1\n",
    "\n",
    "\n",
    "history = model.fit(X_train, \n",
    "                    y_train_1hot, \n",
    "                    epochs = MAX_EPOCHS, initial_epoch=initial_epoch,\n",
    "                    batch_size = BATCH_SIZE, \n",
    "                    validation_data=(X_val, y_val_1hot), \n",
    "                    callbacks=[model_checkpoint, early_stopping, reduce_lr, csv_logger],\n",
    "                    class_weight=class_weights\n",
    "                   )\n",
    "\n",
    "\n",
    "model.save_weights(MODEL_DIR)\n",
    "\n",
    "with open(HISTORY_DIR+'history.pkl', 'wb') as f:\n",
    "    pickle.dump(history.history, f)"
   ]
  },
  {
   "cell_type": "code",
   "execution_count": 25,
   "id": "7891abc8-e966-4856-aa95-ddc6ae560fe2",
   "metadata": {
    "executionInfo": {
     "elapsed": 175,
     "status": "ok",
     "timestamp": 1681426116085,
     "user": {
      "displayName": "Pver",
      "userId": "03847062666948887867"
     },
     "user_tz": -60
    },
    "id": "aac94fc2-1665-4f42-9e30-de6456867be8"
   },
   "outputs": [
    {
     "name": "stdout",
     "output_type": "stream",
     "text": [
      "Highest Validation Precision: epoch 8\n",
      "Highest Validation Recall: epoch 7\n",
      "Highest Validation Accuracy: epoch 6\n",
      "Lowest Validation Loss: epoch 10\n"
     ]
    },
    {
     "data": {
      "image/png": "[encoded data removed]",
      "text/plain": [
       "<Figure size 1200x1000 with 4 Axes>"
      ]
     },
     "metadata": {},
     "output_type": "display_data"
    }
   ],
   "source": [
    "def load_history():\n",
    "    if resuming_training:\n",
    "        log = pd.read_csv(LOGS_DIR+'training_log.csv')\n",
    "        data_dict = log.drop(\"epoch\", axis=1).to_dict()\n",
    "        output_dict = {}\n",
    "        for key in data_dict.keys():\n",
    "            output_dict[key] = list(data_dict[key].values())\n",
    "        return output_dict\n",
    "    return history.history\n",
    "\n",
    "history_dict = load_history()\n",
    "plot_history(history_dict)"
   ]
  },
  {
   "cell_type": "markdown",
   "id": "d4edeac7-e6ca-4bc5-bf63-2919c4506fd8",
   "metadata": {},
   "source": [
    "### Selection of epoch to use for evaluation\n",
    "The model to evaluate can be loaded from a previous epoch, if required after the history plot analysis."
   ]
  },
  {
   "cell_type": "code",
   "execution_count": null,
   "id": "c70d013b-c9f5-449f-9712-f349cd40a5a3",
   "metadata": {},
   "outputs": [],
   "source": [
    "# if needed, reload a model from a previous checkpoint file.\n",
    "checkpointName = input('Enter checkpoint file name: ')\n",
    "checkpoint = CHECKPOINTS_DIR + checkpointName\n",
    "model.load_weights(checkpoint)"
   ]
  },
  {
   "cell_type": "code",
   "execution_count": 14,
   "id": "bacc7da1-ea74-42c7-a19a-5ddef9167d3d",
   "metadata": {},
   "outputs": [],
   "source": [
    "def evaluate_nn(name, X, y_actual):\n",
    "    y_probs = model.predict(X)\n",
    "\n",
    "    y_pred = []\n",
    "    for prob in y_probs:\n",
    "        y_pred.append(np.argmax(prob))\n",
    "\n",
    "    res = generate_model_report(name, y_actual, y_pred)\n",
    "\n",
    "    report = metrics.classification_report(y_actual, y_pred, target_names=target_names.values())\n",
    "    print(f'\\nClassification report:\\n{report}')\n",
    "    return res"
   ]
  },
  {
   "cell_type": "code",
   "execution_count": 15,
   "id": "3f16b577-06ac-45e2-a054-2d86e4f5b19f",
   "metadata": {
    "colab": {
     "base_uri": "https://localhost:8080/"
    },
    "executionInfo": {
     "elapsed": 4308,
     "status": "ok",
     "timestamp": 1681423729314,
     "user": {
      "displayName": "Pver",
      "userId": "03847062666948887867"
     },
     "user_tz": -60
    },
    "id": "3f16b577-06ac-45e2-a054-2d86e4f5b19f",
    "outputId": "448b9c5e-87cf-4684-8fec-c576bf031b60"
   },
   "outputs": [
    {
     "name": "stdout",
     "output_type": "stream",
     "text": [
      "49456/49456 [==============================] - 4599s 93ms/step\n",
      "Accuracy: 0.853869786321978\n",
      "Precision (macro): 0.7535836888732896\n",
      "Recall (macro): 0.8127038386918176\n",
      "F1-score (macro): 0.7642925213509699\n",
      "\n",
      "Classification report:\n",
      "              precision    recall  f1-score   support\n",
      "\n",
      "     Physics       0.97      0.90      0.93    870462\n",
      " Mathematics       0.83      0.87      0.85    344714\n",
      "Computer Sc.       0.85      0.73      0.79    283762\n",
      "       Other       0.36      0.75      0.49     83630\n",
      "\n",
      "    accuracy                           0.85   1582568\n",
      "   macro avg       0.75      0.81      0.76   1582568\n",
      "weighted avg       0.89      0.85      0.87   1582568\n",
      "\n"
     ]
    }
   ],
   "source": [
    "result_train = evaluate_nn(THIS_MODEL_NAME+VERSION+'_train', X_train, y_train)"
   ]
  },
  {
   "cell_type": "code",
   "execution_count": 17,
   "id": "af0da33d-cacd-4b24-a4fe-3e6609682bd5",
   "metadata": {},
   "outputs": [
    {
     "name": "stdout",
     "output_type": "stream",
     "text": [
      "8728/8728 [==============================] - 812s 93ms/step\n",
      "Accuracy: 0.8539335498447778\n",
      "Precision (macro): 0.7540600465899808\n",
      "Recall (macro): 0.8128564784614455\n",
      "F1-score (macro): 0.7645363856227644\n",
      "\n",
      "Classification report:\n",
      "              precision    recall  f1-score   support\n",
      "\n",
      "     Physics       0.97      0.90      0.93    153261\n",
      " Mathematics       0.83      0.87      0.85     60818\n",
      "Computer Sc.       0.85      0.73      0.79     50476\n",
      "       Other       0.36      0.75      0.49     14722\n",
      "\n",
      "    accuracy                           0.85    279277\n",
      "   macro avg       0.75      0.81      0.76    279277\n",
      "weighted avg       0.89      0.85      0.87    279277\n",
      "\n"
     ]
    }
   ],
   "source": [
    "result_val = evaluate_nn(THIS_MODEL_NAME+VERSION+'_val', X_val, y_val)"
   ]
  },
  {
   "cell_type": "code",
   "execution_count": 18,
   "id": "9d141ec2-649d-49e3-8af0-75ccf806b863",
   "metadata": {},
   "outputs": [
    {
     "data": {
      "text/html": [
       "<div>\n",
       "<style scoped>\n",
       "    .dataframe tbody tr th:only-of-type {\n",
       "        vertical-align: middle;\n",
       "    }\n",
       "\n",
       "    .dataframe tbody tr th {\n",
       "        vertical-align: top;\n",
       "    }\n",
       "\n",
       "    .dataframe thead th {\n",
       "        text-align: right;\n",
       "    }\n",
       "</style>\n",
       "<table border=\"1\" class=\"dataframe\">\n",
       "  <thead>\n",
       "    <tr style=\"text-align: right;\">\n",
       "      <th></th>\n",
       "      <th>Description</th>\n",
       "      <th>Accuracy</th>\n",
       "      <th>Precision</th>\n",
       "      <th>Recall</th>\n",
       "      <th>F1-score</th>\n",
       "    </tr>\n",
       "  </thead>\n",
       "  <tbody>\n",
       "    <tr>\n",
       "      <th>0</th>\n",
       "      <td>distilBert1_val</td>\n",
       "      <td>0.853934</td>\n",
       "      <td>0.75406</td>\n",
       "      <td>0.812856</td>\n",
       "      <td>0.764536</td>\n",
       "    </tr>\n",
       "  </tbody>\n",
       "</table>\n",
       "</div>"
      ],
      "text/plain": [
       "       Description  Accuracy  Precision    Recall  F1-score\n",
       "0  distilBert1_val  0.853934    0.75406  0.812856  0.764536"
      ]
     },
     "execution_count": 18,
     "metadata": {},
     "output_type": "execute_result"
    }
   ],
   "source": [
    "df_result = pd.DataFrame([result_val])\n",
    "df_result"
   ]
  },
  {
   "cell_type": "code",
   "execution_count": 19,
   "id": "d0c115e2-d601-4997-95b6-f15cedc88d5c",
   "metadata": {},
   "outputs": [],
   "source": [
    "df_result.to_pickle(RESULT_DIR+'results_'+THIS_MODEL_NAME+VERSION+'.pkl')"
   ]
  }
 ],
 "metadata": {
  "accelerator": "GPU",
  "colab": {
   "provenance": []
  },
  "gpuClass": "standard",
  "kernelspec": {
   "display_name": "Python 3 (ipykernel)",
   "language": "python",
   "name": "python3"
  },
  "language_info": {
   "codemirror_mode": {
    "name": "ipython",
    "version": 3
   },
   "file_extension": ".py",
   "mimetype": "text/x-python",
   "name": "python",
   "nbconvert_exporter": "python",
   "pygments_lexer": "ipython3",
   "version": "3.10.12"
  }
 },
 "nbformat": 4,
 "nbformat_minor": 5
}
