{
 "cells": [
  {
   "cell_type": "code",
   "execution_count": 1,
   "id": "ce1db22d-f656-4b5e-9d43-27933fade840",
   "metadata": {},
   "outputs": [],
   "source": [
    "import warnings\n",
    "warnings.filterwarnings(\"ignore\")\n",
    "\n",
    "import numpy as np\n",
    "import pandas as pd\n",
    "from sklearn.linear_model import LogisticRegression\n",
    "from sklearn import metrics\n",
    "from sklearn.model_selection import train_test_split\n",
    "import seaborn as sns\n",
    "import matplotlib.pyplot as plt\n",
    "import pickle\n",
    "from sklearn.model_selection import GridSearchCV\n",
    "import itertools\n",
    "from tqdm import tqdm"
   ]
  },
  {
   "cell_type": "code",
   "execution_count": 2,
   "id": "2b6074b8-1722-4204-bcb8-a9e205a6b1fb",
   "metadata": {},
   "outputs": [],
   "source": [
    "FILE = \"../data/w2v-vectors_goog_pren.parquet.gzip\"\n",
    "data = pd.read_parquet(FILE)"
   ]
  },
  {
   "cell_type": "code",
   "execution_count": 3,
   "id": "43c1fbfc-2411-4210-80d6-98d9fae3841e",
   "metadata": {},
   "outputs": [],
   "source": [
    "train_idx = pickle.load(open(\"../data/wip/train_idx.pkl\", 'rb'))"
   ]
  },
  {
   "cell_type": "code",
   "execution_count": 4,
   "id": "fde88c31-60fd-4d7a-b98d-2bd567508282",
   "metadata": {},
   "outputs": [],
   "source": [
    "training_data = data.loc[train_idx]"
   ]
  },
  {
   "cell_type": "code",
   "execution_count": 5,
   "id": "7b26cffd-0168-4ca4-a5d0-c3b037b810ec",
   "metadata": {},
   "outputs": [],
   "source": [
    "SEED = 3742\n",
    "N_SAMPLE = 100_000"
   ]
  },
  {
   "cell_type": "code",
   "execution_count": 6,
   "id": "528bef8c-d3eb-4977-8490-45a824539dd1",
   "metadata": {},
   "outputs": [],
   "source": [
    "tuning_data = training_data.sample(N_SAMPLE,random_state=SEED)"
   ]
  },
  {
   "cell_type": "code",
   "execution_count": 7,
   "id": "16d48f7d-80ec-405b-81d2-01788737a567",
   "metadata": {},
   "outputs": [],
   "source": [
    "del data\n",
    "del training_data"
   ]
  },
  {
   "cell_type": "code",
   "execution_count": 8,
   "id": "f42ec551-7db5-40ff-98a1-196a07d96653",
   "metadata": {},
   "outputs": [],
   "source": [
    "features = 'google-news_w2v_mean_prenorm'\n",
    "target = 'class'"
   ]
  },
  {
   "cell_type": "code",
   "execution_count": 9,
   "id": "4047d46a-ffe9-450b-a889-60b9a721d6ca",
   "metadata": {},
   "outputs": [],
   "source": [
    "tuning_data[target] = tuning_data[target].map({2:0,7:1,6:2,5:3,1:3,3:3,4:3,0:3})"
   ]
  },
  {
   "cell_type": "code",
   "execution_count": 10,
   "id": "70cb9128-36a1-4f04-a161-a651be2d3e8c",
   "metadata": {},
   "outputs": [],
   "source": [
    "X_train = np.stack(tuning_data[features])\n",
    "y_train = tuning_data[target]"
   ]
  },
  {
   "cell_type": "code",
   "execution_count": 11,
   "id": "f71bd359-9033-47cb-9aee-fd9d8d800e33",
   "metadata": {},
   "outputs": [
    {
     "data": {
      "text/plain": [
       "0    54852\n",
       "1    21878\n",
       "2    17970\n",
       "3     5300\n",
       "Name: class, dtype: int64"
      ]
     },
     "execution_count": 11,
     "metadata": {},
     "output_type": "execute_result"
    }
   ],
   "source": [
    "y_train.value_counts()"
   ]
  },
  {
   "cell_type": "code",
   "execution_count": 12,
   "id": "a922edca-d78f-4cd2-8bc4-11e914e21178",
   "metadata": {},
   "outputs": [],
   "source": [
    "from datetime import datetime\n",
    "\n",
    "from sklearn.utils.class_weight import compute_class_weight\n",
    "\n",
    "classes = np.unique(y_train)  # list of unique class labels\n",
    "\n",
    "class_weights = compute_class_weight('balanced', classes= np.unique(y_train), y=y_train)"
   ]
  },
  {
   "cell_type": "code",
   "execution_count": 13,
   "id": "52634895-82ee-4fb7-9207-046da8ca9f52",
   "metadata": {},
   "outputs": [
    {
     "data": {
      "text/plain": [
       "81"
      ]
     },
     "execution_count": 13,
     "metadata": {},
     "output_type": "execute_result"
    }
   ],
   "source": [
    "def expand_weight_range(value, k=3, amplitude=.1):\n",
    "    '''\n",
    "      Creates additional values around an original given value.\n",
    "\n",
    "      value: the starting weight value\n",
    "      k: the total numbe of weights to obtain\n",
    "      amplitude: expressed as a fraction, it is the threshold\n",
    "             considered when creating the range of values.\n",
    "\n",
    "      Example: \n",
    "      expand_weight_range(value=100, k=3, amplitude=0.20)\n",
    "\n",
    "      result:\n",
    "      array([110., 100.,  90.])\n",
    "\n",
    "      '''\n",
    "    a = value + value * amplitude\n",
    "    b = value - value * amplitude\n",
    "    res = np.linspace(a,b,k)\n",
    "    return res\n",
    "\n",
    "\n",
    "\n",
    "ranges = [expand_weight_range(x) for x in class_weights]\n",
    "\n",
    "catesian_pr_weights = list(itertools.product(*ranges))\n",
    "\n",
    "weight_ranges = [dict(zip(classes,x)) for x in catesian_pr_weights]\n",
    "\n",
    "len(weight_ranges)"
   ]
  },
  {
   "cell_type": "code",
   "execution_count": 15,
   "id": "c3b7d807-798a-401d-b312-9c4058892f5e",
   "metadata": {},
   "outputs": [
    {
     "name": "stdout",
     "output_type": "stream",
     "text": [
      "start: 2023-04-15 00:31:46.542976\n",
      "Fitting 5 folds for each of 81 candidates, totalling 405 fits\n",
      "Best params: {'class_weight': {0: 0.5013490848100343, 1: 1.2569704726208977, 2: 1.530328324986088, 3: 4.245283018867925}}\n",
      "end: 2023-04-15 01:01:51.725756\n"
     ]
    }
   ],
   "source": [
    "start = datetime.now()\n",
    "print(f\"start: {start}\")\n",
    "\n",
    "\n",
    "gsc = GridSearchCV(\n",
    "    estimator = LogisticRegression(),\n",
    "    param_grid={\n",
    "        'class_weight' : [x for x in weight_ranges]\n",
    "    },\n",
    "    scoring = 'f1_macro',\n",
    "    cv = 5,\n",
    "    verbose=1\n",
    ")\n",
    "\n",
    "\n",
    "\n",
    "grid_result = gsc.fit(X_train, y_train)\n",
    "\n",
    "\n",
    "print(f\"Best params: {grid_result.best_params_}\")\n",
    "\n",
    "\n",
    "pickle.dump(grid_result, open(\"tmp/grid_result.pkl\", 'wb'))\n",
    "\n",
    "end = datetime.now()\n",
    "print(f\"end: {end}\")"
   ]
  },
  {
   "cell_type": "code",
   "execution_count": 16,
   "id": "05c53723-ed83-4ac9-b9ac-106e290bfa85",
   "metadata": {},
   "outputs": [],
   "source": [
    "grid_result = pickle.load(open(\"tmp/grid_result.pkl\", 'rb'))"
   ]
  },
  {
   "cell_type": "code",
   "execution_count": 30,
   "id": "d37b3345-2ba0-4f4b-a25e-e8d16f3ac78c",
   "metadata": {},
   "outputs": [
    {
     "name": "stdout",
     "output_type": "stream",
     "text": [
      "initial weights: [0.45577189528184936, 1.1427004296553616, 1.391207568169171, 4.716981132075472]\n",
      "after gridsearchcv: [0.5013490848100343, 1.2569704726208977, 1.530328324986088, 4.245283018867925]\n"
     ]
    }
   ],
   "source": [
    "print(f\"initial weights: {list(class_weights)}\")\n",
    "print(f\"after gridsearchcv: {list(grid_result.best_params_['class_weight'].values())}\")"
   ]
  }
 ],
 "metadata": {
  "kernelspec": {
   "display_name": "Python 3 (ipykernel)",
   "language": "python",
   "name": "python3"
  },
  "language_info": {
   "codemirror_mode": {
    "name": "ipython",
    "version": 3
   },
   "file_extension": ".py",
   "mimetype": "text/x-python",
   "name": "python",
   "nbconvert_exporter": "python",
   "pygments_lexer": "ipython3",
   "version": "3.10.12"
  }
 },
 "nbformat": 4,
 "nbformat_minor": 5
}
