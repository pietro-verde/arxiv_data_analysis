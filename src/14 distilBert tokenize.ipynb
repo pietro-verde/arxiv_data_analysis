{
 "cells": [
  {
   "cell_type": "markdown",
   "id": "69669991-4a05-42c5-b29d-5a4377858d82",
   "metadata": {},
   "source": [
    "# DistilBert tokenization\n",
    "\n",
    "The DistilBert tokenizer is applied to the data"
   ]
  },
  {
   "cell_type": "code",
   "execution_count": 4,
   "id": "d416adef-bfe1-4308-9130-26635a1ed87c",
   "metadata": {},
   "outputs": [],
   "source": [
    "import warnings\n",
    "warnings.filterwarnings(\"ignore\")\n",
    "from transformers import logging as hf_logging\n",
    "hf_logging.set_verbosity_error() # hide transformers library warning messages\n",
    "\n",
    "import numpy as np\n",
    "import os\n",
    "import pickle\n",
    "import pandas as pd\n",
    "from sklearn import metrics\n",
    "from sklearn.utils.class_weight import compute_class_weight\n",
    "import seaborn as sns\n",
    "import matplotlib.pyplot as plt\n",
    "\n",
    "import transformers\n",
    "from transformers import DistilBertTokenizerFast, TFDistilBertModel, DistilBertConfig\n",
    "import tensorflow as tf\n",
    "from tensorflow.keras.callbacks import ModelCheckpoint, ReduceLROnPlateau, EarlyStopping\n",
    "\n",
    "from tqdm import tqdm"
   ]
  },
  {
   "cell_type": "code",
   "execution_count": 5,
   "id": "68cfd424-dc5c-44ec-8512-45d8e1c8b3f3",
   "metadata": {},
   "outputs": [],
   "source": [
    "SEED = 3742\n",
    "tf.random.set_seed(SEED)\n",
    "\n",
    "class_names = pickle.load(open(\"../data/class_labels_dic.pkl\", 'rb'))\n",
    "\n",
    "TRANSFORMER_MODEL_NAME = 'distilbert-base-cased'"
   ]
  },
  {
   "cell_type": "code",
   "execution_count": 6,
   "id": "6b7c9367-9fc3-4129-a036-c3fee546e89b",
   "metadata": {},
   "outputs": [],
   "source": [
    "FILE = \"../data/data.parquet.gzip\"\n",
    "data = pd.read_parquet(FILE)\n",
    "\n",
    "### load train - val indexes\n",
    "train_idx = pickle.load(open(\"../data/wip/train_idx.pkl\", 'rb'))\n",
    "val_idx = pickle.load(open(\"../data/wip/val_idx.pkl\", 'rb'))\n",
    "test_idx = pickle.load(open(\"../data/wip/test_idx.pkl\", 'rb'))\n",
    "\n",
    "### split data by indexes\n",
    "training_data = data.loc[train_idx]\n",
    "validation_data = data.loc[val_idx]\n",
    "test_data = data.loc[test_idx]"
   ]
  },
  {
   "cell_type": "markdown",
   "id": "86251e83-54c8-46a2-8360-3d64edd5635b",
   "metadata": {},
   "source": [
    "#### Visualizaion of distribution of lenght of text after tokenization to inform decision on max_seq_len\n",
    "\n",
    "This is done using a sample of the data containing 10,000 records"
   ]
  },
  {
   "cell_type": "code",
   "execution_count": 7,
   "id": "0a9db1c2-ad89-43e9-bd49-0e139201e518",
   "metadata": {},
   "outputs": [],
   "source": [
    "tokenizer = DistilBertTokenizerFast.from_pretrained(TRANSFORMER_MODEL_NAME)"
   ]
  },
  {
   "cell_type": "code",
   "execution_count": 8,
   "id": "96b6a10b-f2c0-48b5-b6e6-068eda4757a4",
   "metadata": {},
   "outputs": [
    {
     "name": "stderr",
     "output_type": "stream",
     "text": [
      "100%|█████████████████████████████████████| 100000/100000 [00:56<00:00, 1770.60it/s]\n"
     ]
    }
   ],
   "source": [
    "len_of_dBtokens = []\n",
    "\n",
    "N_SAMPLE = 100_000\n",
    "\n",
    "docs = training_data[\"text\"].sample(N_SAMPLE, random_state=SEED).tolist()\n",
    "\n",
    "for doc in tqdm(docs):\n",
    "    l = len(tokenizer.tokenize(doc))\n",
    "    len_of_dBtokens.append(l)   "
   ]
  },
  {
   "cell_type": "code",
   "execution_count": 9,
   "id": "764adcb8-797b-477a-9616-62bf57654f53",
   "metadata": {},
   "outputs": [
    {
     "data": {
      "text/plain": [
       "<AxesSubplot: >"
      ]
     },
     "execution_count": 9,
     "metadata": {},
     "output_type": "execute_result"
    },
    {
     "data": {
      "image/png": "[encoded data removed]",
      "text/plain": [
       "<Figure size 640x480 with 1 Axes>"
      ]
     },
     "metadata": {},
     "output_type": "display_data"
    }
   ],
   "source": [
    "pd.Series(len_of_dBtokens).hist()"
   ]
  },
  {
   "cell_type": "code",
   "execution_count": 10,
   "id": "32326e21-93c8-4402-b359-2b31d6712545",
   "metadata": {},
   "outputs": [
    {
     "data": {
      "text/plain": [
       "count    100000.0\n",
       "mean        227.0\n",
       "std         105.0\n",
       "min          12.0\n",
       "25%         149.0\n",
       "50%         213.0\n",
       "75%         290.0\n",
       "max        1311.0\n",
       "dtype: float64"
      ]
     },
     "execution_count": 10,
     "metadata": {},
     "output_type": "execute_result"
    }
   ],
   "source": [
    "pd.Series(len_of_dBtokens).describe().round()"
   ]
  },
  {
   "cell_type": "markdown",
   "id": "ad671808-ca1d-4b47-b474-8eaf6e80f7b8",
   "metadata": {},
   "source": [
    "## Tokenization"
   ]
  },
  {
   "cell_type": "code",
   "execution_count": 11,
   "id": "c74fafc7-6cac-456d-b09b-e5e7c272ba5d",
   "metadata": {},
   "outputs": [],
   "source": [
    "# create X and y\n",
    "features = 'text'\n",
    "target = 'target'"
   ]
  },
  {
   "cell_type": "code",
   "execution_count": 12,
   "id": "089c21d0-5196-45cb-a4c9-adcef49e68f8",
   "metadata": {},
   "outputs": [],
   "source": [
    "X_train_raw = training_data[features]\n",
    "y_train = training_data[target]"
   ]
  },
  {
   "cell_type": "code",
   "execution_count": 13,
   "id": "b7370d13-41e7-4b3d-9e05-909c4d8d4295",
   "metadata": {},
   "outputs": [],
   "source": [
    "X_val_raw = validation_data[features]\n",
    "y_val = validation_data[target]"
   ]
  },
  {
   "cell_type": "code",
   "execution_count": 14,
   "id": "a06f38e6-5e39-4b04-af7a-5405f28c3e35",
   "metadata": {},
   "outputs": [],
   "source": [
    "X_test_raw = test_data[features]\n",
    "y_test = test_data[target]"
   ]
  },
  {
   "cell_type": "code",
   "execution_count": 16,
   "id": "c53ed21a-0661-4b6d-bfd5-04ededc7fa13",
   "metadata": {},
   "outputs": [],
   "source": [
    "example = X_train_raw.sample(1)"
   ]
  },
  {
   "cell_type": "code",
   "execution_count": 18,
   "id": "7e5dc4f1-0ab5-4a95-b39c-9c54c20a5014",
   "metadata": {},
   "outputs": [
    {
     "data": {
      "text/plain": [
       "'Singularities of Gauss maps of wave fronts with non-degenerate singular\\n  points   We study singularities of Gauss maps of fronts and give characterizations of\\ntypes of singularities of Gauss maps by geometric properties of fronts which\\nare related to behavior of bounded principal curvatures. Moreover, we\\ninvestigate relation between a kind of boundedness of Gaussian curvatures near\\ncuspidal edges and types of singularities of Gauss maps of cuspidal edges.\\nFurther, we consider extended height functions on fronts with non-degenerate\\nsingular points.\\n'"
      ]
     },
     "execution_count": 18,
     "metadata": {},
     "output_type": "execute_result"
    }
   ],
   "source": [
    "example.iloc[0]"
   ]
  },
  {
   "cell_type": "code",
   "execution_count": 24,
   "id": "a28ee53f-09e9-4f9f-a99c-4947b5053fcb",
   "metadata": {},
   "outputs": [
    {
     "name": "stdout",
     "output_type": "stream",
     "text": [
      "['Sing', '##ular', '##ities', 'of', 'G', '##aus', '##s', 'maps', 'of', 'wave', 'fronts', 'with', 'non', '-', 'de', '##generate', 'singular', 'points', 'We', 'study', 'singular', '##ities', 'of', 'G', '##aus', '##s', 'maps', 'of', 'fronts', 'and', 'give', 'characterization', '##s', 'of', 'types', 'of', 'singular', '##ities', 'of', 'G', '##aus', '##s', 'maps', 'by', 'geometric', 'properties', 'of', 'fronts', 'which', 'are', 'related', 'to', 'behavior', 'of', 'bounded', 'principal', 'cu', '##rva', '##tures', '.', 'Moreover', ',', 'we', 'investigate', 'relation', 'between', 'a', 'kind', 'of', 'bounded', '##ness', 'of', 'G', '##aus', '##sian', 'cu', '##rva', '##tures', 'near', 'cu', '##sp', '##idal', 'edges', 'and', 'types', 'of', 'singular', '##ities', 'of', 'G', '##aus', '##s', 'maps', 'of', 'cu', '##sp', '##idal', 'edges', '.', 'Further', ',', 'we', 'consider', 'extended', 'height', 'functions', 'on', 'fronts', 'with', 'non', '-', 'de', '##generate', 'singular', 'points', '.']\n"
     ]
    }
   ],
   "source": [
    "tokens = tokenizer.tokenize(example.iloc[0])\n",
    "print(tokens)"
   ]
  },
  {
   "cell_type": "code",
   "execution_count": 25,
   "id": "f3ae6e1c-e01c-4112-aa73-c383c1bd2885",
   "metadata": {},
   "outputs": [],
   "source": [
    "MAX_LENGTH = 256 # LEN OF SEQUENCE\n",
    "\n",
    "tokenizer = DistilBertTokenizerFast.from_pretrained(TRANSFORMER_MODEL_NAME,  \n",
    "                                                add_special_tokens=True,\n",
    "                                                max_length=MAX_LENGTH, \n",
    "                                                pad_to_max_length=True)\n",
    "\n",
    "def tokenize(docs, tokenizer):\n",
    "    input_ids, input_masks, input_segments = [], [], []\n",
    "    for doc in tqdm(docs):\n",
    "        inputs = tokenizer.encode_plus(doc, \n",
    "                                       add_special_tokens=True, \n",
    "                                       max_length=MAX_LENGTH, \n",
    "                                       pad_to_max_length=True, \n",
    "                                       return_attention_mask=True, \n",
    "                                       return_token_type_ids=True, \n",
    "                                       truncation=True)\n",
    "        input_ids.append(inputs['input_ids'])\n",
    "        input_masks.append(inputs['attention_mask'])\n",
    "        input_segments.append(inputs['token_type_ids'])\n",
    "        \n",
    "    return np.asarray(input_ids, dtype='int32'), np.asarray(input_masks, dtype='int32')\n",
    "\n"
   ]
  },
  {
   "cell_type": "code",
   "execution_count": 26,
   "id": "85184ead-64a7-446c-a5dd-7a6fdeb4787f",
   "metadata": {},
   "outputs": [
    {
     "name": "stderr",
     "output_type": "stream",
     "text": [
      "100%|████████████████████████████████████████████████| 1/1 [00:00<00:00, 770.45it/s]\n"
     ]
    }
   ],
   "source": [
    "inputs_and_mask = tokenize(example, tokenizer)"
   ]
  },
  {
   "cell_type": "code",
   "execution_count": 27,
   "id": "bedf7fc3-5aa5-4e87-b5a6-4e514a0dd4a6",
   "metadata": {},
   "outputs": [
    {
     "data": {
      "text/plain": [
       "(array([[  101, 13315,  5552,  4233,  1104,   144, 25134,  1116,  7415,\n",
       "          1104,  4003, 25036,  1114,  1664,   118,  1260, 26038, 13794,\n",
       "          1827,  1284,  2025, 13794,  4233,  1104,   144, 25134,  1116,\n",
       "          7415,  1104, 25036,  1105,  1660, 27419,  1116,  1104,  3322,\n",
       "          1104, 13794,  4233,  1104,   144, 25134,  1116,  7415,  1118,\n",
       "         16735,  4625,  1104, 25036,  1134,  1132,  2272,  1106,  4658,\n",
       "          1104, 10350,  3981, 16408, 13461, 12463,   119,  9841,   117,\n",
       "          1195,  8242,  6796,  1206,   170,  1912,  1104, 10350,  1757,\n",
       "          1104,   144, 25134, 11890, 16408, 13461, 12463,  1485, 16408,\n",
       "         20080, 13293,  7521,  1105,  3322,  1104, 13794,  4233,  1104,\n",
       "           144, 25134,  1116,  7415,  1104, 16408, 20080, 13293,  7521,\n",
       "           119,  6940,   117,  1195,  4615,  2925,  3976,  4226,  1113,\n",
       "         25036,  1114,  1664,   118,  1260, 26038, 13794,  1827,   119,\n",
       "           102,     0,     0,     0,     0,     0,     0,     0,     0,\n",
       "             0,     0,     0,     0,     0,     0,     0,     0,     0,\n",
       "             0,     0,     0,     0,     0,     0,     0,     0,     0,\n",
       "             0,     0,     0,     0,     0,     0,     0,     0,     0,\n",
       "             0,     0,     0,     0,     0,     0,     0,     0,     0,\n",
       "             0,     0,     0,     0,     0,     0,     0,     0,     0,\n",
       "             0,     0,     0,     0,     0,     0,     0,     0,     0,\n",
       "             0,     0,     0,     0,     0,     0,     0,     0,     0,\n",
       "             0,     0,     0,     0,     0,     0,     0,     0,     0,\n",
       "             0,     0,     0,     0,     0,     0,     0,     0,     0,\n",
       "             0,     0,     0,     0,     0,     0,     0,     0,     0,\n",
       "             0,     0,     0,     0,     0,     0,     0,     0,     0,\n",
       "             0,     0,     0,     0,     0,     0,     0,     0,     0,\n",
       "             0,     0,     0,     0,     0,     0,     0,     0,     0,\n",
       "             0,     0,     0,     0,     0,     0,     0,     0,     0,\n",
       "             0,     0,     0,     0]], dtype=int32),\n",
       " array([[1, 1, 1, 1, 1, 1, 1, 1, 1, 1, 1, 1, 1, 1, 1, 1, 1, 1, 1, 1, 1, 1,\n",
       "         1, 1, 1, 1, 1, 1, 1, 1, 1, 1, 1, 1, 1, 1, 1, 1, 1, 1, 1, 1, 1, 1,\n",
       "         1, 1, 1, 1, 1, 1, 1, 1, 1, 1, 1, 1, 1, 1, 1, 1, 1, 1, 1, 1, 1, 1,\n",
       "         1, 1, 1, 1, 1, 1, 1, 1, 1, 1, 1, 1, 1, 1, 1, 1, 1, 1, 1, 1, 1, 1,\n",
       "         1, 1, 1, 1, 1, 1, 1, 1, 1, 1, 1, 1, 1, 1, 1, 1, 1, 1, 1, 1, 1, 1,\n",
       "         1, 1, 1, 1, 1, 1, 1, 1, 0, 0, 0, 0, 0, 0, 0, 0, 0, 0, 0, 0, 0, 0,\n",
       "         0, 0, 0, 0, 0, 0, 0, 0, 0, 0, 0, 0, 0, 0, 0, 0, 0, 0, 0, 0, 0, 0,\n",
       "         0, 0, 0, 0, 0, 0, 0, 0, 0, 0, 0, 0, 0, 0, 0, 0, 0, 0, 0, 0, 0, 0,\n",
       "         0, 0, 0, 0, 0, 0, 0, 0, 0, 0, 0, 0, 0, 0, 0, 0, 0, 0, 0, 0, 0, 0,\n",
       "         0, 0, 0, 0, 0, 0, 0, 0, 0, 0, 0, 0, 0, 0, 0, 0, 0, 0, 0, 0, 0, 0,\n",
       "         0, 0, 0, 0, 0, 0, 0, 0, 0, 0, 0, 0, 0, 0, 0, 0, 0, 0, 0, 0, 0, 0,\n",
       "         0, 0, 0, 0, 0, 0, 0, 0, 0, 0, 0, 0, 0, 0]], dtype=int32))"
      ]
     },
     "execution_count": 27,
     "metadata": {},
     "output_type": "execute_result"
    }
   ],
   "source": [
    "inputs_and_mask"
   ]
  },
  {
   "cell_type": "code",
   "execution_count": 33,
   "id": "b6ec47b1-4459-4c08-8297-26b6f6d95068",
   "metadata": {},
   "outputs": [
    {
     "data": {
      "text/plain": [
       "['[UNK]', '[SEP]', '[PAD]', '[CLS]', '[MASK]']"
      ]
     },
     "execution_count": 33,
     "metadata": {},
     "output_type": "execute_result"
    }
   ],
   "source": [
    "tokenizer.all_special_tokens"
   ]
  },
  {
   "cell_type": "code",
   "execution_count": 34,
   "id": "13c69dd2-ad82-42b8-bae5-c9fd825b460f",
   "metadata": {},
   "outputs": [
    {
     "data": {
      "text/plain": [
       "[100, 102, 0, 101, 103]"
      ]
     },
     "execution_count": 34,
     "metadata": {},
     "output_type": "execute_result"
    }
   ],
   "source": [
    "tokenizer.all_special_ids"
   ]
  },
  {
   "cell_type": "code",
   "execution_count": 11,
   "id": "805de867-8bd0-4184-a9f6-b8f24e3d3abb",
   "metadata": {},
   "outputs": [
    {
     "name": "stderr",
     "output_type": "stream",
     "text": [
      "100%|██████████| 70655/70655 [00:49<00:00, 1438.85it/s]\n"
     ]
    }
   ],
   "source": [
    "X_train = tokenize(X_train_raw, tokenizer)"
   ]
  },
  {
   "cell_type": "code",
   "execution_count": 12,
   "id": "9385a10e-0a15-467a-9d77-f032e53d1757",
   "metadata": {},
   "outputs": [],
   "source": [
    "## save to pickle\n",
    "pickle.dump(X_train, open(\"../data/wip/dB/X_train_tot_256.pkl\", 'wb'))\n",
    "pickle.dump(y_train, open(\"../data/wip/dB/y_train_tot_256.pkl\", 'wb'))"
   ]
  },
  {
   "cell_type": "code",
   "execution_count": null,
   "id": "20f7bb8b-8299-4740-96cb-f240a684db2d",
   "metadata": {},
   "outputs": [],
   "source": [
    "X_val = tokenize(X_val_raw, tokenizer)"
   ]
  },
  {
   "cell_type": "code",
   "execution_count": null,
   "id": "e2bfbf48-d3e1-430a-a20f-1ee077b459c3",
   "metadata": {},
   "outputs": [],
   "source": [
    "## save to pickle\n",
    "pickle.dump(X_val, open(\"../data/wip/dB/X_val_tot_256.pkl\", 'wb'))\n",
    "pickle.dump(y_val, open(\"../data/wip/dB/y_val_tot_256.pkl\", 'wb'))"
   ]
  },
  {
   "cell_type": "code",
   "execution_count": 12,
   "id": "087da0e1-de0e-4309-b00c-e95bc37bef2f",
   "metadata": {},
   "outputs": [
    {
     "name": "stderr",
     "output_type": "stream",
     "text": [
      "100%|██████████| 328562/328562 [03:07<00:00, 1749.22it/s]\n"
     ]
    }
   ],
   "source": [
    "X_test = tokenize(X_test_raw, tokenizer)"
   ]
  },
  {
   "cell_type": "code",
   "execution_count": 13,
   "id": "f635b4d6-23e9-4212-bd3f-89371f7b0efa",
   "metadata": {},
   "outputs": [],
   "source": [
    "## save to pickle\n",
    "pickle.dump(X_test, open(\"../data/wip/dB/X_test_tot_256.pkl\", 'wb'))\n",
    "pickle.dump(y_test, open(\"../data/wip/dB/y_test_tot_256.pkl\", 'wb'))"
   ]
  }
 ],
 "metadata": {
  "kernelspec": {
   "display_name": "Python 3 (ipykernel)",
   "language": "python",
   "name": "python3"
  },
  "language_info": {
   "codemirror_mode": {
    "name": "ipython",
    "version": 3
   },
   "file_extension": ".py",
   "mimetype": "text/x-python",
   "name": "python",
   "nbconvert_exporter": "python",
   "pygments_lexer": "ipython3",
   "version": "3.10.12"
  }
 },
 "nbformat": 4,
 "nbformat_minor": 5
}
