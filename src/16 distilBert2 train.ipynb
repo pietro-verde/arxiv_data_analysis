{
 "cells": [
  {
   "cell_type": "markdown",
   "id": "ccb06e15-63df-452d-b645-568d653dcdc9",
   "metadata": {},
   "source": [
    "# Model distilBert2 train\n",
    "\n",
    "Training of neural network classifier to fine-tune the DistilBert pretrained transformer model, with a more complex architecture with respect to distilBert1"
   ]
  },
  {
   "cell_type": "code",
   "execution_count": 1,
   "id": "d416adef-bfe1-4308-9130-26635a1ed87c",
   "metadata": {
    "executionInfo": {
     "elapsed": 14390,
     "status": "ok",
     "timestamp": 1681425493984,
     "user": {
      "displayName": "Pver",
      "userId": "03847062666948887867"
     },
     "user_tz": -60
    },
    "id": "d416adef-bfe1-4308-9130-26635a1ed87c"
   },
   "outputs": [],
   "source": [
    "import warnings\n",
    "warnings.filterwarnings(\"ignore\")\n",
    "from transformers import logging as hf_logging\n",
    "hf_logging.set_verbosity_error() # hide transformers library warning messages\n",
    "\n",
    "import numpy as np\n",
    "import os\n",
    "import pickle\n",
    "import pandas as pd\n",
    "from sklearn import metrics\n",
    "from sklearn.utils.class_weight import compute_class_weight\n",
    "import seaborn as sns\n",
    "import matplotlib.pyplot as plt\n",
    "\n",
    "import transformers\n",
    "from transformers import DistilBertTokenizerFast, TFDistilBertModel, DistilBertConfig\n",
    "import tensorflow as tf\n",
    "from tensorflow.keras.callbacks import ModelCheckpoint, ReduceLROnPlateau, EarlyStopping\n",
    "\n",
    "from trainevalutils import *\n",
    "\n",
    "from tqdm import tqdm"
   ]
  },
  {
   "cell_type": "code",
   "execution_count": 2,
   "id": "c223ea08-528d-4833-b5e5-b6dae16f2327",
   "metadata": {},
   "outputs": [],
   "source": [
    "MAX_LENGTH = 256"
   ]
  },
  {
   "cell_type": "code",
   "execution_count": 3,
   "id": "9911d908-e7da-4c77-a69f-ac0c514bebd2",
   "metadata": {
    "executionInfo": {
     "elapsed": 5,
     "status": "ok",
     "timestamp": 1681426400466,
     "user": {
      "displayName": "Pver",
      "userId": "03847062666948887867"
     },
     "user_tz": -60
    },
    "id": "9911d908-e7da-4c77-a69f-ac0c514bebd2"
   },
   "outputs": [],
   "source": [
    "THIS_MODEL_NAME = 'distilBert'\n",
    "VERSION = '2'\n",
    "\n",
    "RESULT_DIR = '../results/'\n",
    "OUTPUT_DIR = '../models/wip/'+THIS_MODEL_NAME+'/'\n",
    "CHECKPOINTS_DIR = OUTPUT_DIR + 'checkpoints/'\n",
    "MODEL_DIR = OUTPUT_DIR + THIS_MODEL_NAME + VERSION + '/'\n",
    "HISTORY_DIR = OUTPUT_DIR + 'history/'\n",
    "LOGS_DIR = OUTPUT_DIR + 'logs/'\n",
    "\n",
    "for dir_ in [OUTPUT_DIR, CHECKPOINTS_DIR, MODEL_DIR, HISTORY_DIR, LOGS_DIR, RESULT_DIR]:\n",
    "    if not os.path.exists(dir_):\n",
    "        os.makedirs(dir_)"
   ]
  },
  {
   "cell_type": "code",
   "execution_count": 4,
   "id": "adebb08b-404c-420f-994c-6c836d96a95e",
   "metadata": {
    "colab": {
     "base_uri": "https://localhost:8080/"
    },
    "executionInfo": {
     "elapsed": 5276,
     "status": "ok",
     "timestamp": 1681425499255,
     "user": {
      "displayName": "Pver",
      "userId": "03847062666948887867"
     },
     "user_tz": -60
    },
    "id": "adebb08b-404c-420f-994c-6c836d96a95e",
    "outputId": "6d08a4fe-f9af-4b25-d908-0461995c7f12"
   },
   "outputs": [],
   "source": [
    "SEED = 3742\n",
    "tf.random.set_seed(SEED)\n",
    "\n",
    "class_names = pickle.load(open(\"../data/class_labels_dic.pkl\", 'rb'))\n",
    "\n",
    "TRANSFORMER_MODEL_NAME = 'distilbert-base-cased'"
   ]
  },
  {
   "cell_type": "code",
   "execution_count": 6,
   "id": "1b761f98-1562-48a8-8d38-dec9e4ad626f",
   "metadata": {},
   "outputs": [],
   "source": [
    "l = str(MAX_LENGTH)\n",
    "X_train = pickle.load(open(\"../data/wip/dB/X_train_tot_\"+l+\".pkl\", 'rb'))\n",
    "y_train = pickle.load(open(\"../data/wip/dB/y_train_tot_\"+l+\".pkl\", 'rb'))\n",
    "\n",
    "X_val = pickle.load(open(\"../data/wip/dB/X_val_tot_\"+l+\".pkl\", 'rb'))\n",
    "y_val = pickle.load(open(\"../data/wip/dB/y_val_tot_\"+l+\".pkl\", 'rb'))"
   ]
  },
  {
   "cell_type": "code",
   "execution_count": 11,
   "id": "47725d51-641a-4590-9828-f7a862971268",
   "metadata": {
    "executionInfo": {
     "elapsed": 8,
     "status": "ok",
     "timestamp": 1681425520441,
     "user": {
      "displayName": "Pver",
      "userId": "03847062666948887867"
     },
     "user_tz": -60
    },
    "id": "47725d51-641a-4590-9828-f7a862971268"
   },
   "outputs": [],
   "source": [
    "def build_model(NUM_CLASSES):\n",
    "    \n",
    "    config = DistilBertConfig.from_pretrained(TRANSFORMER_MODEL_NAME, output_hidden_states=True, output_attentions=True)\n",
    "    DistilBERT = TFDistilBertModel.from_pretrained(TRANSFORMER_MODEL_NAME, config=config)\n",
    "\n",
    "    input_ids_in = tf.keras.layers.Input(shape=(MAX_LENGTH,), name='input_token', dtype='int32')\n",
    "    input_masks_in = tf.keras.layers.Input(shape=(MAX_LENGTH,), name='masked_token', dtype='int32') \n",
    "\n",
    "    embedding_layer = DistilBERT(input_ids = input_ids_in, attention_mask = input_masks_in)[0]\n",
    "  \n",
    "    X = tf.keras.layers.Bidirectional(tf.keras.layers.LSTM(128, return_sequences=True))(embedding_layer)\n",
    "    X = tf.keras.layers.GlobalMaxPool1D()(X)\n",
    "    X = tf.keras.layers.Dense(64, activation='relu')(X)\n",
    "    X = tf.keras.layers.Dropout(0.2)(X)\n",
    "\n",
    "    output = tf.keras.layers.Dense(NUM_CLASSES, activation='softmax')(X)\n",
    "    model = tf.keras.Model(inputs=[input_ids_in, input_masks_in], outputs = output)\n",
    "\n",
    "    # Freezeing DistilBert layer\n",
    "    for layer in model.layers[:3]:\n",
    "        layer.trainable = False\n",
    "\n",
    "    return model"
   ]
  },
  {
   "cell_type": "code",
   "execution_count": 12,
   "id": "S7YSBgVEiu1p",
   "metadata": {
    "executionInfo": {
     "elapsed": 15682,
     "status": "ok",
     "timestamp": 1681425536117,
     "user": {
      "displayName": "Pver",
      "userId": "03847062666948887867"
     },
     "user_tz": -60
    },
    "id": "S7YSBgVEiu1p"
   },
   "outputs": [
    {
     "data": {
      "application/vnd.jupyter.widget-view+json": {
       "model_id": "8f81eea93f0144978bf69fcfd8b6ab10",
       "version_major": 2,
       "version_minor": 0
      },
      "text/plain": [
       "Downloading config.json:   0%|          | 0.00/411 [00:00<?, ?B/s]"
      ]
     },
     "metadata": {},
     "output_type": "display_data"
    },
    {
     "data": {
      "application/vnd.jupyter.widget-view+json": {
       "model_id": "b6bcbac3a63a43f99d08de62c60514ad",
       "version_major": 2,
       "version_minor": 0
      },
      "text/plain": [
       "Downloading tf_model.h5:   0%|          | 0.00/338M [00:00<?, ?B/s]"
      ]
     },
     "metadata": {},
     "output_type": "display_data"
    }
   ],
   "source": [
    "NUM_CLASSES = len(class_names)\n",
    "\n",
    "model = build_model(NUM_CLASSES)"
   ]
  },
  {
   "cell_type": "code",
   "execution_count": 13,
   "id": "ffef61d5-2419-45a0-b65f-4300ce918248",
   "metadata": {},
   "outputs": [
    {
     "name": "stdout",
     "output_type": "stream",
     "text": [
      "Model: \"model\"\n",
      "__________________________________________________________________________________________________\n",
      " Layer (type)                   Output Shape         Param #     Connected to                     \n",
      "==================================================================================================\n",
      " input_token (InputLayer)       [(None, 256)]        0           []                               \n",
      "                                                                                                  \n",
      " masked_token (InputLayer)      [(None, 256)]        0           []                               \n",
      "                                                                                                  \n",
      " tf_distil_bert_model (TFDistil  TFBaseModelOutput(l  65190912   ['input_token[0][0]',            \n",
      " BertModel)                     ast_hidden_state=(N               'masked_token[0][0]']           \n",
      "                                one, 256, 768),                                                   \n",
      "                                 hidden_states=((No                                               \n",
      "                                ne, 256, 768),                                                    \n",
      "                                 (None, 256, 768),                                                \n",
      "                                 (None, 256, 768),                                                \n",
      "                                 (None, 256, 768),                                                \n",
      "                                 (None, 256, 768),                                                \n",
      "                                 (None, 256, 768),                                                \n",
      "                                 (None, 256, 768)),                                               \n",
      "                                 attentions=((None,                                               \n",
      "                                 12, None, 256),                                                  \n",
      "                                 (None, 12, None, 2                                               \n",
      "                                56),                                                              \n",
      "                                 (None, 12, None, 2                                               \n",
      "                                56),                                                              \n",
      "                                 (None, 12, None, 2                                               \n",
      "                                56),                                                              \n",
      "                                 (None, 12, None, 2                                               \n",
      "                                56),                                                              \n",
      "                                 (None, 12, None, 2                                               \n",
      "                                56)))                                                             \n",
      "                                                                                                  \n",
      " bidirectional (Bidirectional)  (None, 256, 256)     918528      ['tf_distil_bert_model[0][13]']  \n",
      "                                                                                                  \n",
      " global_max_pooling1d (GlobalMa  (None, 256)         0           ['bidirectional[0][0]']          \n",
      " xPooling1D)                                                                                      \n",
      "                                                                                                  \n",
      " dense (Dense)                  (None, 64)           16448       ['global_max_pooling1d[0][0]']   \n",
      "                                                                                                  \n",
      " dropout_19 (Dropout)           (None, 64)           0           ['dense[0][0]']                  \n",
      "                                                                                                  \n",
      " dense_1 (Dense)                (None, 4)            260         ['dropout_19[0][0]']             \n",
      "                                                                                                  \n",
      "==================================================================================================\n",
      "Total params: 66,126,148\n",
      "Trainable params: 935,236\n",
      "Non-trainable params: 65,190,912\n",
      "__________________________________________________________________________________________________\n"
     ]
    }
   ],
   "source": [
    "model.summary()"
   ]
  },
  {
   "cell_type": "markdown",
   "id": "81c63517-a534-465a-8e34-31f1dee1c7a0",
   "metadata": {},
   "source": [
    "## Checkpoint monitoring setup\n",
    "\n",
    "A checkpoint model file will be saved if there was an improvement from the previous epoch, in terms of validation loss (val_loss). However, if training was interrupted and it is restarting from a previously saved checkpoint, the calculations will not look at the values achieved in the previous checkpoint. Therefore, if on the first restarting iteration val_loss did not improve with respect to the last saved checkpoint, a new model checkpoint file will be created anyway."
   ]
  },
  {
   "cell_type": "code",
   "execution_count": 14,
   "id": "71fd1eab-5a9d-4ddc-b866-ff550d853da4",
   "metadata": {
    "colab": {
     "base_uri": "https://localhost:8080/"
    },
    "executionInfo": {
     "elapsed": 54,
     "status": "ok",
     "timestamp": 1681425536119,
     "user": {
      "displayName": "Pver",
      "userId": "03847062666948887867"
     },
     "user_tz": -60
    },
    "id": "71fd1eab-5a9d-4ddc-b866-ff550d853da4",
    "outputId": "204857ea-d73b-45e0-ab36-56a963651195"
   },
   "outputs": [
    {
     "name": "stdout",
     "output_type": "stream",
     "text": [
      "Class weights: {0: 0.4545195539839763, 1: 1.1477398655116995, 2: 1.3942740747527858, 3: 4.730862130814301}\n"
     ]
    }
   ],
   "source": [
    "model_checkpoint = tf.keras.callbacks.ModelCheckpoint(\n",
    "    filepath=CHECKPOINTS_DIR+'CHCKPNT-ep{epoch:02d}-vlos{val_loss:.2f}.hdf5',\n",
    "    monitor='val_loss',\n",
    "    mode='min',\n",
    "    save_best_only=True,\n",
    "    save_weights_only=True,\n",
    "    verbose=1\n",
    ")\n",
    "\n",
    "reduce_lr = tf.keras.callbacks.ReduceLROnPlateau(\n",
    "    monitor='val_loss',\n",
    "    mode='min',\n",
    "    factor=0.1,\n",
    "    patience=1,\n",
    "    verbose=1,\n",
    "    min_delta=0.01,\n",
    "    min_lr=0.000001\n",
    ")\n",
    "\n",
    "early_stopping = tf.keras.callbacks.EarlyStopping(\n",
    "    monitor='val_loss',\n",
    "    mode='min',\n",
    "    min_delta=0,\n",
    "    patience=3,\n",
    "    verbose=1,\n",
    "    restore_best_weights=False\n",
    ")\n",
    "\n",
    "csv_logger = tf.keras.callbacks.CSVLogger(\n",
    "    filename = LOGS_DIR + 'training_log.csv',\n",
    "    separator=',',\n",
    "    append=True\n",
    ")\n",
    "\n",
    "# Calculate the class weights\n",
    "class_weights = compute_class_weight('balanced', classes= np.unique(y_train), y=y_train)\n",
    "class_weights = {i : class_weights[i] for i in range(NUM_CLASSES)}\n",
    "\n",
    "print(\"Class weights:\", class_weights)"
   ]
  },
  {
   "cell_type": "code",
   "execution_count": 15,
   "id": "Bk-H6vehf1sx",
   "metadata": {
    "colab": {
     "base_uri": "https://localhost:8080/",
     "height": 98
    },
    "executionInfo": {
     "elapsed": 179,
     "status": "ok",
     "timestamp": 1681426413171,
     "user": {
      "displayName": "Pver",
      "userId": "03847062666948887867"
     },
     "user_tz": -60
    },
    "id": "Bk-H6vehf1sx",
    "outputId": "a695b6d1-72ac-48fe-eecb-5ba976762f3e"
   },
   "outputs": [
    {
     "data": {
      "text/html": [
       "<div>\n",
       "<style scoped>\n",
       "    .dataframe tbody tr th:only-of-type {\n",
       "        vertical-align: middle;\n",
       "    }\n",
       "\n",
       "    .dataframe tbody tr th {\n",
       "        vertical-align: top;\n",
       "    }\n",
       "\n",
       "    .dataframe thead th {\n",
       "        text-align: right;\n",
       "    }\n",
       "</style>\n",
       "<table border=\"1\" class=\"dataframe\">\n",
       "  <thead>\n",
       "    <tr style=\"text-align: right;\">\n",
       "      <th></th>\n",
       "      <th>epoch</th>\n",
       "      <th>accuracy</th>\n",
       "      <th>loss</th>\n",
       "      <th>lr</th>\n",
       "      <th>precision</th>\n",
       "      <th>recall</th>\n",
       "      <th>val_accuracy</th>\n",
       "      <th>val_loss</th>\n",
       "      <th>val_precision</th>\n",
       "      <th>val_recall</th>\n",
       "    </tr>\n",
       "  </thead>\n",
       "  <tbody>\n",
       "    <tr>\n",
       "      <th>0</th>\n",
       "      <td>0</td>\n",
       "      <td>0.882354</td>\n",
       "      <td>0.381688</td>\n",
       "      <td>0.00100</td>\n",
       "      <td>0.896450</td>\n",
       "      <td>0.869988</td>\n",
       "      <td>0.892497</td>\n",
       "      <td>0.277483</td>\n",
       "      <td>0.907554</td>\n",
       "      <td>0.878726</td>\n",
       "    </tr>\n",
       "    <tr>\n",
       "      <th>1</th>\n",
       "      <td>1</td>\n",
       "      <td>0.893100</td>\n",
       "      <td>0.345697</td>\n",
       "      <td>0.00100</td>\n",
       "      <td>0.904425</td>\n",
       "      <td>0.883214</td>\n",
       "      <td>0.897636</td>\n",
       "      <td>0.258438</td>\n",
       "      <td>0.907807</td>\n",
       "      <td>0.889393</td>\n",
       "    </tr>\n",
       "    <tr>\n",
       "      <th>2</th>\n",
       "      <td>2</td>\n",
       "      <td>0.895934</td>\n",
       "      <td>0.333705</td>\n",
       "      <td>0.00100</td>\n",
       "      <td>0.907013</td>\n",
       "      <td>0.886445</td>\n",
       "      <td>0.899852</td>\n",
       "      <td>0.248627</td>\n",
       "      <td>0.910298</td>\n",
       "      <td>0.891409</td>\n",
       "    </tr>\n",
       "    <tr>\n",
       "      <th>3</th>\n",
       "      <td>3</td>\n",
       "      <td>0.902611</td>\n",
       "      <td>0.308331</td>\n",
       "      <td>0.00010</td>\n",
       "      <td>0.912319</td>\n",
       "      <td>0.894420</td>\n",
       "      <td>0.904768</td>\n",
       "      <td>0.237606</td>\n",
       "      <td>0.913645</td>\n",
       "      <td>0.897167</td>\n",
       "    </tr>\n",
       "    <tr>\n",
       "      <th>4</th>\n",
       "      <td>4</td>\n",
       "      <td>0.904740</td>\n",
       "      <td>0.300501</td>\n",
       "      <td>0.00010</td>\n",
       "      <td>0.913734</td>\n",
       "      <td>0.897189</td>\n",
       "      <td>0.901972</td>\n",
       "      <td>0.242238</td>\n",
       "      <td>0.910214</td>\n",
       "      <td>0.895394</td>\n",
       "    </tr>\n",
       "    <tr>\n",
       "      <th>5</th>\n",
       "      <td>5</td>\n",
       "      <td>0.906034</td>\n",
       "      <td>0.294941</td>\n",
       "      <td>0.00001</td>\n",
       "      <td>0.914764</td>\n",
       "      <td>0.898534</td>\n",
       "      <td>0.905624</td>\n",
       "      <td>0.235730</td>\n",
       "      <td>0.913497</td>\n",
       "      <td>0.899150</td>\n",
       "    </tr>\n",
       "    <tr>\n",
       "      <th>6</th>\n",
       "      <td>6</td>\n",
       "      <td>0.898966</td>\n",
       "      <td>0.320993</td>\n",
       "      <td>0.00100</td>\n",
       "      <td>0.909244</td>\n",
       "      <td>0.890215</td>\n",
       "      <td>0.903540</td>\n",
       "      <td>0.249289</td>\n",
       "      <td>0.915716</td>\n",
       "      <td>0.893826</td>\n",
       "    </tr>\n",
       "    <tr>\n",
       "      <th>7</th>\n",
       "      <td>7</td>\n",
       "      <td>0.899909</td>\n",
       "      <td>0.317657</td>\n",
       "      <td>0.00100</td>\n",
       "      <td>0.909964</td>\n",
       "      <td>0.891291</td>\n",
       "      <td>0.904203</td>\n",
       "      <td>0.237825</td>\n",
       "      <td>0.913898</td>\n",
       "      <td>0.896178</td>\n",
       "    </tr>\n",
       "    <tr>\n",
       "      <th>8</th>\n",
       "      <td>8</td>\n",
       "      <td>0.900618</td>\n",
       "      <td>0.313945</td>\n",
       "      <td>0.00100</td>\n",
       "      <td>0.910703</td>\n",
       "      <td>0.892128</td>\n",
       "      <td>0.899849</td>\n",
       "      <td>0.247677</td>\n",
       "      <td>0.909700</td>\n",
       "      <td>0.891889</td>\n",
       "    </tr>\n",
       "    <tr>\n",
       "      <th>9</th>\n",
       "      <td>9</td>\n",
       "      <td>0.902050</td>\n",
       "      <td>0.308240</td>\n",
       "      <td>0.00100</td>\n",
       "      <td>0.911433</td>\n",
       "      <td>0.894116</td>\n",
       "      <td>0.903966</td>\n",
       "      <td>0.244277</td>\n",
       "      <td>0.914429</td>\n",
       "      <td>0.895255</td>\n",
       "    </tr>\n",
       "    <tr>\n",
       "      <th>10</th>\n",
       "      <td>10</td>\n",
       "      <td>0.902884</td>\n",
       "      <td>0.305165</td>\n",
       "      <td>0.00100</td>\n",
       "      <td>0.912116</td>\n",
       "      <td>0.895053</td>\n",
       "      <td>0.904167</td>\n",
       "      <td>0.236832</td>\n",
       "      <td>0.912883</td>\n",
       "      <td>0.896830</td>\n",
       "    </tr>\n",
       "    <tr>\n",
       "      <th>11</th>\n",
       "      <td>11</td>\n",
       "      <td>0.908015</td>\n",
       "      <td>0.285711</td>\n",
       "      <td>0.00010</td>\n",
       "      <td>0.916314</td>\n",
       "      <td>0.901085</td>\n",
       "      <td>0.907060</td>\n",
       "      <td>0.233647</td>\n",
       "      <td>0.914660</td>\n",
       "      <td>0.901019</td>\n",
       "    </tr>\n",
       "  </tbody>\n",
       "</table>\n",
       "</div>"
      ],
      "text/plain": [
       "    epoch  accuracy      loss       lr  precision    recall  val_accuracy  \\\n",
       "0       0  0.882354  0.381688  0.00100   0.896450  0.869988      0.892497   \n",
       "1       1  0.893100  0.345697  0.00100   0.904425  0.883214      0.897636   \n",
       "2       2  0.895934  0.333705  0.00100   0.907013  0.886445      0.899852   \n",
       "3       3  0.902611  0.308331  0.00010   0.912319  0.894420      0.904768   \n",
       "4       4  0.904740  0.300501  0.00010   0.913734  0.897189      0.901972   \n",
       "5       5  0.906034  0.294941  0.00001   0.914764  0.898534      0.905624   \n",
       "6       6  0.898966  0.320993  0.00100   0.909244  0.890215      0.903540   \n",
       "7       7  0.899909  0.317657  0.00100   0.909964  0.891291      0.904203   \n",
       "8       8  0.900618  0.313945  0.00100   0.910703  0.892128      0.899849   \n",
       "9       9  0.902050  0.308240  0.00100   0.911433  0.894116      0.903966   \n",
       "10     10  0.902884  0.305165  0.00100   0.912116  0.895053      0.904167   \n",
       "11     11  0.908015  0.285711  0.00010   0.916314  0.901085      0.907060   \n",
       "\n",
       "    val_loss  val_precision  val_recall  \n",
       "0   0.277483       0.907554    0.878726  \n",
       "1   0.258438       0.907807    0.889393  \n",
       "2   0.248627       0.910298    0.891409  \n",
       "3   0.237606       0.913645    0.897167  \n",
       "4   0.242238       0.910214    0.895394  \n",
       "5   0.235730       0.913497    0.899150  \n",
       "6   0.249289       0.915716    0.893826  \n",
       "7   0.237825       0.913898    0.896178  \n",
       "8   0.247677       0.909700    0.891889  \n",
       "9   0.244277       0.914429    0.895255  \n",
       "10  0.236832       0.912883    0.896830  \n",
       "11  0.233647       0.914660    0.901019  "
      ]
     },
     "execution_count": 15,
     "metadata": {},
     "output_type": "execute_result"
    }
   ],
   "source": [
    "resuming_training = True\n",
    "try:\n",
    "    log = pd.read_csv(LOGS_DIR+'training_log.csv')\n",
    "except FileNotFoundError:\n",
    "    resuming_training = False\n",
    "    log = pd.DataFrame({\"epoch\":[0]})\n",
    "    print(\"Training starts from epoch 0.\")\n",
    "\n",
    "log"
   ]
  },
  {
   "cell_type": "markdown",
   "id": "jdhq_sW6cW8X",
   "metadata": {
    "id": "jdhq_sW6cW8X"
   },
   "source": [
    "## Training setup"
   ]
  },
  {
   "cell_type": "code",
   "execution_count": 16,
   "id": "1oNJ0MeNgVLe",
   "metadata": {
    "executionInfo": {
     "elapsed": 173,
     "status": "ok",
     "timestamp": 1681426418459,
     "user": {
      "displayName": "Pver",
      "userId": "03847062666948887867"
     },
     "user_tz": -60
    },
    "id": "1oNJ0MeNgVLe"
   },
   "outputs": [],
   "source": [
    "## reload weighths if it's a retraining session\n",
    "if resuming_training: \n",
    "    if len((os.listdir(MODEL_DIR))) == 0:\n",
    "        checkpointName = input('Enter checkpoint file name: ')\n",
    "        checkpoint = CHECKPOINTS_DIR + checkpointName\n",
    "    else:\n",
    "        checkpoint = MODEL_DIR\n",
    "    model.load_weights(checkpoint)"
   ]
  },
  {
   "cell_type": "code",
   "execution_count": 17,
   "id": "Peuc29zRgVTl",
   "metadata": {
    "executionInfo": {
     "elapsed": 156,
     "status": "ok",
     "timestamp": 1681426560566,
     "user": {
      "displayName": "Pver",
      "userId": "03847062666948887867"
     },
     "user_tz": -60
    },
    "id": "Peuc29zRgVTl"
   },
   "outputs": [],
   "source": [
    "METRICS = [tf.keras.metrics.Recall(name='recall'),\n",
    "           tf.keras.metrics.Precision(name='precision'),\n",
    "           'accuracy'\n",
    "          ]\n",
    "\n",
    "OPTIMIZER = tf.keras.optimizers.Adam()\n",
    "\n",
    "LOSS='categorical_crossentropy'\n",
    "\n",
    "model.compile(loss=LOSS, optimizer=OPTIMIZER, metrics=METRICS)"
   ]
  },
  {
   "cell_type": "code",
   "execution_count": 18,
   "id": "9dbd59aa-5313-4a34-87c8-888a61a1d2e0",
   "metadata": {},
   "outputs": [],
   "source": [
    "y_train_1hot = tf.one_hot(y_train, NUM_CLASSES)\n",
    "y_val_1hot = tf.one_hot(y_val, NUM_CLASSES)"
   ]
  },
  {
   "cell_type": "markdown",
   "id": "0dd88ec1-dafa-4dcc-a46e-4e364b899f0c",
   "metadata": {},
   "source": [
    "## Training run"
   ]
  },
  {
   "cell_type": "code",
   "execution_count": 14,
   "id": "c717a4b6-e1f9-42e7-9529-f436afaf2cf9",
   "metadata": {
    "colab": {
     "base_uri": "https://localhost:8080/",
     "height": 415
    },
    "executionInfo": {
     "elapsed": 12871,
     "status": "error",
     "timestamp": 1681426580031,
     "user": {
      "displayName": "Pver",
      "userId": "03847062666948887867"
     },
     "user_tz": -60
    },
    "id": "c717a4b6-e1f9-42e7-9529-f436afaf2cf9",
    "outputId": "4d3de233-c0f0-42cb-e610-7ea655feba0f"
   },
   "outputs": [
    {
     "name": "stdout",
     "output_type": "stream",
     "text": [
      "Epoch 10/12\n",
      "24728/24728 [==============================] - ETA: 0s - loss: 0.3082 - recall: 0.8941 - precision: 0.9114 - accuracy: 0.9020\n",
      "Epoch 10: val_loss improved from inf to 0.24428, saving model to ../models/wip/distilBert/checkpoints/CHCKPNT-ep10-vlos0.24.hdf5\n",
      "24728/24728 [==============================] - 6641s 268ms/step - loss: 0.3082 - recall: 0.8941 - precision: 0.9114 - accuracy: 0.9020 - val_loss: 0.2443 - val_recall: 0.8953 - val_precision: 0.9144 - val_accuracy: 0.9040 - lr: 0.0010\n",
      "Epoch 11/12\n",
      "24728/24728 [==============================] - ETA: 0s - loss: 0.3052 - recall: 0.8951 - precision: 0.9121 - accuracy: 0.9029\n",
      "Epoch 11: val_loss improved from 0.24428 to 0.23683, saving model to ../models/wip/distilBert/checkpoints/CHCKPNT-ep11-vlos0.24.hdf5\n",
      "\n",
      "Epoch 11: ReduceLROnPlateau reducing learning rate to 0.00010000000474974513.\n",
      "24728/24728 [==============================] - 6626s 268ms/step - loss: 0.3052 - recall: 0.8951 - precision: 0.9121 - accuracy: 0.9029 - val_loss: 0.2368 - val_recall: 0.8968 - val_precision: 0.9129 - val_accuracy: 0.9042 - lr: 0.0010\n",
      "Epoch 12/12\n",
      "24728/24728 [==============================] - ETA: 0s - loss: 0.2857 - recall: 0.9011 - precision: 0.9163 - accuracy: 0.9080\n",
      "Epoch 12: val_loss improved from 0.23683 to 0.23365, saving model to ../models/wip/distilBert/checkpoints/CHCKPNT-ep12-vlos0.23.hdf5\n",
      "24728/24728 [==============================] - 6624s 268ms/step - loss: 0.2857 - recall: 0.9011 - precision: 0.9163 - accuracy: 0.9080 - val_loss: 0.2336 - val_recall: 0.9010 - val_precision: 0.9147 - val_accuracy: 0.9071 - lr: 1.0000e-04\n"
     ]
    }
   ],
   "source": [
    "MAX_EPOCHS = 12\n",
    "BATCH_SIZE = 64\n",
    "\n",
    "initial_epoch = log[\"epoch\"].iloc[-1:].values[0]\n",
    "if resuming_training: initial_epoch += 1\n",
    "\n",
    "\n",
    "history = model.fit(X_train, \n",
    "                    y_train_1hot, \n",
    "                    epochs = MAX_EPOCHS, initial_epoch=initial_epoch,\n",
    "                    batch_size = BATCH_SIZE, \n",
    "                    validation_data=(X_val, y_val_1hot), \n",
    "                    callbacks=[model_checkpoint, early_stopping, reduce_lr, csv_logger],\n",
    "                    class_weight=class_weights\n",
    "                   )\n",
    "\n",
    "\n",
    "model.save_weights(MODEL_DIR)\n",
    "\n",
    "with open(HISTORY_DIR+'history.pkl', 'wb') as f:\n",
    "    pickle.dump(history.history, f)"
   ]
  },
  {
   "cell_type": "markdown",
   "id": "eec0ca04-c1c5-4b8c-a1c1-30eea5bed19d",
   "metadata": {},
   "source": [
    "## Evaluation"
   ]
  },
  {
   "cell_type": "code",
   "execution_count": 16,
   "id": "7891abc8-e966-4856-aa95-ddc6ae560fe2",
   "metadata": {
    "executionInfo": {
     "elapsed": 175,
     "status": "ok",
     "timestamp": 1681426116085,
     "user": {
      "displayName": "Pver",
      "userId": "03847062666948887867"
     },
     "user_tz": -60
    },
    "id": "aac94fc2-1665-4f42-9e30-de6456867be8"
   },
   "outputs": [
    {
     "name": "stdout",
     "output_type": "stream",
     "text": [
      "Highest Validation Precision: epoch 7\n",
      "Highest Validation Recall: epoch 12\n",
      "Highest Validation Accuracy: epoch 12\n",
      "Lowest Validation Loss: epoch 12\n"
     ]
    },
    {
     "data": {
      "image/png": "[encoded data removed]",
      "text/plain": [
       "<Figure size 1200x1000 with 4 Axes>"
      ]
     },
     "metadata": {},
     "output_type": "display_data"
    }
   ],
   "source": [
    "def load_history():\n",
    "    if resuming_training:\n",
    "        log = pd.read_csv(LOGS_DIR+'training_log.csv')\n",
    "        data_dict = log.drop(\"epoch\", axis=1).to_dict()\n",
    "        output_dict = {}\n",
    "        for key in data_dict.keys():\n",
    "            output_dict[key] = list(data_dict[key].values())\n",
    "        return output_dict\n",
    "    return history.history\n",
    "\n",
    "history_dict = load_history()\n",
    "plot_history(history_dict)"
   ]
  },
  {
   "cell_type": "markdown",
   "id": "d1409010-84b2-4b6a-8025-431ddb450973",
   "metadata": {},
   "source": [
    "### Selection of epoch to use for evaluation\n",
    "Human contribution: the model to evaluate can be loaded from a previous epoch, if required after the history plot analysis."
   ]
  },
  {
   "cell_type": "code",
   "execution_count": null,
   "id": "d20aac1c-d69f-4d8b-adbd-b90b0dd9dddb",
   "metadata": {},
   "outputs": [],
   "source": [
    "# if needed, reload a model from a previous checkpoint file.\n",
    "checkpointName = input('Enter checkpoint file name: ')\n",
    "checkpoint = CHECKPOINTS_DIR + checkpointName\n",
    "model.load_weights(checkpoint)"
   ]
  },
  {
   "cell_type": "code",
   "execution_count": 19,
   "id": "b60a1045-5d6f-4455-9271-29cf17df8adf",
   "metadata": {},
   "outputs": [],
   "source": [
    "def evaluate_nn(name, X, y_actual):\n",
    "    y_probs = model.predict(X)\n",
    "\n",
    "    y_pred = []\n",
    "    for prob in y_probs:\n",
    "        y_pred.append(np.argmax(prob))\n",
    "\n",
    "    res = generate_model_report(name, y_actual, y_pred)\n",
    "\n",
    "    report = metrics.classification_report(y_actual, y_pred, target_names=target_names.values())\n",
    "    print(f'\\nClassification report:\\n{report}')\n",
    "    return res"
   ]
  },
  {
   "cell_type": "code",
   "execution_count": 22,
   "id": "34998c18-44fc-4919-9d89-31c9cc2c130e",
   "metadata": {},
   "outputs": [
    {
     "name": "stdout",
     "output_type": "stream",
     "text": [
      "49456/49456 [==============================] - 4988s 101ms/step\n",
      "Accuracy: 0.9140529822415214\n",
      "Precision (macro): 0.8294398122275859\n",
      "Recall (macro): 0.8930638811795426\n",
      "F1-score (macro): 0.8479084646720632\n",
      "\n",
      "Classification report:\n",
      "              precision    recall  f1-score   support\n",
      "\n",
      "     Physics       0.99      0.94      0.97    870462\n",
      " Mathematics       0.91      0.91      0.91    344714\n",
      "Computer Sc.       0.91      0.83      0.87    283762\n",
      "       Other       0.51      0.88      0.64     83630\n",
      "\n",
      "    accuracy                           0.91   1582568\n",
      "   macro avg       0.83      0.89      0.85   1582568\n",
      "weighted avg       0.93      0.91      0.92   1582568\n",
      "\n"
     ]
    }
   ],
   "source": [
    "result_train = evaluate_nn(THIS_MODEL_NAME+VERSION+'train', X_train, y_train)"
   ]
  },
  {
   "cell_type": "code",
   "execution_count": 19,
   "id": "7a7aa00c-3138-4ebc-a781-acf25778c793",
   "metadata": {},
   "outputs": [
    {
     "name": "stdout",
     "output_type": "stream",
     "text": [
      "8728/8728 [==============================] - 869s 100ms/step\n",
      "Accuracy: 0.9070600156833538\n",
      "Precision (macro): 0.8178162288626112\n",
      "Recall (macro): 0.8769358710903262\n",
      "F1-score (macro): 0.8350427587319458\n",
      "\n",
      "Classification report:\n",
      "              precision    recall  f1-score   support\n",
      "\n",
      "     Physics       0.98      0.94      0.96    153261\n",
      " Mathematics       0.90      0.91      0.91     60818\n",
      "Computer Sc.       0.90      0.82      0.86     50476\n",
      "       Other       0.48      0.84      0.61     14722\n",
      "\n",
      "    accuracy                           0.91    279277\n",
      "   macro avg       0.82      0.88      0.84    279277\n",
      "weighted avg       0.93      0.91      0.91    279277\n",
      "\n"
     ]
    }
   ],
   "source": [
    "result_val = evaluate_nn(THIS_MODEL_NAME+VERSION+'_val', X_val, y_val)"
   ]
  },
  {
   "cell_type": "code",
   "execution_count": 20,
   "id": "265718b6-53e3-45ba-a47a-2b7f75db01ff",
   "metadata": {},
   "outputs": [
    {
     "data": {
      "text/html": [
       "<div>\n",
       "<style scoped>\n",
       "    .dataframe tbody tr th:only-of-type {\n",
       "        vertical-align: middle;\n",
       "    }\n",
       "\n",
       "    .dataframe tbody tr th {\n",
       "        vertical-align: top;\n",
       "    }\n",
       "\n",
       "    .dataframe thead th {\n",
       "        text-align: right;\n",
       "    }\n",
       "</style>\n",
       "<table border=\"1\" class=\"dataframe\">\n",
       "  <thead>\n",
       "    <tr style=\"text-align: right;\">\n",
       "      <th></th>\n",
       "      <th>Description</th>\n",
       "      <th>Accuracy</th>\n",
       "      <th>Precision</th>\n",
       "      <th>Recall</th>\n",
       "      <th>F1-score</th>\n",
       "    </tr>\n",
       "  </thead>\n",
       "  <tbody>\n",
       "    <tr>\n",
       "      <th>0</th>\n",
       "      <td>distilBert2_val</td>\n",
       "      <td>0.90706</td>\n",
       "      <td>0.817816</td>\n",
       "      <td>0.876936</td>\n",
       "      <td>0.835043</td>\n",
       "    </tr>\n",
       "  </tbody>\n",
       "</table>\n",
       "</div>"
      ],
      "text/plain": [
       "       Description  Accuracy  Precision    Recall  F1-score\n",
       "0  distilBert2_val   0.90706   0.817816  0.876936  0.835043"
      ]
     },
     "execution_count": 20,
     "metadata": {},
     "output_type": "execute_result"
    }
   ],
   "source": [
    "df_result = pd.DataFrame([result_val])\n",
    "\n",
    "df_result"
   ]
  },
  {
   "cell_type": "code",
   "execution_count": 21,
   "id": "1f75efe7-1da4-4831-a26c-a6ff97d95da3",
   "metadata": {},
   "outputs": [],
   "source": [
    "df_result.to_pickle(RESULT_DIR+'results_'+THIS_MODEL_NAME+VERSION+'.pkl')"
   ]
  }
 ],
 "metadata": {
  "accelerator": "GPU",
  "colab": {
   "provenance": []
  },
  "gpuClass": "standard",
  "kernelspec": {
   "display_name": "Python 3 (ipykernel)",
   "language": "python",
   "name": "python3"
  },
  "language_info": {
   "codemirror_mode": {
    "name": "ipython",
    "version": 3
   },
   "file_extension": ".py",
   "mimetype": "text/x-python",
   "name": "python",
   "nbconvert_exporter": "python",
   "pygments_lexer": "ipython3",
   "version": "3.10.12"
  }
 },
 "nbformat": 4,
 "nbformat_minor": 5
}
