{
 "cells": [
  {
   "cell_type": "markdown",
   "id": "7e9f1aa9-8b60-41b2-a226-0229e068e903",
   "metadata": {},
   "source": [
    "# Train-validation-test split\n",
    "\n",
    "One of the main concerns in every statistical learning project is that of finding a function that describes the training data as closely as possible while, at the same time, being able to generalise well enough on unseen data. To achieve this, measuring the performance of a model on the same data where it has been trained is not enough as this could lead to overfitting, meaning that the function obtained could describe the training data too closely and, at the same time, it may not able to recognise variations brought in by new data.\n",
    "\n",
    "While during a model training phase it might not always be possible to test the model performance on outside data, there are various techniques that can be used to have a fair way to test the model performance. When multiple models are compared with each other, a popular technique is a tree-way split of the data available into a train, validation, and test sets. Each model is fitted on the training set and the performance is measured on the predictions made on the validation set. The validation set is the one used to assess any experimentation. Finally, the test set is used to evaluate the final performance of the model on unseen data.\n",
    "\n",
    "In this notebook, the arXiv dataset is split into these three parts before starting training any of the models. At this point, the indices for each set are saved and referenced on every subsequent steps. This allows\n",
    "efficient data storage while the datasets is used with different data processing techniques, according to the model implemented at each phase. At the same time, there is reassurance that the sets are consistent throughout the project, for a fair comparison among all classifiers."
   ]
  },
  {
   "cell_type": "code",
   "execution_count": 1,
   "id": "44edc258-b3f2-472f-8c5f-e32d28d1e850",
   "metadata": {},
   "outputs": [],
   "source": [
    "import pandas as pd\n",
    "import pickle\n",
    "from sklearn.model_selection import train_test_split"
   ]
  },
  {
   "cell_type": "code",
   "execution_count": 2,
   "id": "c023b2a6-52d0-485d-aa91-29556d333964",
   "metadata": {},
   "outputs": [],
   "source": [
    "SEED = 3742"
   ]
  },
  {
   "cell_type": "code",
   "execution_count": 3,
   "id": "da2d1d73-9266-4645-8e18-d2affb2ad58f",
   "metadata": {},
   "outputs": [],
   "source": [
    "FILE = \"../data/data.parquet.gzip\"\n",
    "data = pd.read_parquet(FILE)"
   ]
  },
  {
   "cell_type": "code",
   "execution_count": 4,
   "id": "2883f775-e32b-40ff-a137-89588936270f",
   "metadata": {},
   "outputs": [],
   "source": [
    "X = data[\"text\"]\n",
    "y = data[\"target\"]"
   ]
  },
  {
   "cell_type": "code",
   "execution_count": 5,
   "id": "ffd632f1-521a-4ea9-81c3-c37fa2c5655a",
   "metadata": {},
   "outputs": [],
   "source": [
    "X_train_val, X_test, y_train_val, y_test = train_test_split(X, y, test_size=0.15, random_state=SEED)\n",
    "\n",
    "X_train, X_val, y_train, y_val = train_test_split(X_train_val, y_train_val, test_size=0.15, random_state=SEED)"
   ]
  },
  {
   "cell_type": "code",
   "execution_count": 6,
   "id": "ce08e066-c0b5-4a28-aff2-dce5c644b53d",
   "metadata": {},
   "outputs": [
    {
     "data": {
      "text/html": [
       "<div>\n",
       "<style scoped>\n",
       "    .dataframe tbody tr th:only-of-type {\n",
       "        vertical-align: middle;\n",
       "    }\n",
       "\n",
       "    .dataframe tbody tr th {\n",
       "        vertical-align: top;\n",
       "    }\n",
       "\n",
       "    .dataframe thead th {\n",
       "        text-align: right;\n",
       "    }\n",
       "</style>\n",
       "<table border=\"1\" class=\"dataframe\">\n",
       "  <thead>\n",
       "    <tr style=\"text-align: right;\">\n",
       "      <th></th>\n",
       "      <th>target</th>\n",
       "      <th>train</th>\n",
       "      <th>val</th>\n",
       "      <th>test</th>\n",
       "      <th>train_perc</th>\n",
       "      <th>val_perc</th>\n",
       "      <th>test_perc</th>\n",
       "    </tr>\n",
       "  </thead>\n",
       "  <tbody>\n",
       "    <tr>\n",
       "      <th>0</th>\n",
       "      <td>0</td>\n",
       "      <td>870462</td>\n",
       "      <td>153261</td>\n",
       "      <td>180999</td>\n",
       "      <td>0.550031</td>\n",
       "      <td>0.548778</td>\n",
       "      <td>0.550882</td>\n",
       "    </tr>\n",
       "    <tr>\n",
       "      <th>1</th>\n",
       "      <td>1</td>\n",
       "      <td>344714</td>\n",
       "      <td>60818</td>\n",
       "      <td>71066</td>\n",
       "      <td>0.217819</td>\n",
       "      <td>0.217769</td>\n",
       "      <td>0.216294</td>\n",
       "    </tr>\n",
       "    <tr>\n",
       "      <th>2</th>\n",
       "      <td>2</td>\n",
       "      <td>283762</td>\n",
       "      <td>50476</td>\n",
       "      <td>59196</td>\n",
       "      <td>0.179305</td>\n",
       "      <td>0.180738</td>\n",
       "      <td>0.180167</td>\n",
       "    </tr>\n",
       "    <tr>\n",
       "      <th>3</th>\n",
       "      <td>3</td>\n",
       "      <td>83630</td>\n",
       "      <td>14722</td>\n",
       "      <td>17301</td>\n",
       "      <td>0.052844</td>\n",
       "      <td>0.052715</td>\n",
       "      <td>0.052657</td>\n",
       "    </tr>\n",
       "  </tbody>\n",
       "</table>\n",
       "</div>"
      ],
      "text/plain": [
       "   target   train     val    test  train_perc  val_perc  test_perc\n",
       "0       0  870462  153261  180999    0.550031  0.548778   0.550882\n",
       "1       1  344714   60818   71066    0.217819  0.217769   0.216294\n",
       "2       2  283762   50476   59196    0.179305  0.180738   0.180167\n",
       "3       3   83630   14722   17301    0.052844  0.052715   0.052657"
      ]
     },
     "execution_count": 6,
     "metadata": {},
     "output_type": "execute_result"
    }
   ],
   "source": [
    "datasets_sizes = pd.concat((y_train.value_counts(), \n",
    "          y_val.value_counts(),\n",
    "          y_test.value_counts(),\n",
    "          ), axis=1)\\\n",
    "        .reset_index()\n",
    "datasets_sizes.columns = [\"target\", \"train\", \"val\" ,\"test\"]\n",
    "\n",
    "relatives = datasets_sizes/datasets_sizes.sum()\n",
    "relatives.drop(\"target\", axis=1, inplace=True)\n",
    "relatives.columns = [\"train_perc\", \"val_perc\" ,\"test_perc\"]\n",
    "datasets_sizes = pd.concat((datasets_sizes,relatives), axis=1)\n",
    "datasets_sizes"
   ]
  },
  {
   "cell_type": "code",
   "execution_count": 7,
   "id": "c7a82d95-ab22-4210-b6a6-30ba2e676026",
   "metadata": {},
   "outputs": [
    {
     "data": {
      "text/plain": [
       "train    1582568\n",
       "val       279277\n",
       "test      328562\n",
       "dtype: int64"
      ]
     },
     "execution_count": 7,
     "metadata": {},
     "output_type": "execute_result"
    }
   ],
   "source": [
    "# totals\n",
    "datasets_sizes.sum().iloc[1:4].astype(int)"
   ]
  },
  {
   "cell_type": "code",
   "execution_count": 2,
   "id": "14de52b2-bbff-49e7-b127-a95a60defa87",
   "metadata": {},
   "outputs": [],
   "source": [
    "!mkdir ../data/wip"
   ]
  },
  {
   "cell_type": "code",
   "execution_count": 8,
   "id": "0a60942b-e8fb-48cc-b4a8-49cc744bb84a",
   "metadata": {},
   "outputs": [],
   "source": [
    "pickle.dump(X_train.index, open(\"../data/wip/train_idx.pkl\", 'wb'))\n",
    "pickle.dump(X_val.index, open(\"../data/wip/val_idx.pkl\", 'wb'))\n",
    "pickle.dump(X_test.index, open(\"../data/wip/test_idx.pkl\", 'wb'))"
   ]
  }
 ],
 "metadata": {
  "kernelspec": {
   "display_name": "Python 3 (ipykernel)",
   "language": "python",
   "name": "python3"
  },
  "language_info": {
   "codemirror_mode": {
    "name": "ipython",
    "version": 3
   },
   "file_extension": ".py",
   "mimetype": "text/x-python",
   "name": "python",
   "nbconvert_exporter": "python",
   "pygments_lexer": "ipython3",
   "version": "3.10.12"
  }
 },
 "nbformat": 4,
 "nbformat_minor": 5
}
