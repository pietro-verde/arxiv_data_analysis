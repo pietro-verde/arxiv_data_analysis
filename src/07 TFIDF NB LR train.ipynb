{
 "cells": [
  {
   "cell_type": "markdown",
   "id": "ccbedf5f-8d7f-46b7-9c87-3206ad673442",
   "metadata": {},
   "source": [
    "# TFIDF NB LR train\n",
    "\n",
    "Naive Bayes and Logistic Regression models are trained using TF-IDF vectors as input. The result of each model is used to obtain preditions from the validation set and analyse the performance of each classifier. "
   ]
  },
  {
   "cell_type": "code",
   "execution_count": 1,
   "id": "9827ae97-71e3-4fc1-867a-fdfa0f890b15",
   "metadata": {},
   "outputs": [],
   "source": [
    "import warnings\n",
    "warnings.filterwarnings(\"ignore\")\n",
    "\n",
    "import numpy as np\n",
    "import os\n",
    "import pandas as pd\n",
    "import pickle\n",
    "from sklearn.naive_bayes import MultinomialNB\n",
    "from sklearn.linear_model import LogisticRegression\n",
    "from sklearn import metrics\n",
    "\n",
    "from trainevalutils import *"
   ]
  },
  {
   "cell_type": "code",
   "execution_count": 2,
   "id": "fd841e41-fd92-4d8c-b861-25340e71379a",
   "metadata": {},
   "outputs": [],
   "source": [
    "target_names = pickle.load(open(\"../data/class_labels_dic.pkl\", 'rb'))"
   ]
  },
  {
   "cell_type": "code",
   "execution_count": 3,
   "id": "074d3cb0-3aab-4cab-927c-d17ca3e8bbee",
   "metadata": {},
   "outputs": [],
   "source": [
    "OUTPUT_NAME = 'results_TFIDF_NBLR-google.pkl'\n",
    "\n",
    "OUTPUT_DIR = '../results/'\n",
    "for dir_ in [OUTPUT_DIR]:\n",
    "    if not os.path.exists(dir_):\n",
    "        os.makedirs(dir_)"
   ]
  },
  {
   "cell_type": "code",
   "execution_count": 4,
   "id": "54ce3103-7458-4ecb-832c-09ef0fed5f9b",
   "metadata": {},
   "outputs": [],
   "source": [
    "X_train_1_1 = pickle.load(open('../data/wip/TFIDF/TFIDF_X_train_1_1.pkl', 'rb'))\n",
    "X_train_1_2 = pickle.load(open('../data/wip/TFIDF/TFIDF_X_train_1_2.pkl', 'rb'))                       \n",
    "y_train = pickle.load(open('../data/wip/TFIDF/TFIDF_y_train.pkl', 'rb'))\n",
    " \n",
    "X_val_1_1 = pickle.load(open('../data/wip/TFIDF/TFIDF_X_val_1_1.pkl', 'rb'))\n",
    "X_val_1_2 = pickle.load(open('../data/wip/TFIDF/TFIDF_X_val_1_2.pkl', 'rb'))                          \n",
    "y_val = pickle.load(open('../data/wip/TFIDF/TFIDF_y_val.pkl', 'rb'))"
   ]
  },
  {
   "cell_type": "code",
   "execution_count": 5,
   "id": "0d8ce142-dd3e-4e00-97c3-7255552fcc06",
   "metadata": {},
   "outputs": [],
   "source": [
    "def run_classifier(clf, model_name):\n",
    "    results = []\n",
    "    model_versions = ['1','2']\n",
    "    X_train_sets = [X_train_1_1, X_train_1_2]\n",
    "    X_val_sets = [X_val_1_1, X_val_1_2]\n",
    "    for mv, Xtr, Xvl in zip(model_versions , X_train_sets, X_val_sets): \n",
    "        clf.fit(Xtr, y_train)\n",
    "        name = model_name+mv\n",
    "        title = name+'_val'\n",
    "        print(\"\\n\"+title+\"\\n\")\n",
    "        result_val = evaluate(title, clf, Xvl, y_val)\n",
    "        results.append(result_val)\n",
    "        print(\"=====================================================\\n\")\n",
    "    return results"
   ]
  },
  {
   "cell_type": "code",
   "execution_count": 6,
   "id": "4a1ff814-49e8-44fb-8643-3acffcdb6015",
   "metadata": {},
   "outputs": [
    {
     "name": "stdout",
     "output_type": "stream",
     "text": [
      "\n",
      "Results of Naive Bayes on the validation set\n",
      "\n",
      "\n",
      "NBtfifd1_val\n",
      "\n",
      "Accuracy: 0.8903239436115398\n",
      "Precision (macro): 0.805928704517044\n",
      "Recall (macro): 0.7995244325816661\n",
      "F1-score (macro): 0.8003980153644861\n",
      "\n",
      "Classification report:\n",
      "              precision    recall  f1-score   support\n",
      "\n",
      "     Physics       0.97      0.93      0.95    153261\n",
      " Mathematics       0.85      0.89      0.87     60818\n",
      "Computer Sc.       0.80      0.89      0.84     50476\n",
      "       Other       0.61      0.49      0.55     14722\n",
      "\n",
      "    accuracy                           0.89    279277\n",
      "   macro avg       0.81      0.80      0.80    279277\n",
      "weighted avg       0.89      0.89      0.89    279277\n",
      "\n",
      "=====================================================\n",
      "\n",
      "\n",
      "NBtfifd2_val\n",
      "\n",
      "Accuracy: 0.8908180766765612\n",
      "Precision (macro): 0.8009309571791775\n",
      "Recall (macro): 0.7984639659822216\n",
      "F1-score (macro): 0.7978496514726086\n",
      "\n",
      "Classification report:\n",
      "              precision    recall  f1-score   support\n",
      "\n",
      "     Physics       0.97      0.93      0.95    153261\n",
      " Mathematics       0.85      0.89      0.87     60818\n",
      "Computer Sc.       0.80      0.88      0.84     50476\n",
      "       Other       0.59      0.49      0.53     14722\n",
      "\n",
      "    accuracy                           0.89    279277\n",
      "   macro avg       0.80      0.80      0.80    279277\n",
      "weighted avg       0.89      0.89      0.89    279277\n",
      "\n",
      "=====================================================\n",
      "\n"
     ]
    }
   ],
   "source": [
    "print(\"\\nResults of Naive Bayes on the validation set\\n\")\n",
    "naivebayes = MultinomialNB()\n",
    "results_nb = run_classifier(naivebayes, 'NBtfifd')"
   ]
  },
  {
   "cell_type": "code",
   "execution_count": 7,
   "id": "7cee1904-0dd6-401e-b328-fb5c8df6f5d5",
   "metadata": {},
   "outputs": [
    {
     "name": "stdout",
     "output_type": "stream",
     "text": [
      "\n",
      "Results of Logistic Regression on the validation set\n",
      "\n",
      "\n",
      "LRtfidf1_val\n",
      "\n",
      "Accuracy: 0.9165273187552143\n",
      "Precision (macro): 0.8455097143859243\n",
      "Recall (macro): 0.8231682215114892\n",
      "F1-score (macro): 0.8324118381611826\n",
      "\n",
      "Classification report:\n",
      "              precision    recall  f1-score   support\n",
      "\n",
      "     Physics       0.96      0.97      0.96    153261\n",
      " Mathematics       0.90      0.91      0.90     60818\n",
      "Computer Sc.       0.86      0.89      0.87     50476\n",
      "       Other       0.66      0.53      0.59     14722\n",
      "\n",
      "    accuracy                           0.92    279277\n",
      "   macro avg       0.85      0.82      0.83    279277\n",
      "weighted avg       0.91      0.92      0.91    279277\n",
      "\n",
      "=====================================================\n",
      "\n",
      "\n",
      "LRtfidf2_val\n",
      "\n",
      "Accuracy: 0.9172219695857518\n",
      "Precision (macro): 0.8456523712730994\n",
      "Recall (macro): 0.8225431512284617\n",
      "F1-score (macro): 0.8320273849055693\n",
      "\n",
      "Classification report:\n",
      "              precision    recall  f1-score   support\n",
      "\n",
      "     Physics       0.96      0.97      0.97    153261\n",
      " Mathematics       0.90      0.91      0.90     60818\n",
      "Computer Sc.       0.86      0.89      0.87     50476\n",
      "       Other       0.66      0.52      0.58     14722\n",
      "\n",
      "    accuracy                           0.92    279277\n",
      "   macro avg       0.85      0.82      0.83    279277\n",
      "weighted avg       0.91      0.92      0.92    279277\n",
      "\n",
      "=====================================================\n",
      "\n"
     ]
    }
   ],
   "source": [
    "print(\"\\nResults of Logistic Regression on the validation set\\n\")\n",
    "logreg = LogisticRegression()\n",
    "results_lr = run_classifier(logreg, 'LRtfidf')"
   ]
  },
  {
   "cell_type": "code",
   "execution_count": 8,
   "id": "8a190b27-682c-43d6-a0a0-78ba77faf730",
   "metadata": {},
   "outputs": [
    {
     "data": {
      "text/html": [
       "<div>\n",
       "<style scoped>\n",
       "    .dataframe tbody tr th:only-of-type {\n",
       "        vertical-align: middle;\n",
       "    }\n",
       "\n",
       "    .dataframe tbody tr th {\n",
       "        vertical-align: top;\n",
       "    }\n",
       "\n",
       "    .dataframe thead th {\n",
       "        text-align: right;\n",
       "    }\n",
       "</style>\n",
       "<table border=\"1\" class=\"dataframe\">\n",
       "  <thead>\n",
       "    <tr style=\"text-align: right;\">\n",
       "      <th></th>\n",
       "      <th>Description</th>\n",
       "      <th>Accuracy</th>\n",
       "      <th>Precision</th>\n",
       "      <th>Recall</th>\n",
       "      <th>F1-score</th>\n",
       "    </tr>\n",
       "  </thead>\n",
       "  <tbody>\n",
       "    <tr>\n",
       "      <th>0</th>\n",
       "      <td>NBtfifd1_val</td>\n",
       "      <td>0.890324</td>\n",
       "      <td>0.805929</td>\n",
       "      <td>0.799524</td>\n",
       "      <td>0.800398</td>\n",
       "    </tr>\n",
       "    <tr>\n",
       "      <th>1</th>\n",
       "      <td>NBtfifd2_val</td>\n",
       "      <td>0.890818</td>\n",
       "      <td>0.800931</td>\n",
       "      <td>0.798464</td>\n",
       "      <td>0.797850</td>\n",
       "    </tr>\n",
       "    <tr>\n",
       "      <th>0</th>\n",
       "      <td>LRtfidf1_val</td>\n",
       "      <td>0.916527</td>\n",
       "      <td>0.845510</td>\n",
       "      <td>0.823168</td>\n",
       "      <td>0.832412</td>\n",
       "    </tr>\n",
       "    <tr>\n",
       "      <th>1</th>\n",
       "      <td>LRtfidf2_val</td>\n",
       "      <td>0.917222</td>\n",
       "      <td>0.845652</td>\n",
       "      <td>0.822543</td>\n",
       "      <td>0.832027</td>\n",
       "    </tr>\n",
       "  </tbody>\n",
       "</table>\n",
       "</div>"
      ],
      "text/plain": [
       "    Description  Accuracy  Precision    Recall  F1-score\n",
       "0  NBtfifd1_val  0.890324   0.805929  0.799524  0.800398\n",
       "1  NBtfifd2_val  0.890818   0.800931  0.798464  0.797850\n",
       "0  LRtfidf1_val  0.916527   0.845510  0.823168  0.832412\n",
       "1  LRtfidf2_val  0.917222   0.845652  0.822543  0.832027"
      ]
     },
     "execution_count": 8,
     "metadata": {},
     "output_type": "execute_result"
    }
   ],
   "source": [
    "df_result = pd.concat([pd.DataFrame(results_nb),\n",
    "                       pd.DataFrame(results_lr)])\n",
    "\n",
    "df_result"
   ]
  },
  {
   "cell_type": "code",
   "execution_count": 9,
   "id": "bf22f1cc-ddff-462c-977d-c596a7bac21b",
   "metadata": {},
   "outputs": [],
   "source": [
    "df_result.to_pickle(OUTPUT_DIR+OUTPUT_NAME)"
   ]
  }
 ],
 "metadata": {
  "kernelspec": {
   "display_name": "Python 3 (ipykernel)",
   "language": "python",
   "name": "python3"
  },
  "language_info": {
   "codemirror_mode": {
    "name": "ipython",
    "version": 3
   },
   "file_extension": ".py",
   "mimetype": "text/x-python",
   "name": "python",
   "nbconvert_exporter": "python",
   "pygments_lexer": "ipython3",
   "version": "3.10.12"
  }
 },
 "nbformat": 4,
 "nbformat_minor": 5
}
